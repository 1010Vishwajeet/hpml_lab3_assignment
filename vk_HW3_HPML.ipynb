{
  "nbformat": 4,
  "nbformat_minor": 0,
  "metadata": {
    "colab": {
      "provenance": [],
      "gpuType": "T4"
    },
    "kernelspec": {
      "name": "python3",
      "display_name": "Python 3"
    },
    "language_info": {
      "name": "python"
    },
    "accelerator": "GPU"
  },
  "cells": [
    {
      "cell_type": "markdown",
      "source": [
        "Name: Vishwajeet Kulkarni\n",
        "\n",
        "Net id: vk2630"
      ],
      "metadata": {
        "id": "gP_XtC4_NKF9"
      }
    },
    {
      "cell_type": "markdown",
      "source": [
        " # Problem 1:\n",
        " Training a simple chatbot using a seq-to-seq model (50 points)"
      ],
      "metadata": {
        "id": "uz1ZPhnnNKDP"
      }
    },
    {
      "cell_type": "code",
      "execution_count": 1,
      "metadata": {
        "id": "KHBTcxHAJ_-N",
        "colab": {
          "base_uri": "https://localhost:8080/"
        },
        "outputId": "82be8b53-e635-4a76-cd1e-ca8be8d39ac0"
      },
      "outputs": [
        {
          "output_type": "stream",
          "name": "stdout",
          "text": [
            "--2025-03-16 02:26:08--  https://zissou.infosci.cornell.edu/convokit/datasets/movie-corpus/movie-corpus.zip\n",
            "Resolving zissou.infosci.cornell.edu (zissou.infosci.cornell.edu)... 128.253.51.179\n",
            "Connecting to zissou.infosci.cornell.edu (zissou.infosci.cornell.edu)|128.253.51.179|:443... connected.\n",
            "HTTP request sent, awaiting response... 200 OK\n",
            "Length: 40854701 (39M) [application/zip]\n",
            "Saving to: ‘data/movie-corpus.zip’\n",
            "\n",
            "data/movie-corpus.z 100%[===================>]  38.96M  24.8MB/s    in 1.6s    \n",
            "\n",
            "2025-03-16 02:26:10 (24.8 MB/s) - ‘data/movie-corpus.zip’ saved [40854701/40854701]\n",
            "\n",
            "Archive:  data/movie-corpus.zip\n",
            "   creating: data/movie-corpus/\n",
            "  inflating: data/movie-corpus/utterances.jsonl  \n",
            "  inflating: data/movie-corpus/conversations.json  \n",
            "  inflating: data/movie-corpus/corpus.json  \n",
            "  inflating: data/movie-corpus/speakers.json  \n",
            "  inflating: data/movie-corpus/index.json  \n"
          ]
        }
      ],
      "source": [
        "!mkdir -p data\n",
        "!wget -O data/movie-corpus.zip https://zissou.infosci.cornell.edu/convokit/datasets/movie-corpus/movie-corpus.zip\n",
        "!unzip -o data/movie-corpus.zip -d data"
      ]
    },
    {
      "cell_type": "code",
      "source": [
        "pip install wandb --upgrade"
      ],
      "metadata": {
        "id": "PzIAvNZVOS4q",
        "colab": {
          "base_uri": "https://localhost:8080/"
        },
        "outputId": "25711af6-8c40-4fcb-e2cb-ebd048a2e966"
      },
      "execution_count": 2,
      "outputs": [
        {
          "output_type": "stream",
          "name": "stdout",
          "text": [
            "Requirement already satisfied: wandb in /usr/local/lib/python3.11/dist-packages (0.19.8)\n",
            "Requirement already satisfied: click!=8.0.0,>=7.1 in /usr/local/lib/python3.11/dist-packages (from wandb) (8.1.8)\n",
            "Requirement already satisfied: docker-pycreds>=0.4.0 in /usr/local/lib/python3.11/dist-packages (from wandb) (0.4.0)\n",
            "Requirement already satisfied: gitpython!=3.1.29,>=1.0.0 in /usr/local/lib/python3.11/dist-packages (from wandb) (3.1.44)\n",
            "Requirement already satisfied: platformdirs in /usr/local/lib/python3.11/dist-packages (from wandb) (4.3.6)\n",
            "Requirement already satisfied: protobuf!=4.21.0,!=5.28.0,<6,>=3.19.0 in /usr/local/lib/python3.11/dist-packages (from wandb) (4.25.6)\n",
            "Requirement already satisfied: psutil>=5.0.0 in /usr/local/lib/python3.11/dist-packages (from wandb) (5.9.5)\n",
            "Requirement already satisfied: pydantic<3,>=2.6 in /usr/local/lib/python3.11/dist-packages (from wandb) (2.10.6)\n",
            "Requirement already satisfied: pyyaml in /usr/local/lib/python3.11/dist-packages (from wandb) (6.0.2)\n",
            "Requirement already satisfied: requests<3,>=2.0.0 in /usr/local/lib/python3.11/dist-packages (from wandb) (2.32.3)\n",
            "Requirement already satisfied: sentry-sdk>=2.0.0 in /usr/local/lib/python3.11/dist-packages (from wandb) (2.22.0)\n",
            "Requirement already satisfied: setproctitle in /usr/local/lib/python3.11/dist-packages (from wandb) (1.3.5)\n",
            "Requirement already satisfied: setuptools in /usr/local/lib/python3.11/dist-packages (from wandb) (75.1.0)\n",
            "Requirement already satisfied: typing-extensions<5,>=4.4 in /usr/local/lib/python3.11/dist-packages (from wandb) (4.12.2)\n",
            "Requirement already satisfied: six>=1.4.0 in /usr/local/lib/python3.11/dist-packages (from docker-pycreds>=0.4.0->wandb) (1.17.0)\n",
            "Requirement already satisfied: gitdb<5,>=4.0.1 in /usr/local/lib/python3.11/dist-packages (from gitpython!=3.1.29,>=1.0.0->wandb) (4.0.12)\n",
            "Requirement already satisfied: annotated-types>=0.6.0 in /usr/local/lib/python3.11/dist-packages (from pydantic<3,>=2.6->wandb) (0.7.0)\n",
            "Requirement already satisfied: pydantic-core==2.27.2 in /usr/local/lib/python3.11/dist-packages (from pydantic<3,>=2.6->wandb) (2.27.2)\n",
            "Requirement already satisfied: charset-normalizer<4,>=2 in /usr/local/lib/python3.11/dist-packages (from requests<3,>=2.0.0->wandb) (3.4.1)\n",
            "Requirement already satisfied: idna<4,>=2.5 in /usr/local/lib/python3.11/dist-packages (from requests<3,>=2.0.0->wandb) (3.10)\n",
            "Requirement already satisfied: urllib3<3,>=1.21.1 in /usr/local/lib/python3.11/dist-packages (from requests<3,>=2.0.0->wandb) (2.3.0)\n",
            "Requirement already satisfied: certifi>=2017.4.17 in /usr/local/lib/python3.11/dist-packages (from requests<3,>=2.0.0->wandb) (2025.1.31)\n",
            "Requirement already satisfied: smmap<6,>=3.0.1 in /usr/local/lib/python3.11/dist-packages (from gitdb<5,>=4.0.1->gitpython!=3.1.29,>=1.0.0->wandb) (5.0.2)\n"
          ]
        }
      ]
    },
    {
      "cell_type": "code",
      "source": [
        "# importing necessary libraries\n",
        "\n",
        "import torch\n",
        "from torch.jit import script, trace\n",
        "import torch.nn as nn\n",
        "import torch.nn.functional as F\n",
        "from torch import optim\n",
        "import csv\n",
        "import random\n",
        "import re\n",
        "import os\n",
        "import unicodedata\n",
        "import codecs\n",
        "from io import open\n",
        "import itertools\n",
        "import math\n",
        "import json\n",
        "import wandb\n",
        "import typing\n",
        "import time\n",
        "import numpy as np\n",
        "import pandas as pd\n",
        "\n",
        "use_cuda = torch.cuda.is_available()\n",
        "device = torch.device(\"cuda\" if use_cuda else \"cpu\")\n",
        "print(device)"
      ],
      "metadata": {
        "id": "3-SazitHOzuf",
        "colab": {
          "base_uri": "https://localhost:8080/"
        },
        "outputId": "75453288-050e-474c-9f7e-ac0252f337ca"
      },
      "execution_count": 3,
      "outputs": [
        {
          "output_type": "stream",
          "name": "stdout",
          "text": [
            "cuda\n"
          ]
        }
      ]
    },
    {
      "cell_type": "markdown",
      "source": [
        "# Loading and Preprocessing the data"
      ],
      "metadata": {
        "id": "vu20CaiUPzaj"
      }
    },
    {
      "cell_type": "code",
      "source": [
        "corpus_name = \"movie-corpus\"\n",
        "corpus = os.path.join(\"data\", corpus_name)\n",
        "\n",
        "def printLines(file, n=10):\n",
        "    with open(file, 'rb') as datafile:\n",
        "        lines = datafile.readlines()\n",
        "    for line in lines[:n]:\n",
        "        print(line)\n",
        "\n",
        "printLines(os.path.join(corpus, \"utterances.jsonl\"))"
      ],
      "metadata": {
        "id": "za7STAZ0OzsS",
        "colab": {
          "base_uri": "https://localhost:8080/"
        },
        "outputId": "9c710f68-b86c-4082-d702-fc29d26d8277"
      },
      "execution_count": 4,
      "outputs": [
        {
          "output_type": "stream",
          "name": "stdout",
          "text": [
            "b'{\"id\": \"L1045\", \"conversation_id\": \"L1044\", \"text\": \"They do not!\", \"speaker\": \"u0\", \"meta\": {\"movie_id\": \"m0\", \"parsed\": [{\"rt\": 1, \"toks\": [{\"tok\": \"They\", \"tag\": \"PRP\", \"dep\": \"nsubj\", \"up\": 1, \"dn\": []}, {\"tok\": \"do\", \"tag\": \"VBP\", \"dep\": \"ROOT\", \"dn\": [0, 2, 3]}, {\"tok\": \"not\", \"tag\": \"RB\", \"dep\": \"neg\", \"up\": 1, \"dn\": []}, {\"tok\": \"!\", \"tag\": \".\", \"dep\": \"punct\", \"up\": 1, \"dn\": []}]}]}, \"reply-to\": \"L1044\", \"timestamp\": null, \"vectors\": []}\\n'\n",
            "b'{\"id\": \"L1044\", \"conversation_id\": \"L1044\", \"text\": \"They do to!\", \"speaker\": \"u2\", \"meta\": {\"movie_id\": \"m0\", \"parsed\": [{\"rt\": 1, \"toks\": [{\"tok\": \"They\", \"tag\": \"PRP\", \"dep\": \"nsubj\", \"up\": 1, \"dn\": []}, {\"tok\": \"do\", \"tag\": \"VBP\", \"dep\": \"ROOT\", \"dn\": [0, 2, 3]}, {\"tok\": \"to\", \"tag\": \"TO\", \"dep\": \"dobj\", \"up\": 1, \"dn\": []}, {\"tok\": \"!\", \"tag\": \".\", \"dep\": \"punct\", \"up\": 1, \"dn\": []}]}]}, \"reply-to\": null, \"timestamp\": null, \"vectors\": []}\\n'\n",
            "b'{\"id\": \"L985\", \"conversation_id\": \"L984\", \"text\": \"I hope so.\", \"speaker\": \"u0\", \"meta\": {\"movie_id\": \"m0\", \"parsed\": [{\"rt\": 1, \"toks\": [{\"tok\": \"I\", \"tag\": \"PRP\", \"dep\": \"nsubj\", \"up\": 1, \"dn\": []}, {\"tok\": \"hope\", \"tag\": \"VBP\", \"dep\": \"ROOT\", \"dn\": [0, 2, 3]}, {\"tok\": \"so\", \"tag\": \"RB\", \"dep\": \"advmod\", \"up\": 1, \"dn\": []}, {\"tok\": \".\", \"tag\": \".\", \"dep\": \"punct\", \"up\": 1, \"dn\": []}]}]}, \"reply-to\": \"L984\", \"timestamp\": null, \"vectors\": []}\\n'\n",
            "b'{\"id\": \"L984\", \"conversation_id\": \"L984\", \"text\": \"She okay?\", \"speaker\": \"u2\", \"meta\": {\"movie_id\": \"m0\", \"parsed\": [{\"rt\": 1, \"toks\": [{\"tok\": \"She\", \"tag\": \"PRP\", \"dep\": \"nsubj\", \"up\": 1, \"dn\": []}, {\"tok\": \"okay\", \"tag\": \"RB\", \"dep\": \"ROOT\", \"dn\": [0, 2]}, {\"tok\": \"?\", \"tag\": \".\", \"dep\": \"punct\", \"up\": 1, \"dn\": []}]}]}, \"reply-to\": null, \"timestamp\": null, \"vectors\": []}\\n'\n",
            "b'{\"id\": \"L925\", \"conversation_id\": \"L924\", \"text\": \"Let\\'s go.\", \"speaker\": \"u0\", \"meta\": {\"movie_id\": \"m0\", \"parsed\": [{\"rt\": 0, \"toks\": [{\"tok\": \"Let\", \"tag\": \"VB\", \"dep\": \"ROOT\", \"dn\": [2, 3]}, {\"tok\": \"\\'s\", \"tag\": \"PRP\", \"dep\": \"nsubj\", \"up\": 2, \"dn\": []}, {\"tok\": \"go\", \"tag\": \"VB\", \"dep\": \"ccomp\", \"up\": 0, \"dn\": [1]}, {\"tok\": \".\", \"tag\": \".\", \"dep\": \"punct\", \"up\": 0, \"dn\": []}]}]}, \"reply-to\": \"L924\", \"timestamp\": null, \"vectors\": []}\\n'\n",
            "b'{\"id\": \"L924\", \"conversation_id\": \"L924\", \"text\": \"Wow\", \"speaker\": \"u2\", \"meta\": {\"movie_id\": \"m0\", \"parsed\": [{\"rt\": 0, \"toks\": [{\"tok\": \"Wow\", \"tag\": \"UH\", \"dep\": \"ROOT\", \"dn\": []}]}]}, \"reply-to\": null, \"timestamp\": null, \"vectors\": []}\\n'\n",
            "b'{\"id\": \"L872\", \"conversation_id\": \"L870\", \"text\": \"Okay -- you\\'re gonna need to learn how to lie.\", \"speaker\": \"u0\", \"meta\": {\"movie_id\": \"m0\", \"parsed\": [{\"rt\": 4, \"toks\": [{\"tok\": \"Okay\", \"tag\": \"UH\", \"dep\": \"intj\", \"up\": 4, \"dn\": []}, {\"tok\": \"--\", \"tag\": \":\", \"dep\": \"punct\", \"up\": 4, \"dn\": []}, {\"tok\": \"you\", \"tag\": \"PRP\", \"dep\": \"nsubj\", \"up\": 4, \"dn\": []}, {\"tok\": \"\\'re\", \"tag\": \"VBP\", \"dep\": \"aux\", \"up\": 4, \"dn\": []}, {\"tok\": \"gon\", \"tag\": \"VBG\", \"dep\": \"ROOT\", \"dn\": [0, 1, 2, 3, 6, 12]}, {\"tok\": \"na\", \"tag\": \"TO\", \"dep\": \"aux\", \"up\": 6, \"dn\": []}, {\"tok\": \"need\", \"tag\": \"VB\", \"dep\": \"xcomp\", \"up\": 4, \"dn\": [5, 8]}, {\"tok\": \"to\", \"tag\": \"TO\", \"dep\": \"aux\", \"up\": 8, \"dn\": []}, {\"tok\": \"learn\", \"tag\": \"VB\", \"dep\": \"xcomp\", \"up\": 6, \"dn\": [7, 11]}, {\"tok\": \"how\", \"tag\": \"WRB\", \"dep\": \"advmod\", \"up\": 11, \"dn\": []}, {\"tok\": \"to\", \"tag\": \"TO\", \"dep\": \"aux\", \"up\": 11, \"dn\": []}, {\"tok\": \"lie\", \"tag\": \"VB\", \"dep\": \"xcomp\", \"up\": 8, \"dn\": [9, 10]}, {\"tok\": \".\", \"tag\": \".\", \"dep\": \"punct\", \"up\": 4, \"dn\": []}]}]}, \"reply-to\": \"L871\", \"timestamp\": null, \"vectors\": []}\\n'\n",
            "b'{\"id\": \"L871\", \"conversation_id\": \"L870\", \"text\": \"No\", \"speaker\": \"u2\", \"meta\": {\"movie_id\": \"m0\", \"parsed\": [{\"rt\": 0, \"toks\": [{\"tok\": \"No\", \"tag\": \"UH\", \"dep\": \"ROOT\", \"dn\": []}]}]}, \"reply-to\": \"L870\", \"timestamp\": null, \"vectors\": []}\\n'\n",
            "b'{\"id\": \"L870\", \"conversation_id\": \"L870\", \"text\": \"I\\'m kidding.  You know how sometimes you just become this \\\\\"persona\\\\\"?  And you don\\'t know how to quit?\", \"speaker\": \"u0\", \"meta\": {\"movie_id\": \"m0\", \"parsed\": [{\"rt\": 2, \"toks\": [{\"tok\": \"I\", \"tag\": \"PRP\", \"dep\": \"nsubj\", \"up\": 2, \"dn\": []}, {\"tok\": \"\\'m\", \"tag\": \"VBP\", \"dep\": \"aux\", \"up\": 2, \"dn\": []}, {\"tok\": \"kidding\", \"tag\": \"VBG\", \"dep\": \"ROOT\", \"dn\": [0, 1, 3]}, {\"tok\": \".\", \"tag\": \".\", \"dep\": \"punct\", \"up\": 2, \"dn\": [4]}, {\"tok\": \" \", \"tag\": \"_SP\", \"dep\": \"\", \"up\": 3, \"dn\": []}]}, {\"rt\": 1, \"toks\": [{\"tok\": \"You\", \"tag\": \"PRP\", \"dep\": \"nsubj\", \"up\": 1, \"dn\": []}, {\"tok\": \"know\", \"tag\": \"VBP\", \"dep\": \"ROOT\", \"dn\": [0, 6, 11]}, {\"tok\": \"how\", \"tag\": \"WRB\", \"dep\": \"advmod\", \"up\": 3, \"dn\": []}, {\"tok\": \"sometimes\", \"tag\": \"RB\", \"dep\": \"advmod\", \"up\": 6, \"dn\": [2]}, {\"tok\": \"you\", \"tag\": \"PRP\", \"dep\": \"nsubj\", \"up\": 6, \"dn\": []}, {\"tok\": \"just\", \"tag\": \"RB\", \"dep\": \"advmod\", \"up\": 6, \"dn\": []}, {\"tok\": \"become\", \"tag\": \"VBP\", \"dep\": \"ccomp\", \"up\": 1, \"dn\": [3, 4, 5, 9]}, {\"tok\": \"this\", \"tag\": \"DT\", \"dep\": \"det\", \"up\": 9, \"dn\": []}, {\"tok\": \"\\\\\"\", \"tag\": \"``\", \"dep\": \"punct\", \"up\": 9, \"dn\": []}, {\"tok\": \"persona\", \"tag\": \"NN\", \"dep\": \"attr\", \"up\": 6, \"dn\": [7, 8, 10]}, {\"tok\": \"\\\\\"\", \"tag\": \"\\'\\'\", \"dep\": \"punct\", \"up\": 9, \"dn\": []}, {\"tok\": \"?\", \"tag\": \".\", \"dep\": \"punct\", \"up\": 1, \"dn\": [12]}, {\"tok\": \" \", \"tag\": \"_SP\", \"dep\": \"\", \"up\": 11, \"dn\": []}]}, {\"rt\": 4, \"toks\": [{\"tok\": \"And\", \"tag\": \"CC\", \"dep\": \"cc\", \"up\": 4, \"dn\": []}, {\"tok\": \"you\", \"tag\": \"PRP\", \"dep\": \"nsubj\", \"up\": 4, \"dn\": []}, {\"tok\": \"do\", \"tag\": \"VBP\", \"dep\": \"aux\", \"up\": 4, \"dn\": []}, {\"tok\": \"n\\'t\", \"tag\": \"RB\", \"dep\": \"neg\", \"up\": 4, \"dn\": []}, {\"tok\": \"know\", \"tag\": \"VB\", \"dep\": \"ROOT\", \"dn\": [0, 1, 2, 3, 7, 8]}, {\"tok\": \"how\", \"tag\": \"WRB\", \"dep\": \"advmod\", \"up\": 7, \"dn\": []}, {\"tok\": \"to\", \"tag\": \"TO\", \"dep\": \"aux\", \"up\": 7, \"dn\": []}, {\"tok\": \"quit\", \"tag\": \"VB\", \"dep\": \"xcomp\", \"up\": 4, \"dn\": [5, 6]}, {\"tok\": \"?\", \"tag\": \".\", \"dep\": \"punct\", \"up\": 4, \"dn\": []}]}]}, \"reply-to\": null, \"timestamp\": null, \"vectors\": []}\\n'\n",
            "b'{\"id\": \"L869\", \"conversation_id\": \"L866\", \"text\": \"Like my fear of wearing pastels?\", \"speaker\": \"u0\", \"meta\": {\"movie_id\": \"m0\", \"parsed\": [{\"rt\": 0, \"toks\": [{\"tok\": \"Like\", \"tag\": \"IN\", \"dep\": \"ROOT\", \"dn\": [2, 6]}, {\"tok\": \"my\", \"tag\": \"PRP$\", \"dep\": \"poss\", \"up\": 2, \"dn\": []}, {\"tok\": \"fear\", \"tag\": \"NN\", \"dep\": \"pobj\", \"up\": 0, \"dn\": [1, 3]}, {\"tok\": \"of\", \"tag\": \"IN\", \"dep\": \"prep\", \"up\": 2, \"dn\": [4]}, {\"tok\": \"wearing\", \"tag\": \"VBG\", \"dep\": \"pcomp\", \"up\": 3, \"dn\": [5]}, {\"tok\": \"pastels\", \"tag\": \"NNS\", \"dep\": \"dobj\", \"up\": 4, \"dn\": []}, {\"tok\": \"?\", \"tag\": \".\", \"dep\": \"punct\", \"up\": 0, \"dn\": []}]}]}, \"reply-to\": \"L868\", \"timestamp\": null, \"vectors\": []}\\n'\n"
          ]
        }
      ]
    },
    {
      "cell_type": "markdown",
      "source": [
        "# Creating formatted DataFile"
      ],
      "metadata": {
        "id": "FP_pbhm1QOZY"
      }
    },
    {
      "cell_type": "code",
      "source": [
        "# Splits each line of the file to create lines and conversations\n",
        "def loadLinesAndConversations(fileName):\n",
        "    lines = {}\n",
        "    conversations = {}\n",
        "    with open(fileName, 'r', encoding='iso-8859-1') as f:\n",
        "        for line in f:\n",
        "            lineJson = json.loads(line)\n",
        "            # Extract fields for line object\n",
        "            lineObj = {}\n",
        "            lineObj[\"lineID\"] = lineJson[\"id\"]\n",
        "            lineObj[\"characterID\"] = lineJson[\"speaker\"]\n",
        "            lineObj[\"text\"] = lineJson[\"text\"]\n",
        "            lines[lineObj['lineID']] = lineObj\n",
        "\n",
        "            # Extract fields for conversation object\n",
        "            if lineJson[\"conversation_id\"] not in conversations:\n",
        "                convObj = {}\n",
        "                convObj[\"conversationID\"] = lineJson[\"conversation_id\"]\n",
        "                convObj[\"movieID\"] = lineJson[\"meta\"][\"movie_id\"]\n",
        "                convObj[\"lines\"] = [lineObj]\n",
        "            else:\n",
        "                convObj = conversations[lineJson[\"conversation_id\"]]\n",
        "                convObj[\"lines\"].insert(0, lineObj)\n",
        "            conversations[convObj[\"conversationID\"]] = convObj\n",
        "\n",
        "    return lines, conversations\n",
        "\n",
        "\n",
        "# Extracts pairs of sentences from conversations\n",
        "def extractSentencePairs(conversations):\n",
        "    qa_pairs = []\n",
        "    for conversation in conversations.values():\n",
        "        # Iterate over all the lines of the conversation\n",
        "        for i in range(len(conversation[\"lines\"]) - 1):  # We ignore the last line (no answer for it)\n",
        "            inputLine = conversation[\"lines\"][i][\"text\"].strip()\n",
        "            targetLine = conversation[\"lines\"][i+1][\"text\"].strip()\n",
        "            # Filter wrong samples (if one of the lists is empty)\n",
        "            if inputLine and targetLine:\n",
        "                qa_pairs.append([inputLine, targetLine])\n",
        "    return qa_pairs"
      ],
      "metadata": {
        "id": "0UjiR7ZOOzpt"
      },
      "execution_count": 5,
      "outputs": []
    },
    {
      "cell_type": "code",
      "source": [
        "# Define path to new file\n",
        "datafile = os.path.join(corpus, \"formatted_movie_lines.txt\")\n",
        "\n",
        "delimiter = '\\t'\n",
        "# Unescape the delimiter\n",
        "delimiter = str(codecs.decode(delimiter, \"unicode_escape\"))\n",
        "\n",
        "# Initialize lines dict and conversations dict\n",
        "lines = {}\n",
        "conversations = {}\n",
        "# Load lines and conversations\n",
        "print(\"\\nProcessing corpus into lines and conversations...\")\n",
        "lines, conversations = loadLinesAndConversations(os.path.join(corpus, \"utterances.jsonl\"))\n",
        "\n",
        "# Write new csv file\n",
        "print(\"\\nWriting newly formatted file...\")\n",
        "with open(datafile, 'w', encoding='utf-8') as outputfile:\n",
        "    writer = csv.writer(outputfile, delimiter=delimiter, lineterminator='\\n')\n",
        "    for pair in extractSentencePairs(conversations):\n",
        "        writer.writerow(pair)\n",
        "\n",
        "# Print a sample of lines\n",
        "print(\"\\nSample lines from file:\")\n",
        "printLines(datafile)"
      ],
      "metadata": {
        "colab": {
          "base_uri": "https://localhost:8080/"
        },
        "id": "_NwdbPomOzmx",
        "outputId": "d9e9a2f7-187b-4a0d-bab5-4ffe28ab9fd9"
      },
      "execution_count": 6,
      "outputs": [
        {
          "output_type": "stream",
          "name": "stdout",
          "text": [
            "\n",
            "Processing corpus into lines and conversations...\n",
            "\n",
            "Writing newly formatted file...\n",
            "\n",
            "Sample lines from file:\n",
            "b'They do to!\\tThey do not!\\n'\n",
            "b'She okay?\\tI hope so.\\n'\n",
            "b\"Wow\\tLet's go.\\n\"\n",
            "b'\"I\\'m kidding.  You know how sometimes you just become this \"\"persona\"\"?  And you don\\'t know how to quit?\"\\tNo\\n'\n",
            "b\"No\\tOkay -- you're gonna need to learn how to lie.\\n\"\n",
            "b\"I figured you'd get to the good stuff eventually.\\tWhat good stuff?\\n\"\n",
            "b'What good stuff?\\t\"The \"\"real you\"\".\"\\n'\n",
            "b'\"The \"\"real you\"\".\"\\tLike my fear of wearing pastels?\\n'\n",
            "b'do you listen to this crap?\\tWhat crap?\\n'\n",
            "b\"What crap?\\tMe.  This endless ...blonde babble. I'm like, boring myself.\\n\"\n"
          ]
        }
      ]
    },
    {
      "cell_type": "markdown",
      "source": [
        "# Loading and trimming the data"
      ],
      "metadata": {
        "id": "tXZdox7HRi90"
      }
    },
    {
      "cell_type": "code",
      "source": [
        "# Default word tokens\n",
        "PAD_token = 0  # Used for padding short sentences\n",
        "SOS_token = 1  # Start-of-sentence token\n",
        "EOS_token = 2  # End-of-sentence token\n",
        "\n",
        "class Voc:\n",
        "    def __init__(self, name):\n",
        "        self.name = name\n",
        "        self.trimmed = False\n",
        "        self.word2index = {}\n",
        "        self.word2count = {}\n",
        "        self.index2word = {PAD_token: \"PAD\", SOS_token: \"SOS\", EOS_token: \"EOS\"}\n",
        "        self.num_words = 3  # Count SOS, EOS, PAD\n",
        "\n",
        "    def addSentence(self, sentence):\n",
        "        for word in sentence.split(' '):\n",
        "            self.addWord(word)\n",
        "\n",
        "    def addWord(self, word):\n",
        "        if word not in self.word2index:\n",
        "            self.word2index[word] = self.num_words\n",
        "            self.word2count[word] = 1\n",
        "            self.index2word[self.num_words] = word\n",
        "            self.num_words += 1\n",
        "        else:\n",
        "            self.word2count[word] += 1\n",
        "\n",
        "    # Remove words below a certain count threshold\n",
        "    def trim(self, min_count):\n",
        "        if self.trimmed:\n",
        "            return\n",
        "        self.trimmed = True\n",
        "\n",
        "        keep_words = []\n",
        "\n",
        "        for k, v in self.word2count.items():\n",
        "            if v >= min_count:\n",
        "                keep_words.append(k)\n",
        "\n",
        "        print('keep_words {} / {} = {:.4f}'.format(\n",
        "            len(keep_words), len(self.word2index), len(keep_words) / len(self.word2index)\n",
        "        ))\n",
        "\n",
        "        # Reinitialize dictionaries\n",
        "        self.word2index = {}\n",
        "        self.word2count = {}\n",
        "        self.index2word = {PAD_token: \"PAD\", SOS_token: \"SOS\", EOS_token: \"EOS\"}\n",
        "        self.num_words = 3 # Count default tokens\n",
        "\n",
        "        for word in keep_words:\n",
        "            self.addWord(word)"
      ],
      "metadata": {
        "id": "GFirHvgjOzkO"
      },
      "execution_count": 7,
      "outputs": []
    },
    {
      "cell_type": "code",
      "source": [
        "MAX_LENGTH = 10  # Maximum sentence length to consider\n",
        "\n",
        "# Turn a Unicode string to plain ASCII, thanks to\n",
        "# https://stackoverflow.com/a/518232/2809427\n",
        "def unicodeToAscii(s):\n",
        "    return ''.join(\n",
        "        c for c in unicodedata.normalize('NFD', s)\n",
        "        if unicodedata.category(c) != 'Mn'\n",
        "    )\n",
        "\n",
        "# Lowercase, trim, and remove non-letter characters\n",
        "def normalizeString(s):\n",
        "    s = unicodeToAscii(s.lower().strip())\n",
        "    s = re.sub(r\"([.!?])\", r\" \\1\", s)\n",
        "    s = re.sub(r\"[^a-zA-Z.!?]+\", r\" \", s)\n",
        "    s = re.sub(r\"\\s+\", r\" \", s).strip()\n",
        "    return s\n",
        "\n",
        "# Read query/response pairs and return a voc object\n",
        "def readVocs(datafile, corpus_name):\n",
        "    print(\"Reading lines...\")\n",
        "    # Read the file and split into lines\n",
        "    lines = open(datafile, encoding='utf-8').\\\n",
        "        read().strip().split('\\n')\n",
        "    # Split every line into pairs and normalize\n",
        "    pairs = [[normalizeString(s) for s in l.split('\\t')] for l in lines]\n",
        "    voc = Voc(corpus_name)\n",
        "    return voc, pairs\n",
        "\n",
        "# Returns True if both sentences in a pair 'p' are under the MAX_LENGTH threshold\n",
        "def filterPair(p):\n",
        "    # Input sequences need to preserve the last word for EOS token\n",
        "    return len(p[0].split(' ')) < MAX_LENGTH and len(p[1].split(' ')) < MAX_LENGTH\n",
        "\n",
        "# Filter pairs using the ``filterPair`` condition\n",
        "def filterPairs(pairs):\n",
        "    return [pair for pair in pairs if filterPair(pair)]\n",
        "\n",
        "# Using the functions defined above, return a populated voc object and pairs list\n",
        "def loadPrepareData(corpus, corpus_name, datafile, save_dir):\n",
        "    print(\"Start preparing training data ...\")\n",
        "    voc, pairs = readVocs(datafile, corpus_name)\n",
        "    print(\"Read {!s} sentence pairs\".format(len(pairs)))\n",
        "    pairs = filterPairs(pairs)\n",
        "    print(\"Trimmed to {!s} sentence pairs\".format(len(pairs)))\n",
        "    print(\"Counting words...\")\n",
        "    for pair in pairs:\n",
        "        voc.addSentence(pair[0])\n",
        "        voc.addSentence(pair[1])\n",
        "    print(\"Counted words:\", voc.num_words)\n",
        "    return voc, pairs\n",
        "\n",
        "\n",
        "# Load/Assemble voc and pairs\n",
        "save_dir = os.path.join(\"data\", \"save\")\n",
        "voc, pairs = loadPrepareData(corpus, corpus_name, datafile, save_dir)\n",
        "# Print some pairs to validate\n",
        "print(\"\\npairs:\")\n",
        "for pair in pairs[:10]:\n",
        "    print(pair)"
      ],
      "metadata": {
        "colab": {
          "base_uri": "https://localhost:8080/"
        },
        "id": "WEXajUFtOzhY",
        "outputId": "cd0943af-97c3-4317-900a-f8d6bc873018"
      },
      "execution_count": 8,
      "outputs": [
        {
          "output_type": "stream",
          "name": "stdout",
          "text": [
            "Start preparing training data ...\n",
            "Reading lines...\n",
            "Read 221282 sentence pairs\n",
            "Trimmed to 64313 sentence pairs\n",
            "Counting words...\n",
            "Counted words: 18082\n",
            "\n",
            "pairs:\n",
            "['they do to !', 'they do not !']\n",
            "['she okay ?', 'i hope so .']\n",
            "['wow', 'let s go .']\n",
            "['what good stuff ?', 'the real you .']\n",
            "['the real you .', 'like my fear of wearing pastels ?']\n",
            "['do you listen to this crap ?', 'what crap ?']\n",
            "['well no . . .', 'then that s all you had to say .']\n",
            "['then that s all you had to say .', 'but']\n",
            "['but', 'you always been this selfish ?']\n",
            "['have fun tonight ?', 'tons']\n"
          ]
        }
      ]
    },
    {
      "cell_type": "code",
      "source": [
        "MIN_COUNT = 3    # Minimum word count threshold for trimming\n",
        "\n",
        "def trimRareWords(voc, pairs, MIN_COUNT):\n",
        "    # Trim words used under the MIN_COUNT from the voc\n",
        "    voc.trim(MIN_COUNT)\n",
        "    # Filter out pairs with trimmed words\n",
        "    keep_pairs = []\n",
        "    for pair in pairs:\n",
        "        input_sentence = pair[0]\n",
        "        output_sentence = pair[1]\n",
        "        keep_input = True\n",
        "        keep_output = True\n",
        "        # Check input sentence\n",
        "        for word in input_sentence.split(' '):\n",
        "            if word not in voc.word2index:\n",
        "                keep_input = False\n",
        "                break\n",
        "        # Check output sentence\n",
        "        for word in output_sentence.split(' '):\n",
        "            if word not in voc.word2index:\n",
        "                keep_output = False\n",
        "                break\n",
        "\n",
        "        # Only keep pairs that do not contain trimmed word(s) in their input or output sentence\n",
        "        if keep_input and keep_output:\n",
        "            keep_pairs.append(pair)\n",
        "\n",
        "    print(\"Trimmed from {} pairs to {}, {:.4f} of total\".format(len(pairs), len(keep_pairs), len(keep_pairs) / len(pairs)))\n",
        "    return keep_pairs\n",
        "\n",
        "\n",
        "# Trim voc and pairs\n",
        "pairs = trimRareWords(voc, pairs, MIN_COUNT)"
      ],
      "metadata": {
        "colab": {
          "base_uri": "https://localhost:8080/"
        },
        "id": "4kf11mUDSb98",
        "outputId": "b0dcaaac-40c4-4ca6-fe38-006605ddefd6"
      },
      "execution_count": 9,
      "outputs": [
        {
          "output_type": "stream",
          "name": "stdout",
          "text": [
            "keep_words 7833 / 18079 = 0.4333\n",
            "Trimmed from 64313 pairs to 53131, 0.8261 of total\n"
          ]
        }
      ]
    },
    {
      "cell_type": "markdown",
      "source": [
        "# Preparing the data for model training"
      ],
      "metadata": {
        "id": "IKKhCHz6TM-d"
      }
    },
    {
      "cell_type": "code",
      "source": [
        "def indexesFromSentence(voc, sentence):\n",
        "    return [voc.word2index[word] for word in sentence.split(' ')] + [EOS_token]\n",
        "\n",
        "\n",
        "def zeroPadding(l, fillvalue=PAD_token):\n",
        "    return list(itertools.zip_longest(*l, fillvalue=fillvalue))\n",
        "\n",
        "def binaryMatrix(l, value=PAD_token):\n",
        "    m = []\n",
        "    for i, seq in enumerate(l):\n",
        "        m.append([])\n",
        "        for token in seq:\n",
        "            if token == PAD_token:\n",
        "                m[i].append(0)\n",
        "            else:\n",
        "                m[i].append(1)\n",
        "    return m\n",
        "\n",
        "# Returns padded input sequence tensor and lengths\n",
        "def inputVar(l, voc):\n",
        "    indexes_batch = [indexesFromSentence(voc, sentence) for sentence in l]\n",
        "    lengths = torch.tensor([len(indexes) for indexes in indexes_batch])\n",
        "    padList = zeroPadding(indexes_batch)\n",
        "    padVar = torch.LongTensor(padList)\n",
        "    return padVar, lengths\n",
        "\n",
        "# Returns padded target sequence tensor, padding mask, and max target length\n",
        "def outputVar(l, voc):\n",
        "    indexes_batch = [indexesFromSentence(voc, sentence) for sentence in l]\n",
        "    max_target_len = max([len(indexes) for indexes in indexes_batch])\n",
        "    padList = zeroPadding(indexes_batch)\n",
        "    mask = binaryMatrix(padList)\n",
        "    mask = torch.BoolTensor(mask)\n",
        "    padVar = torch.LongTensor(padList)\n",
        "    return padVar, mask, max_target_len\n",
        "\n",
        "# Returns all items for a given batch of pairs\n",
        "def batch2TrainData(voc, pair_batch):\n",
        "    pair_batch.sort(key=lambda x: len(x[0].split(\" \")), reverse=True)\n",
        "    input_batch, output_batch = [], []\n",
        "    for pair in pair_batch:\n",
        "        input_batch.append(pair[0])\n",
        "        output_batch.append(pair[1])\n",
        "    inp, lengths = inputVar(input_batch, voc)\n",
        "    output, mask, max_target_len = outputVar(output_batch, voc)\n",
        "    return inp, lengths, output, mask, max_target_len\n",
        "\n",
        "\n",
        "# Example for validation\n",
        "small_batch_size = 5\n",
        "batches = batch2TrainData(voc, [random.choice(pairs) for _ in range(small_batch_size)])\n",
        "input_variable, lengths, target_variable, mask, max_target_len = batches\n",
        "\n",
        "print(\"input_variable:\", input_variable)\n",
        "print(\"lengths:\", lengths)\n",
        "print(\"target_variable:\", target_variable)\n",
        "print(\"mask:\", mask)\n",
        "print(\"max_target_len:\", max_target_len)"
      ],
      "metadata": {
        "colab": {
          "base_uri": "https://localhost:8080/"
        },
        "id": "DL85_fr_OzfA",
        "outputId": "d5fb6f71-fa16-4f48-f651-871dd9709254"
      },
      "execution_count": 10,
      "outputs": [
        {
          "output_type": "stream",
          "name": "stdout",
          "text": [
            "input_variable: tensor([[ 994,   19,  401,   11,   19],\n",
            "        [  11,    4,   24,  251,   17],\n",
            "        [ 208,   24,  648, 2673,   22],\n",
            "        [ 135,  265,   92,    5,  578],\n",
            "        [  48,  239,  101,   36,   10],\n",
            "        [  84,   36,   72,   14,    2],\n",
            "        [  31,   10,   10,    2,    0],\n",
            "        [ 140,    2,    2,    0,    0],\n",
            "        [   2,    0,    0,    0,    0]])\n",
            "lengths: tensor([9, 8, 8, 7, 6])\n",
            "target_variable: tensor([[ 128,   93,    9, 1595,   11],\n",
            "        [  24,   19,   14,   24,   44],\n",
            "        [  64,   24,    2,   64,    5],\n",
            "        [6223,   83,    0, 1346,  359],\n",
            "        [  79,   11,    0,    6,   26],\n",
            "        [  70,  265,    0,    2,  304],\n",
            "        [   2,   14,    0,    0,   14],\n",
            "        [   0,    2,    0,    0,    2]])\n",
            "mask: tensor([[ True,  True,  True,  True,  True],\n",
            "        [ True,  True,  True,  True,  True],\n",
            "        [ True,  True,  True,  True,  True],\n",
            "        [ True,  True, False,  True,  True],\n",
            "        [ True,  True, False,  True,  True],\n",
            "        [ True,  True, False,  True,  True],\n",
            "        [ True,  True, False, False,  True],\n",
            "        [False,  True, False, False,  True]])\n",
            "max_target_len: 8\n"
          ]
        }
      ]
    },
    {
      "cell_type": "markdown",
      "source": [
        "# Defining our models\n",
        "\n",
        "# Seq2Seq Model\n"
      ],
      "metadata": {
        "id": "pXdY_-VCUJgn"
      }
    },
    {
      "cell_type": "markdown",
      "source": [
        "# Encoder:\n"
      ],
      "metadata": {
        "id": "9r--EtSYXkxR"
      }
    },
    {
      "cell_type": "code",
      "source": [
        "class EncoderRNN(nn.Module):\n",
        "    def __init__(self, hidden_size, embedding, n_layers=1, dropout=0):\n",
        "        super(EncoderRNN, self).__init__()\n",
        "        self.n_layers = n_layers\n",
        "        self.hidden_size = hidden_size\n",
        "        self.embedding = embedding\n",
        "\n",
        "        # Initialize GRU; the input_size and hidden_size parameters are both set to 'hidden_size'\n",
        "        #   because our input size is a word embedding with number of features == hidden_size\n",
        "        self.gru = nn.GRU(hidden_size, hidden_size, n_layers,dropout=dropout, bidirectional=True)\n",
        "\n",
        "    def forward(self, input_seq : torch.Tensor, input_lengths : torch.Tensor):\n",
        "        # shape[0] = num_layers * num_directions\n",
        "        # Initiating hidden with zeros\n",
        "        hidden = torch.zeros(self.n_layers * 2, input_seq.shape[1], self.hidden_size).to(input_seq.device)\n",
        "        # Convert word indexes to embeddings\n",
        "        embedded = self.embedding(input_seq)\n",
        "        # Pack padded batch of sequences for RNN module\n",
        "        packed = nn.utils.rnn.pack_padded_sequence(embedded, input_lengths)\n",
        "        # Forward pass through GRU\n",
        "        outputs, hidden = self.gru(packed, hidden)\n",
        "        # Unpack padding\n",
        "        outputs, _ = nn.utils.rnn.pad_packed_sequence(outputs)\n",
        "        # Sum bidirectional GRU outputs\n",
        "        outputs = outputs[:, :, :self.hidden_size] + outputs[:, : ,self.hidden_size:]\n",
        "        # Return output and final hidden state\n",
        "        return outputs, hidden"
      ],
      "metadata": {
        "id": "zQhAs8g7Ozci"
      },
      "execution_count": 11,
      "outputs": []
    },
    {
      "cell_type": "markdown",
      "source": [
        "# Decoder\n",
        "\n",
        "# Luong et al (Global Attention)\n"
      ],
      "metadata": {
        "id": "yVnRu5YkmbJT"
      }
    },
    {
      "cell_type": "code",
      "source": [
        "# Luong attention layer\n",
        "class Attn(nn.Module):\n",
        "    def __init__(self, method, hidden_size):\n",
        "        super(Attn, self).__init__()\n",
        "        self.method = method\n",
        "        if self.method not in ['dot', 'general', 'concat']:\n",
        "            raise ValueError(self.method, \"is not an appropriate attention method.\")\n",
        "        self.hidden_size = hidden_size\n",
        "        self.attn = nn.Linear(self.hidden_size, hidden_size)\n",
        "        self.v = nn.Parameter(torch.FloatTensor(hidden_size))\n",
        "\n",
        "    def dot_score(self, hidden, encoder_output):\n",
        "        return torch.sum(hidden * encoder_output, dim=2)\n",
        "\n",
        "    def general_score(self, hidden, encoder_output):\n",
        "        energy = self.attn(encoder_output)\n",
        "        return torch.sum(hidden * energy, dim=2)\n",
        "\n",
        "    def concat_score(self, hidden, encoder_output):\n",
        "        energy = self.attn(torch.cat((hidden.expand(encoder_output.size(0), -1, -1), encoder_output), 2)).tanh()\n",
        "        return torch.sum(self.v * energy, dim=2)\n",
        "\n",
        "    def forward(self, hidden, encoder_outputs):\n",
        "        # Calculate the attention weights (energies) based on the given method\n",
        "        # Initialize attn_energies\n",
        "        attn_energies = torch.randn(1,1,1)\n",
        "        if self.method == 'general':\n",
        "            attn_energies = self.general_score(hidden, encoder_outputs)\n",
        "        elif self.method == 'concat':\n",
        "            attn_energies = self.concat_score(hidden, encoder_outputs)\n",
        "        elif self.method == 'dot':\n",
        "            attn_energies = self.dot_score(hidden, encoder_outputs)\n",
        "\n",
        "        # Transpose max_length and batch_size dimensions\n",
        "        attn_energies = attn_energies.t()\n",
        "\n",
        "        # Return the softmax normalized probability scores (with added dimension)\n",
        "        return F.softmax(attn_energies, dim=1).unsqueeze(1)\n",
        "\n"
      ],
      "metadata": {
        "id": "LrnL5sI_OzaR"
      },
      "execution_count": 12,
      "outputs": []
    },
    {
      "cell_type": "markdown",
      "source": [
        "# Luong Attention Decoder\n"
      ],
      "metadata": {
        "id": "yWNPiq8QofR0"
      }
    },
    {
      "cell_type": "code",
      "source": [
        "class LuongAttnDecoderRNN(nn.Module):\n",
        "    def __init__(self, attn_model, embedding, hidden_size, output_size, n_layers=1, dropout=0.1):\n",
        "        super(LuongAttnDecoderRNN, self).__init__()\n",
        "\n",
        "        # Keep for reference\n",
        "        self.attn_model = attn_model\n",
        "        self.hidden_size = hidden_size\n",
        "        self.output_size = output_size\n",
        "        self.n_layers = n_layers\n",
        "        self.dropout = dropout\n",
        "\n",
        "        # Define layers\n",
        "        self.embedding = embedding\n",
        "        self.embedding_dropout = nn.Dropout(dropout)\n",
        "        self.gru = nn.GRU(hidden_size, hidden_size, n_layers, dropout=(0 if n_layers == 1 else dropout))\n",
        "        self.concat = nn.Linear(hidden_size * 2, hidden_size)\n",
        "        self.out = nn.Linear(hidden_size, output_size)\n",
        "\n",
        "        self.attn = Attn(attn_model, hidden_size)\n",
        "\n",
        "    def forward(self, input_step : torch.Tensor, last_hidden : torch.Tensor, encoder_outputs : torch.Tensor):\n",
        "        # Note: we run this one step (word) at a time\n",
        "        # Get embedding of current input word\n",
        "        embedded = self.embedding(input_step)\n",
        "        embedded = self.embedding_dropout(embedded)\n",
        "        # Forward through unidirectional GRU\n",
        "        rnn_output, hidden = self.gru(embedded, last_hidden)\n",
        "        # Calculate attention weights from the current GRU output\n",
        "        attn_weights = self.attn(rnn_output, encoder_outputs)\n",
        "        # Multiply attention weights to encoder outputs to get new \"weighted sum\" context vector\n",
        "        context = attn_weights.bmm(encoder_outputs.transpose(0, 1))\n",
        "        # Concatenate weighted context vector and GRU output using Luong eq. 5\n",
        "        rnn_output = rnn_output.squeeze(0)\n",
        "        context = context.squeeze(1)\n",
        "        concat_input = torch.cat((rnn_output, context), 1)\n",
        "        concat_output = torch.tanh(self.concat(concat_input))\n",
        "        # Predict next word using Luong eq. 6\n",
        "        output = self.out(concat_output)\n",
        "        output = F.softmax(output, dim=1)\n",
        "        # Return output and final hidden state\n",
        "        return output, hidden"
      ],
      "metadata": {
        "id": "0tn4_zviofDF"
      },
      "execution_count": 13,
      "outputs": []
    },
    {
      "cell_type": "markdown",
      "source": [
        "# Define Training Procedure"
      ],
      "metadata": {
        "id": "ZQaoyqazo1Ft"
      }
    },
    {
      "cell_type": "markdown",
      "source": [
        "# Masked Loss\n"
      ],
      "metadata": {
        "id": "znjJy-VppAcb"
      }
    },
    {
      "cell_type": "code",
      "source": [
        "def maskNLLLoss(inp, target, mask):\n",
        "  nTotal = mask.sum()\n",
        "  crossEntropy = -torch.log(torch.gather(inp, 1, target.view(-1, 1)).squeeze(1))\n",
        "  loss = crossEntropy.masked_select(mask).mean()\n",
        "  loss = loss.to(device)\n",
        "  return loss, nTotal.item()"
      ],
      "metadata": {
        "id": "SGvt7l7hOzX0"
      },
      "execution_count": 14,
      "outputs": []
    },
    {
      "cell_type": "markdown",
      "source": [
        "# Single Training Iteration"
      ],
      "metadata": {
        "id": "RibvGUvW3nKO"
      }
    },
    {
      "cell_type": "code",
      "source": [
        "def train(input_variable, lengths, target_variable, mask, max_target_len, encoder, decoder, embedding, encoder_optimizer, decoder_optimizer, batch_size, clip,teacher_forcing_ratio, max_length=MAX_LENGTH):\n",
        "\n",
        "  # Zero Gradients\n",
        "  encoder_optimizer.zero_grad()\n",
        "  decoder_optimizer.zero_grad()\n",
        "\n",
        "  # Set device options\n",
        "  input_variable = input_variable.to(device)\n",
        "  target_variable = target_variable.to(device)\n",
        "  mask = mask.to(device)\n",
        "\n",
        "  # Lengths for RNN packing should always be on the CPU\n",
        "  lengths = lengths.to(\"cpu\")\n",
        "\n",
        "  # Initialize variables\n",
        "  loss = 0\n",
        "  print_losses = []\n",
        "  n_totals = 0\n",
        "\n",
        "  # Forward pass through encoder\n",
        "\n",
        "  encoder_outputs, encoder_hidden = encoder(input_variable, lengths)\n",
        "\n",
        "  # Create initial decoder input (start with SOS tokens for each sentence)\n",
        "  decoder_input = torch.LongTensor([[SOS_token for _ in range(batch_size)]])\n",
        "  decoder_input = decoder_input.to(device)\n",
        "\n",
        "  # Set initial decoder hidden state to the encoder's final hidden state\n",
        "  decoder_hidden = encoder_hidden[:decoder.n_layers]\n",
        "\n",
        "  # Determine if we are using teacher forcing this iteration\n",
        "  use_teacher_forcing = True if random.random() < teacher_forcing_ratio else False\n",
        "\n",
        "  # Forward batch of sequences through decoder one time step at a time\n",
        "  if use_teacher_forcing:\n",
        "      for t in range(max_target_len):\n",
        "          decoder_output, decoder_hidden = decoder(\n",
        "              decoder_input, decoder_hidden, encoder_outputs\n",
        "          )\n",
        "          # Teacher forcing: next input is current target\n",
        "          decoder_input = target_variable[t].view(1, -1)\n",
        "          # Calculate and accumulate loss\n",
        "          mask_loss, nTotal = maskNLLLoss(decoder_output, target_variable[t], mask[t])\n",
        "          loss += mask_loss\n",
        "          print_losses.append(mask_loss.item() * nTotal)\n",
        "          n_totals += nTotal\n",
        "  else:\n",
        "      for t in range(max_target_len):\n",
        "          decoder_output, decoder_hidden = decoder(\n",
        "              decoder_input, decoder_hidden, encoder_outputs\n",
        "          )\n",
        "          # No teacher forcing: next input is decoder's own current output\n",
        "          _, topi = decoder_output.topk(1)\n",
        "          decoder_input = torch.LongTensor([[topi[i][0] for i in range(batch_size)]])\n",
        "          decoder_input = decoder_input.to(device)\n",
        "          # Calculate and accumulate loss\n",
        "          mask_loss, nTotal = maskNLLLoss(decoder_output, target_variable[t], mask[t])\n",
        "          loss += mask_loss\n",
        "          print_losses.append(mask_loss.item() * nTotal)\n",
        "          n_totals += nTotal\n",
        "\n",
        "  # Record loss\n",
        "  wandb.log({\"loss\": loss.item()})\n",
        "\n",
        "  # Perform backpropagation\n",
        "  loss.backward()\n",
        "\n",
        "  # Clip gradients: gradients are modified in place\n",
        "  _ = nn.utils.clip_grad_norm_(encoder.parameters(), clip)\n",
        "  _ = nn.utils.clip_grad_norm_(decoder.parameters(), clip)\n",
        "\n",
        "  # Adjust model weights\n",
        "  encoder_optimizer.step()\n",
        "  decoder_optimizer.step()\n",
        "\n",
        "  return sum(print_losses) / n_totals"
      ],
      "metadata": {
        "id": "B_MnSh7vOzVL"
      },
      "execution_count": 15,
      "outputs": []
    },
    {
      "cell_type": "markdown",
      "source": [
        "# Training iterations\n"
      ],
      "metadata": {
        "id": "9QAgz0YL7KFF"
      }
    },
    {
      "cell_type": "code",
      "source": [
        "def trainIters(model_name, voc, pairs, encoder, decoder, encoder_optimizer, decoder_optimizer, embedding, encoder_n_layers, decoder_n_layers, save_dir, n_iteration, batch_size, print_every, save_every, clip, corpus_name,teacher_forcing_ratio, profile=False, save_model = False):\n",
        "\n",
        "    # Load batches for each iteration\n",
        "    training_batches = [batch2TrainData(voc, [random.choice(pairs) for _ in range(batch_size)])\n",
        "                      for _ in range(n_iteration)]\n",
        "\n",
        "    # Initializations\n",
        "    print('Initializing ...')\n",
        "    start_iteration = 1\n",
        "    print_loss = 0\n",
        "\n",
        "    # Training loop\n",
        "    print(\"Training...\")\n",
        "\n",
        "    # Code for profiling\n",
        "    if profile:\n",
        "        myprofiler = torch.profiler.profile(\n",
        "                schedule=torch.profiler.schedule(wait=1, warmup=10, active=10, repeat=1),\n",
        "                on_trace_ready=torch.profiler.tensorboard_trace_handler(f'./profiler_logs/{wandb.run.name}.log'),\n",
        "                record_shapes=True,\n",
        "                with_stack=True)\n",
        "        # Start the profiler\n",
        "        myprofiler.start()\n",
        "\n",
        "    for iteration in range(start_iteration, n_iteration + 1):\n",
        "\n",
        "\n",
        "        training_batch = training_batches[iteration - 1]\n",
        "        # Extract fields from batch\n",
        "        input_variable, lengths, target_variable, mask, max_target_len = training_batch\n",
        "\n",
        "        # Run a training iteration with batch\n",
        "        loss = train(input_variable, lengths, target_variable, mask, max_target_len, encoder,\n",
        "                     decoder, embedding, encoder_optimizer, decoder_optimizer, batch_size, clip, teacher_forcing_ratio)\n",
        "        print_loss += loss\n",
        "\n",
        "        if profile:\n",
        "            myprofiler.step()\n",
        "\n",
        "        # Print progress\n",
        "        if iteration % print_every == 0:\n",
        "            print_loss_avg = print_loss / print_every\n",
        "            print(\"\\rIteration: {}; Percent complete: {:.1f}%; Average loss: {:.4f}\".format(iteration, iteration / n_iteration * 100, print_loss_avg),  end=\"\", flush=True)\n",
        "            print_loss = 0\n",
        "\n",
        "    # End the profiler\n",
        "    if profile:\n",
        "        myprofiler.stop()\n",
        "\n",
        "    if save_model:\n",
        "        directory = os.path.join(save_dir, model_name, corpus_name, '{}'.format(wandb.run.name))\n",
        "        if not os.path.exists(directory):\n",
        "            os.makedirs(directory)\n",
        "        torch.save({\n",
        "            'iteration': iteration,\n",
        "            'en': encoder.state_dict(),\n",
        "            'de': decoder.state_dict(),\n",
        "            'en_opt': encoder_optimizer.state_dict(),\n",
        "            'de_opt': decoder_optimizer.state_dict(),\n",
        "            'loss': loss,\n",
        "            'voc_dict': voc.__dict__,\n",
        "            'embedding': embedding.state_dict()\n",
        "        }, os.path.join(directory, '{}_{}.tar'.format(iteration, 'checkpoint')))\n"
      ],
      "metadata": {
        "id": "uQQ3mGfwOzSJ"
      },
      "execution_count": 16,
      "outputs": []
    },
    {
      "cell_type": "markdown",
      "source": [
        "# Define Evaluation"
      ],
      "metadata": {
        "id": "BXG13guJ85Zw"
      }
    },
    {
      "cell_type": "markdown",
      "source": [
        "# Greedy Decoding\n"
      ],
      "metadata": {
        "id": "a3Zo0jbT9ig5"
      }
    },
    {
      "cell_type": "code",
      "source": [
        "class GreedySearchDecoder(nn.Module):\n",
        "    def __init__(self, encoder, decoder):\n",
        "        super(GreedySearchDecoder, self).__init__()\n",
        "        self.encoder = encoder\n",
        "        self.decoder = decoder\n",
        "    def forward(self, input_seq : torch.Tensor, input_length : torch.Tensor, max_length : int):\n",
        "        # Forward input through encoder model\n",
        "        encoder_outputs, encoder_hidden = self.encoder(input_seq, input_length)\n",
        "        # Prepare encoder's final hidden layer to be first hidden input to the decoder\n",
        "        decoder_hidden = encoder_hidden[:self.decoder.n_layers]\n",
        "        # Initialize decoder input with SOS_token\n",
        "        batch_size = input_seq.shape[1]\n",
        "        device = input_seq.device\n",
        "        SOS_token = 1\n",
        "        decoder_input = torch.ones(1, batch_size, device=device, dtype=torch.long) * SOS_token\n",
        "        # Initialize tensors to append decoded words to\n",
        "        all_tokens = torch.zeros([0], device=device, dtype=torch.long)\n",
        "        all_scores = torch.zeros([0], device=device)\n",
        "        # Iteratively decode one word token at a time\n",
        "        for _ in range(max_length):\n",
        "            # Forward pass through decoder\n",
        "            decoder_output, decoder_hidden = self.decoder(decoder_input, decoder_hidden, encoder_outputs)\n",
        "            # Obtain most likely word token and its softmax score\n",
        "            decoder_scores, decoder_input = torch.max(decoder_output, dim=1)\n",
        "            # Record token and score\n",
        "            all_tokens = torch.cat((all_tokens, decoder_input), dim=0)\n",
        "            all_scores = torch.cat((all_scores, decoder_scores), dim=0)\n",
        "            # Prepare current token to be next decoder input (add a dimension)\n",
        "            decoder_input = torch.unsqueeze(decoder_input, 0)\n",
        "        # Return collections of word tokens and scores\n",
        "        return all_tokens, all_scores"
      ],
      "metadata": {
        "id": "oJ1fNVTNNwMR"
      },
      "execution_count": 17,
      "outputs": []
    },
    {
      "cell_type": "markdown",
      "source": [
        "# Evaluating the text"
      ],
      "metadata": {
        "id": "_m8JfGSr_HYD"
      }
    },
    {
      "cell_type": "code",
      "source": [
        "def evaluate(encoder, decoder, searcher, voc, sentence, max_length = MAX_LENGTH):\n",
        "\n",
        "  # words -> indexes\n",
        "  indexes_batch = [indexesFromSentence(voc, sentence)]\n",
        "\n",
        "  # creating length tensors\n",
        "  lengths = torch.tensors(len(indexes) for indexes in indexes_batch)\n",
        "\n",
        "  # transposing dimesnions of batch to match model's expectations\n",
        "  input_batch = torch.LongTensor(indexes_batch).transpose(0,1)\n",
        "\n",
        "  input_batch = input_batch.to(device)\n",
        "  lengths = lengths.to(\"cpu\")\n",
        "\n",
        "  # decode sentence with searcher\n",
        "  tokens, scores = searcher(input_batch, lengths, max_length)\n",
        "\n",
        "  # indexes -> words\n",
        "  decoded_words = [voc.index2word[token.item()] for token in tokens]\n",
        "\n",
        "  return decoded_words\n",
        "\n",
        "def evaluateTrainData(searcher, eval_batches, n_iteration, device, max_length=MAX_LENGTH):\n",
        "    time_diffs = []\n",
        "    searcher = searcher.to(device)\n",
        "    for iteration in range(n_iteration):\n",
        "        training_batch = eval_batches[iteration]\n",
        "        input_variable, lengths, target_variable, mask, max_target_len = training_batch\n",
        "        input_variable = input_variable.to(device)\n",
        "        if iteration > 5:\n",
        "            torch.cuda.synchronize()\n",
        "            start = time.monotonic_ns()\n",
        "        with torch.no_grad():\n",
        "\n",
        "                output = searcher(input_variable, lengths, max_length)\n",
        "        if iteration > 5:\n",
        "            torch.cuda.synchronize()\n",
        "            end = time.monotonic_ns()\n",
        "        if iteration > 5:\n",
        "            time_diffs.append(end-start)\n",
        "    return np.array(time_diffs) / 1e6\n",
        "\n",
        "def evaluateInput(encoder, decoder, searcher, voc):\n",
        "  input_sentence = \"\"\n",
        "\n",
        "  while(1):\n",
        "    try:\n",
        "      input_sentence = input(\"> \")\n",
        "      print(\"USER:\", input_sentence)\n",
        "\n",
        "      if input_sentence == \"q\" or input_sentence == \"quit\":\n",
        "        break\n",
        "\n",
        "      # Normalizing sentence\n",
        "      input_sentence = normalizeString(input_sentence)\n",
        "\n",
        "      output_words = evaluate(encoder, decoder, searcher, voc, input_sentence)\n",
        "\n",
        "      # Formatting and print response sentence\n",
        "      output_words[:] = [x for x in output_words if not (x == 'EOS' or x == 'PAD')]\n",
        "      print('Bot:', ' '.join(output_words))\n",
        "\n",
        "    except KeyError:\n",
        "      print(\"Unknown word!\")"
      ],
      "metadata": {
        "id": "h2W-NB8NOleS"
      },
      "execution_count": 18,
      "outputs": []
    },
    {
      "cell_type": "code",
      "source": [
        "def train_wandb(config=None, profile = False, save_model = False):\n",
        "    run = wandb.init(project=\"LAB3_HPML\", entity=\"vk2630-new-york-universtity\", config = config)\n",
        "    config = wandb.config if config is None else config\n",
        "    model_name = 'cb_model'\n",
        "    attn_model = 'dot'\n",
        "    #``attn_model = 'general'``\n",
        "    #``attn_model = 'concat'``\n",
        "    hidden_size = 500\n",
        "    encoder_n_layers = 2\n",
        "    decoder_n_layers = 2\n",
        "    dropout = 0.1\n",
        "    batch_size = 64\n",
        "\n",
        "    print('Building encoder and decoder ...')\n",
        "\n",
        "    embedding = nn.Embedding(voc.num_words, hidden_size)\n",
        "\n",
        "    encoder = EncoderRNN(hidden_size, embedding, encoder_n_layers, dropout)\n",
        "    decoder = LuongAttnDecoderRNN(attn_model, embedding, hidden_size, voc.num_words, decoder_n_layers, dropout)\n",
        "\n",
        "    encoder = encoder.to(device)\n",
        "    decoder = decoder.to(device)\n",
        "    print('Models being build.')\n",
        "\n",
        "    clip = config.clip\n",
        "    teacher_forcing_ratio = config.tf_ratio\n",
        "    learning_rate = config.lr\n",
        "    decoder_learning_ratio = config.decoder_lrn_ratio\n",
        "    n_iteration = 4000\n",
        "    print_every = 1\n",
        "    save_every = 500\n",
        "\n",
        "    encoder.train()\n",
        "    decoder.train()\n",
        "\n",
        "    # Initialize optimizers\n",
        "    print('Building optimizers ...')\n",
        "    optimizer_fn = optim.Adam if config.optimizer == \"adam\" else optim.SGD\n",
        "    encoder_optimizer = optimizer_fn(encoder.parameters(), lr=learning_rate)\n",
        "    decoder_optimizer = optimizer_fn(decoder.parameters(), lr=learning_rate * decoder_learning_ratio)\n",
        "\n",
        "    # Configure CUDA to call\n",
        "    for state in encoder_optimizer.state.values():\n",
        "        for k, v in state.items():\n",
        "            if isinstance(v, torch.Tensor):\n",
        "                state[k] = v.cuda()\n",
        "\n",
        "    for state in decoder_optimizer.state.values():\n",
        "        for k, v in state.items():\n",
        "            if isinstance(v, torch.Tensor):\n",
        "                state[k] = v.cuda()\n",
        "\n",
        "    # Run training iterations\n",
        "    print(\"Starting Training!\")\n",
        "    trainIters(model_name, voc, pairs, encoder, decoder, encoder_optimizer, decoder_optimizer, embedding, encoder_n_layers, decoder_n_layers, save_dir, n_iteration, batch_size, print_every, save_every, clip, corpus_name, teacher_forcing_ratio, profile, save_model)\n",
        "\n",
        "    # Finishing wandb training\n",
        "    wandb.finish()\n",
        "\n",
        "    return encoder, decoder"
      ],
      "metadata": {
        "id": "JAVuSyY3jpTG"
      },
      "execution_count": 31,
      "outputs": []
    },
    {
      "cell_type": "markdown",
      "source": [
        "# Run the model"
      ],
      "metadata": {
        "id": "3lnt-6ENC6zv"
      }
    },
    {
      "cell_type": "code",
      "source": [
        "!wandb login --relogin"
      ],
      "metadata": {
        "colab": {
          "base_uri": "https://localhost:8080/"
        },
        "id": "XuvkJIk9Kw2X",
        "outputId": "099aeb0c-ad1d-4a1e-d704-1b8b06a91401"
      },
      "execution_count": 29,
      "outputs": [
        {
          "output_type": "stream",
          "name": "stdout",
          "text": [
            "\u001b[34m\u001b[1mwandb\u001b[0m: Logging into wandb.ai. (Learn how to deploy a W&B server locally: https://wandb.me/wandb-server)\n",
            "\u001b[34m\u001b[1mwandb\u001b[0m: You can find your API key in your browser here: https://wandb.ai/authorize\n",
            "\u001b[34m\u001b[1mwandb\u001b[0m: Paste an API key from your profile and hit enter, or press ctrl+c to quit: \n",
            "\u001b[34m\u001b[1mwandb\u001b[0m: Appending key for api.wandb.ai to your netrc file: /root/.netrc\n",
            "\u001b[34m\u001b[1mwandb\u001b[0m: W&B API key is configured. Use \u001b[1m`wandb login --relogin`\u001b[0m to force relogin\n"
          ]
        }
      ]
    },
    {
      "cell_type": "markdown",
      "source": [
        "# Running Training"
      ],
      "metadata": {
        "id": "L9dHnf7NDhTN"
      }
    },
    {
      "cell_type": "code",
      "source": [
        "from dataclasses import dataclass\n",
        "\n",
        "@dataclass\n",
        "\n",
        "class Config:\n",
        "  lr: float\n",
        "  optimizer: str\n",
        "  clip: float\n",
        "  tf_ratio: float\n",
        "  decoder_lrn_ratio: float\n",
        "\n",
        "encoder, decoder = train_wandb(Config(lr = 0.0001, optimizer = \"adam\", clip = 0.0, tf_ratio = 0.0, decoder_lrn_ratio = 1.0), profile = True, save_model = True)"
      ],
      "metadata": {
        "colab": {
          "base_uri": "https://localhost:8080/",
          "height": 532
        },
        "id": "gD5vxRfPOzHQ",
        "outputId": "263c91d7-70d0-4e66-8815-583e2581b14a"
      },
      "execution_count": 32,
      "outputs": [
        {
          "output_type": "display_data",
          "data": {
            "text/plain": [
              "<IPython.core.display.HTML object>"
            ],
            "text/html": [
              "Tracking run with wandb version 0.19.8"
            ]
          },
          "metadata": {}
        },
        {
          "output_type": "display_data",
          "data": {
            "text/plain": [
              "<IPython.core.display.HTML object>"
            ],
            "text/html": [
              "Run data is saved locally in <code>/content/wandb/run-20250316_024124-bpmqe6od</code>"
            ]
          },
          "metadata": {}
        },
        {
          "output_type": "display_data",
          "data": {
            "text/plain": [
              "<IPython.core.display.HTML object>"
            ],
            "text/html": [
              "Syncing run <strong><a href='https://wandb.ai/vk2630-new-york-universtity/LAB3_HPML/runs/bpmqe6od' target=\"_blank\">summer-dawn-1</a></strong> to <a href='https://wandb.ai/vk2630-new-york-universtity/LAB3_HPML' target=\"_blank\">Weights & Biases</a> (<a href='https://wandb.me/developer-guide' target=\"_blank\">docs</a>)<br>"
            ]
          },
          "metadata": {}
        },
        {
          "output_type": "display_data",
          "data": {
            "text/plain": [
              "<IPython.core.display.HTML object>"
            ],
            "text/html": [
              " View project at <a href='https://wandb.ai/vk2630-new-york-universtity/LAB3_HPML' target=\"_blank\">https://wandb.ai/vk2630-new-york-universtity/LAB3_HPML</a>"
            ]
          },
          "metadata": {}
        },
        {
          "output_type": "display_data",
          "data": {
            "text/plain": [
              "<IPython.core.display.HTML object>"
            ],
            "text/html": [
              " View run at <a href='https://wandb.ai/vk2630-new-york-universtity/LAB3_HPML/runs/bpmqe6od' target=\"_blank\">https://wandb.ai/vk2630-new-york-universtity/LAB3_HPML/runs/bpmqe6od</a>"
            ]
          },
          "metadata": {}
        },
        {
          "output_type": "stream",
          "name": "stdout",
          "text": [
            "Building encoder and decoder ...\n",
            "Models being build.\n",
            "Building optimizers ...\n",
            "Starting Training!\n",
            "Initializing ...\n",
            "Training...\n",
            "Iteration: 4000; Percent complete: 100.0%; Average loss: 8.9733"
          ]
        },
        {
          "output_type": "display_data",
          "data": {
            "text/plain": [
              "<IPython.core.display.HTML object>"
            ],
            "text/html": []
          },
          "metadata": {}
        },
        {
          "output_type": "display_data",
          "data": {
            "text/plain": [
              "<IPython.core.display.HTML object>"
            ],
            "text/html": [
              "<br>    <style><br>        .wandb-row {<br>            display: flex;<br>            flex-direction: row;<br>            flex-wrap: wrap;<br>            justify-content: flex-start;<br>            width: 100%;<br>        }<br>        .wandb-col {<br>            display: flex;<br>            flex-direction: column;<br>            flex-basis: 100%;<br>            flex: 1;<br>            padding: 10px;<br>        }<br>    </style><br><div class=\"wandb-row\"><div class=\"wandb-col\"><h3>Run history:</h3><br/><table class=\"wandb\"><tr><td>loss</td><td>▆▅▆█▄▆▂▆▅▇▅█▇▄▃▄▁▆▂▆▆▇▅▇▃▇█▅▅▅▅█▄▇▆▆▃▆▅▂</td></tr></table><br/></div><div class=\"wandb-col\"><h3>Run summary:</h3><br/><table class=\"wandb\"><tr><td>loss</td><td>89.70099</td></tr></table><br/></div></div>"
            ]
          },
          "metadata": {}
        },
        {
          "output_type": "display_data",
          "data": {
            "text/plain": [
              "<IPython.core.display.HTML object>"
            ],
            "text/html": [
              " View run <strong style=\"color:#cdcd00\">summer-dawn-1</strong> at: <a href='https://wandb.ai/vk2630-new-york-universtity/LAB3_HPML/runs/bpmqe6od' target=\"_blank\">https://wandb.ai/vk2630-new-york-universtity/LAB3_HPML/runs/bpmqe6od</a><br> View project at: <a href='https://wandb.ai/vk2630-new-york-universtity/LAB3_HPML' target=\"_blank\">https://wandb.ai/vk2630-new-york-universtity/LAB3_HPML</a><br>Synced 5 W&B file(s), 0 media file(s), 0 artifact file(s) and 0 other file(s)"
            ]
          },
          "metadata": {}
        },
        {
          "output_type": "display_data",
          "data": {
            "text/plain": [
              "<IPython.core.display.HTML object>"
            ],
            "text/html": [
              "Find logs at: <code>./wandb/run-20250316_024124-bpmqe6od/logs</code>"
            ]
          },
          "metadata": {}
        }
      ]
    },
    {
      "cell_type": "code",
      "source": [
        "encoder.eval()\n",
        "decoder.eval()\n",
        "n_iteration = 100\n",
        "random.seed(1234)\n",
        "eval_batches = [batch2TrainData(voc, [random.choice(pairs) for _ in range(64)]) for _ in range(n_iteration)]"
      ],
      "metadata": {
        "id": "YrlctrLpOzEB"
      },
      "execution_count": 33,
      "outputs": []
    },
    {
      "cell_type": "code",
      "source": [
        "# Initializing search modules\n",
        "search = GreedySearchDecoder(encoder, decoder)\n",
        "# print(my_search)\n",
        "gpu = evaluateTrainData(search, eval_batches, n_iteration, \"cuda\")\n",
        "gpu.mean()"
      ],
      "metadata": {
        "id": "QNvNJQpmOzBf",
        "colab": {
          "base_uri": "https://localhost:8080/"
        },
        "outputId": "e6b48ad8-e30b-44bc-e4c9-efdca16571b1"
      },
      "execution_count": 34,
      "outputs": [
        {
          "output_type": "execute_result",
          "data": {
            "text/plain": [
              "10.838052085106384"
            ]
          },
          "metadata": {},
          "execution_count": 34
        }
      ]
    },
    {
      "cell_type": "code",
      "source": [
        "cpu = evaluateTrainData(search, eval_batches, n_iteration, \"cpu\")\n",
        "cpu.mean()"
      ],
      "metadata": {
        "id": "AR_NQYxOOy-9",
        "colab": {
          "base_uri": "https://localhost:8080/"
        },
        "outputId": "d0f85688-d8ec-4b58-97ab-f577afb93d22"
      },
      "execution_count": 35,
      "outputs": [
        {
          "output_type": "execute_result",
          "data": {
            "text/plain": [
              "345.456430925532"
            ]
          },
          "metadata": {},
          "execution_count": 35
        }
      ]
    },
    {
      "cell_type": "code",
      "source": [
        "# Set dropout layers to ``eval`` mode\n",
        "encoder.eval()\n",
        "decoder.eval()\n",
        "\n",
        "# Initialize search module\n",
        "searcher = GreedySearchDecoder(encoder, decoder)"
      ],
      "metadata": {
        "id": "83IwFcrMOy6w"
      },
      "execution_count": 36,
      "outputs": []
    },
    {
      "cell_type": "markdown",
      "source": [
        "# W&B Random Search Sweep"
      ],
      "metadata": {
        "id": "EAU1T9_rp0QN"
      }
    },
    {
      "cell_type": "code",
      "source": [
        "sweep_config = {\n",
        "    'method': 'random',\n",
        "    'name': 'Lab3-sweep',\n",
        "    'metric': {\n",
        "      'goal': 'minimize',\n",
        "      'name': 'loss'\n",
        "    },\n",
        "    'parameters': {\n",
        "        'lr': {\n",
        "            'values': [0.0001, 0.00025, 0.0005, 0.001]\n",
        "        },\n",
        "        'optimizer': {\n",
        "            'values': [\"adam\", \"sgd\"]\n",
        "        },\n",
        "        'clip': {\n",
        "            'values': [0, 25, 50, 100]\n",
        "        },\n",
        "        'tf_ratio': {\n",
        "            'values': [0, 0.5, 1.0]\n",
        "        },\n",
        "        \"decoder_lrn_ratio\":{\n",
        "            \"values\": [1.0, 3.0, 5.0, 10.0]\n",
        "        }\n",
        "    },\n",
        "}\n",
        "\n",
        "# Initialize the sweep\n",
        "sweep_id = wandb.sweep(sweep = sweep_config, project=\"LAB3_HPML\")"
      ],
      "metadata": {
        "id": "sOp_ohUipu9G",
        "colab": {
          "base_uri": "https://localhost:8080/"
        },
        "outputId": "638c958d-1429-4d23-fbae-b72afa458fe1"
      },
      "execution_count": 38,
      "outputs": [
        {
          "output_type": "stream",
          "name": "stdout",
          "text": [
            "Create sweep with ID: ty76xct2\n",
            "Sweep URL: https://wandb.ai/vk2630-new-york-universtity/LAB3_HPML/sweeps/ty76xct2\n"
          ]
        }
      ]
    },
    {
      "cell_type": "code",
      "source": [
        "# Run the sweep\n",
        "wandb.agent(sweep_id, function = train_wandb, count = 25)"
      ],
      "metadata": {
        "colab": {
          "base_uri": "https://localhost:8080/",
          "height": 1000
        },
        "id": "ZZwpqqU113ke",
        "outputId": "a7dd9c29-0e18-46db-d867-30eb305c9548",
        "collapsed": true
      },
      "execution_count": 39,
      "outputs": [
        {
          "output_type": "stream",
          "name": "stderr",
          "text": [
            "\u001b[34m\u001b[1mwandb\u001b[0m: Agent Starting Run: i65ctp4g with config:\n",
            "\u001b[34m\u001b[1mwandb\u001b[0m: \tclip: 100\n",
            "\u001b[34m\u001b[1mwandb\u001b[0m: \tdecoder_lrn_ratio: 5\n",
            "\u001b[34m\u001b[1mwandb\u001b[0m: \tlr: 0.00025\n",
            "\u001b[34m\u001b[1mwandb\u001b[0m: \toptimizer: sgd\n",
            "\u001b[34m\u001b[1mwandb\u001b[0m: \ttf_ratio: 1\n"
          ]
        },
        {
          "output_type": "display_data",
          "data": {
            "text/plain": [
              "<IPython.core.display.HTML object>"
            ],
            "text/html": [
              "Ignoring project 'LAB3_HPML' when running a sweep."
            ]
          },
          "metadata": {}
        },
        {
          "output_type": "display_data",
          "data": {
            "text/plain": [
              "<IPython.core.display.HTML object>"
            ],
            "text/html": [
              "Ignoring entity 'vk2630-new-york-universtity' when running a sweep."
            ]
          },
          "metadata": {}
        },
        {
          "output_type": "display_data",
          "data": {
            "text/plain": [
              "<IPython.core.display.HTML object>"
            ],
            "text/html": [
              "Tracking run with wandb version 0.19.8"
            ]
          },
          "metadata": {}
        },
        {
          "output_type": "display_data",
          "data": {
            "text/plain": [
              "<IPython.core.display.HTML object>"
            ],
            "text/html": [
              "Run data is saved locally in <code>/content/wandb/run-20250316_024838-i65ctp4g</code>"
            ]
          },
          "metadata": {}
        },
        {
          "output_type": "display_data",
          "data": {
            "text/plain": [
              "<IPython.core.display.HTML object>"
            ],
            "text/html": [
              "Syncing run <strong><a href='https://wandb.ai/vk2630-new-york-universtity/LAB3_HPML/runs/i65ctp4g' target=\"_blank\">firm-sweep-1</a></strong> to <a href='https://wandb.ai/vk2630-new-york-universtity/LAB3_HPML' target=\"_blank\">Weights & Biases</a> (<a href='https://wandb.me/developer-guide' target=\"_blank\">docs</a>)<br>Sweep page: <a href='https://wandb.ai/vk2630-new-york-universtity/LAB3_HPML/sweeps/ty76xct2' target=\"_blank\">https://wandb.ai/vk2630-new-york-universtity/LAB3_HPML/sweeps/ty76xct2</a>"
            ]
          },
          "metadata": {}
        },
        {
          "output_type": "display_data",
          "data": {
            "text/plain": [
              "<IPython.core.display.HTML object>"
            ],
            "text/html": [
              " View project at <a href='https://wandb.ai/vk2630-new-york-universtity/LAB3_HPML' target=\"_blank\">https://wandb.ai/vk2630-new-york-universtity/LAB3_HPML</a>"
            ]
          },
          "metadata": {}
        },
        {
          "output_type": "display_data",
          "data": {
            "text/plain": [
              "<IPython.core.display.HTML object>"
            ],
            "text/html": [
              " View sweep at <a href='https://wandb.ai/vk2630-new-york-universtity/LAB3_HPML/sweeps/ty76xct2' target=\"_blank\">https://wandb.ai/vk2630-new-york-universtity/LAB3_HPML/sweeps/ty76xct2</a>"
            ]
          },
          "metadata": {}
        },
        {
          "output_type": "display_data",
          "data": {
            "text/plain": [
              "<IPython.core.display.HTML object>"
            ],
            "text/html": [
              " View run at <a href='https://wandb.ai/vk2630-new-york-universtity/LAB3_HPML/runs/i65ctp4g' target=\"_blank\">https://wandb.ai/vk2630-new-york-universtity/LAB3_HPML/runs/i65ctp4g</a>"
            ]
          },
          "metadata": {}
        },
        {
          "output_type": "stream",
          "name": "stdout",
          "text": [
            "Building encoder and decoder ...\n",
            "Models being build.\n",
            "Building optimizers ...\n",
            "Starting Training!\n",
            "Initializing ...\n",
            "Training...\n",
            "Iteration: 4000; Percent complete: 100.0%; Average loss: 4.4855"
          ]
        },
        {
          "output_type": "display_data",
          "data": {
            "text/plain": [
              "<IPython.core.display.HTML object>"
            ],
            "text/html": []
          },
          "metadata": {}
        },
        {
          "output_type": "display_data",
          "data": {
            "text/plain": [
              "<IPython.core.display.HTML object>"
            ],
            "text/html": [
              "<br>    <style><br>        .wandb-row {<br>            display: flex;<br>            flex-direction: row;<br>            flex-wrap: wrap;<br>            justify-content: flex-start;<br>            width: 100%;<br>        }<br>        .wandb-col {<br>            display: flex;<br>            flex-direction: column;<br>            flex-basis: 100%;<br>            flex: 1;<br>            padding: 10px;<br>        }<br>    </style><br><div class=\"wandb-row\"><div class=\"wandb-col\"><h3>Run history:</h3><br/><table class=\"wandb\"><tr><td>loss</td><td>██▆▄▆▄▃▄▄▂▅▂▃▃▂▃▄▂▂▃▂▂▃▁▃▂▁▂▁▂▂▂▂▂▁▂▂▃▁▃</td></tr></table><br/></div><div class=\"wandb-col\"><h3>Run summary:</h3><br/><table class=\"wandb\"><tr><td>loss</td><td>34.54153</td></tr></table><br/></div></div>"
            ]
          },
          "metadata": {}
        },
        {
          "output_type": "display_data",
          "data": {
            "text/plain": [
              "<IPython.core.display.HTML object>"
            ],
            "text/html": [
              " View run <strong style=\"color:#cdcd00\">firm-sweep-1</strong> at: <a href='https://wandb.ai/vk2630-new-york-universtity/LAB3_HPML/runs/i65ctp4g' target=\"_blank\">https://wandb.ai/vk2630-new-york-universtity/LAB3_HPML/runs/i65ctp4g</a><br> View project at: <a href='https://wandb.ai/vk2630-new-york-universtity/LAB3_HPML' target=\"_blank\">https://wandb.ai/vk2630-new-york-universtity/LAB3_HPML</a><br>Synced 5 W&B file(s), 0 media file(s), 0 artifact file(s) and 0 other file(s)"
            ]
          },
          "metadata": {}
        },
        {
          "output_type": "display_data",
          "data": {
            "text/plain": [
              "<IPython.core.display.HTML object>"
            ],
            "text/html": [
              "Find logs at: <code>./wandb/run-20250316_024838-i65ctp4g/logs</code>"
            ]
          },
          "metadata": {}
        },
        {
          "output_type": "stream",
          "name": "stderr",
          "text": [
            "\u001b[34m\u001b[1mwandb\u001b[0m: Agent Starting Run: ysw5k2z6 with config:\n",
            "\u001b[34m\u001b[1mwandb\u001b[0m: \tclip: 25\n",
            "\u001b[34m\u001b[1mwandb\u001b[0m: \tdecoder_lrn_ratio: 5\n",
            "\u001b[34m\u001b[1mwandb\u001b[0m: \tlr: 0.0005\n",
            "\u001b[34m\u001b[1mwandb\u001b[0m: \toptimizer: adam\n",
            "\u001b[34m\u001b[1mwandb\u001b[0m: \ttf_ratio: 0\n"
          ]
        },
        {
          "output_type": "display_data",
          "data": {
            "text/plain": [
              "<IPython.core.display.HTML object>"
            ],
            "text/html": [
              "Ignoring project 'LAB3_HPML' when running a sweep."
            ]
          },
          "metadata": {}
        },
        {
          "output_type": "display_data",
          "data": {
            "text/plain": [
              "<IPython.core.display.HTML object>"
            ],
            "text/html": [
              "Ignoring entity 'vk2630-new-york-universtity' when running a sweep."
            ]
          },
          "metadata": {}
        },
        {
          "output_type": "display_data",
          "data": {
            "text/plain": [
              "<IPython.core.display.HTML object>"
            ],
            "text/html": [
              "Tracking run with wandb version 0.19.8"
            ]
          },
          "metadata": {}
        },
        {
          "output_type": "display_data",
          "data": {
            "text/plain": [
              "<IPython.core.display.HTML object>"
            ],
            "text/html": [
              "Run data is saved locally in <code>/content/wandb/run-20250316_025200-ysw5k2z6</code>"
            ]
          },
          "metadata": {}
        },
        {
          "output_type": "display_data",
          "data": {
            "text/plain": [
              "<IPython.core.display.HTML object>"
            ],
            "text/html": [
              "Syncing run <strong><a href='https://wandb.ai/vk2630-new-york-universtity/LAB3_HPML/runs/ysw5k2z6' target=\"_blank\">happy-sweep-2</a></strong> to <a href='https://wandb.ai/vk2630-new-york-universtity/LAB3_HPML' target=\"_blank\">Weights & Biases</a> (<a href='https://wandb.me/developer-guide' target=\"_blank\">docs</a>)<br>Sweep page: <a href='https://wandb.ai/vk2630-new-york-universtity/LAB3_HPML/sweeps/ty76xct2' target=\"_blank\">https://wandb.ai/vk2630-new-york-universtity/LAB3_HPML/sweeps/ty76xct2</a>"
            ]
          },
          "metadata": {}
        },
        {
          "output_type": "display_data",
          "data": {
            "text/plain": [
              "<IPython.core.display.HTML object>"
            ],
            "text/html": [
              " View project at <a href='https://wandb.ai/vk2630-new-york-universtity/LAB3_HPML' target=\"_blank\">https://wandb.ai/vk2630-new-york-universtity/LAB3_HPML</a>"
            ]
          },
          "metadata": {}
        },
        {
          "output_type": "display_data",
          "data": {
            "text/plain": [
              "<IPython.core.display.HTML object>"
            ],
            "text/html": [
              " View sweep at <a href='https://wandb.ai/vk2630-new-york-universtity/LAB3_HPML/sweeps/ty76xct2' target=\"_blank\">https://wandb.ai/vk2630-new-york-universtity/LAB3_HPML/sweeps/ty76xct2</a>"
            ]
          },
          "metadata": {}
        },
        {
          "output_type": "display_data",
          "data": {
            "text/plain": [
              "<IPython.core.display.HTML object>"
            ],
            "text/html": [
              " View run at <a href='https://wandb.ai/vk2630-new-york-universtity/LAB3_HPML/runs/ysw5k2z6' target=\"_blank\">https://wandb.ai/vk2630-new-york-universtity/LAB3_HPML/runs/ysw5k2z6</a>"
            ]
          },
          "metadata": {}
        },
        {
          "output_type": "stream",
          "name": "stdout",
          "text": [
            "Building encoder and decoder ...\n",
            "Models being build.\n",
            "Building optimizers ...\n",
            "Starting Training!\n",
            "Initializing ...\n",
            "Training...\n",
            "Iteration: 4000; Percent complete: 100.0%; Average loss: 4.8150"
          ]
        },
        {
          "output_type": "display_data",
          "data": {
            "text/plain": [
              "<IPython.core.display.HTML object>"
            ],
            "text/html": []
          },
          "metadata": {}
        },
        {
          "output_type": "display_data",
          "data": {
            "text/plain": [
              "<IPython.core.display.HTML object>"
            ],
            "text/html": [
              "<br>    <style><br>        .wandb-row {<br>            display: flex;<br>            flex-direction: row;<br>            flex-wrap: wrap;<br>            justify-content: flex-start;<br>            width: 100%;<br>        }<br>        .wandb-col {<br>            display: flex;<br>            flex-direction: column;<br>            flex-basis: 100%;<br>            flex: 1;<br>            padding: 10px;<br>        }<br>    </style><br><div class=\"wandb-row\"><div class=\"wandb-col\"><h3>Run history:</h3><br/><table class=\"wandb\"><tr><td>loss</td><td>▅▆▄▅▅▆▄▃▅▃▆▆▅▅█▅▆▁▅▅▆▃▇▃▄▆▄▄▄▅▆▄▂▅▄▂▃▃▄▄</td></tr></table><br/></div><div class=\"wandb-col\"><h3>Run summary:</h3><br/><table class=\"wandb\"><tr><td>loss</td><td>40.78119</td></tr></table><br/></div></div>"
            ]
          },
          "metadata": {}
        },
        {
          "output_type": "display_data",
          "data": {
            "text/plain": [
              "<IPython.core.display.HTML object>"
            ],
            "text/html": [
              " View run <strong style=\"color:#cdcd00\">happy-sweep-2</strong> at: <a href='https://wandb.ai/vk2630-new-york-universtity/LAB3_HPML/runs/ysw5k2z6' target=\"_blank\">https://wandb.ai/vk2630-new-york-universtity/LAB3_HPML/runs/ysw5k2z6</a><br> View project at: <a href='https://wandb.ai/vk2630-new-york-universtity/LAB3_HPML' target=\"_blank\">https://wandb.ai/vk2630-new-york-universtity/LAB3_HPML</a><br>Synced 5 W&B file(s), 0 media file(s), 0 artifact file(s) and 0 other file(s)"
            ]
          },
          "metadata": {}
        },
        {
          "output_type": "display_data",
          "data": {
            "text/plain": [
              "<IPython.core.display.HTML object>"
            ],
            "text/html": [
              "Find logs at: <code>./wandb/run-20250316_025200-ysw5k2z6/logs</code>"
            ]
          },
          "metadata": {}
        },
        {
          "output_type": "stream",
          "name": "stderr",
          "text": [
            "\u001b[34m\u001b[1mwandb\u001b[0m: Agent Starting Run: c8njcmrb with config:\n",
            "\u001b[34m\u001b[1mwandb\u001b[0m: \tclip: 50\n",
            "\u001b[34m\u001b[1mwandb\u001b[0m: \tdecoder_lrn_ratio: 3\n",
            "\u001b[34m\u001b[1mwandb\u001b[0m: \tlr: 0.00025\n",
            "\u001b[34m\u001b[1mwandb\u001b[0m: \toptimizer: sgd\n",
            "\u001b[34m\u001b[1mwandb\u001b[0m: \ttf_ratio: 0\n"
          ]
        },
        {
          "output_type": "display_data",
          "data": {
            "text/plain": [
              "<IPython.core.display.HTML object>"
            ],
            "text/html": [
              "Ignoring project 'LAB3_HPML' when running a sweep."
            ]
          },
          "metadata": {}
        },
        {
          "output_type": "display_data",
          "data": {
            "text/plain": [
              "<IPython.core.display.HTML object>"
            ],
            "text/html": [
              "Ignoring entity 'vk2630-new-york-universtity' when running a sweep."
            ]
          },
          "metadata": {}
        },
        {
          "output_type": "display_data",
          "data": {
            "text/plain": [
              "<IPython.core.display.HTML object>"
            ],
            "text/html": [
              "Tracking run with wandb version 0.19.8"
            ]
          },
          "metadata": {}
        },
        {
          "output_type": "display_data",
          "data": {
            "text/plain": [
              "<IPython.core.display.HTML object>"
            ],
            "text/html": [
              "Run data is saved locally in <code>/content/wandb/run-20250316_025639-c8njcmrb</code>"
            ]
          },
          "metadata": {}
        },
        {
          "output_type": "display_data",
          "data": {
            "text/plain": [
              "<IPython.core.display.HTML object>"
            ],
            "text/html": [
              "Syncing run <strong><a href='https://wandb.ai/vk2630-new-york-universtity/LAB3_HPML/runs/c8njcmrb' target=\"_blank\">neat-sweep-3</a></strong> to <a href='https://wandb.ai/vk2630-new-york-universtity/LAB3_HPML' target=\"_blank\">Weights & Biases</a> (<a href='https://wandb.me/developer-guide' target=\"_blank\">docs</a>)<br>Sweep page: <a href='https://wandb.ai/vk2630-new-york-universtity/LAB3_HPML/sweeps/ty76xct2' target=\"_blank\">https://wandb.ai/vk2630-new-york-universtity/LAB3_HPML/sweeps/ty76xct2</a>"
            ]
          },
          "metadata": {}
        },
        {
          "output_type": "display_data",
          "data": {
            "text/plain": [
              "<IPython.core.display.HTML object>"
            ],
            "text/html": [
              " View project at <a href='https://wandb.ai/vk2630-new-york-universtity/LAB3_HPML' target=\"_blank\">https://wandb.ai/vk2630-new-york-universtity/LAB3_HPML</a>"
            ]
          },
          "metadata": {}
        },
        {
          "output_type": "display_data",
          "data": {
            "text/plain": [
              "<IPython.core.display.HTML object>"
            ],
            "text/html": [
              " View sweep at <a href='https://wandb.ai/vk2630-new-york-universtity/LAB3_HPML/sweeps/ty76xct2' target=\"_blank\">https://wandb.ai/vk2630-new-york-universtity/LAB3_HPML/sweeps/ty76xct2</a>"
            ]
          },
          "metadata": {}
        },
        {
          "output_type": "display_data",
          "data": {
            "text/plain": [
              "<IPython.core.display.HTML object>"
            ],
            "text/html": [
              " View run at <a href='https://wandb.ai/vk2630-new-york-universtity/LAB3_HPML/runs/c8njcmrb' target=\"_blank\">https://wandb.ai/vk2630-new-york-universtity/LAB3_HPML/runs/c8njcmrb</a>"
            ]
          },
          "metadata": {}
        },
        {
          "output_type": "stream",
          "name": "stdout",
          "text": [
            "Building encoder and decoder ...\n",
            "Models being build.\n",
            "Building optimizers ...\n",
            "Starting Training!\n",
            "Initializing ...\n",
            "Training...\n",
            "Iteration: 4000; Percent complete: 100.0%; Average loss: 4.7252"
          ]
        },
        {
          "output_type": "display_data",
          "data": {
            "text/plain": [
              "<IPython.core.display.HTML object>"
            ],
            "text/html": []
          },
          "metadata": {}
        },
        {
          "output_type": "display_data",
          "data": {
            "text/plain": [
              "<IPython.core.display.HTML object>"
            ],
            "text/html": [
              "<br>    <style><br>        .wandb-row {<br>            display: flex;<br>            flex-direction: row;<br>            flex-wrap: wrap;<br>            justify-content: flex-start;<br>            width: 100%;<br>        }<br>        .wandb-col {<br>            display: flex;<br>            flex-direction: column;<br>            flex-basis: 100%;<br>            flex: 1;<br>            padding: 10px;<br>        }<br>    </style><br><div class=\"wandb-row\"><div class=\"wandb-col\"><h3>Run history:</h3><br/><table class=\"wandb\"><tr><td>loss</td><td>▇██▇▇▅▅▅▇▄▅▅▄▅▃▄▃▄▃▃▁▂▅▃▃▄▄▃▂▄▄▄▃▃▂▃▂▄▄▄</td></tr></table><br/></div><div class=\"wandb-col\"><h3>Run summary:</h3><br/><table class=\"wandb\"><tr><td>loss</td><td>39.7427</td></tr></table><br/></div></div>"
            ]
          },
          "metadata": {}
        },
        {
          "output_type": "display_data",
          "data": {
            "text/plain": [
              "<IPython.core.display.HTML object>"
            ],
            "text/html": [
              " View run <strong style=\"color:#cdcd00\">neat-sweep-3</strong> at: <a href='https://wandb.ai/vk2630-new-york-universtity/LAB3_HPML/runs/c8njcmrb' target=\"_blank\">https://wandb.ai/vk2630-new-york-universtity/LAB3_HPML/runs/c8njcmrb</a><br> View project at: <a href='https://wandb.ai/vk2630-new-york-universtity/LAB3_HPML' target=\"_blank\">https://wandb.ai/vk2630-new-york-universtity/LAB3_HPML</a><br>Synced 5 W&B file(s), 0 media file(s), 0 artifact file(s) and 0 other file(s)"
            ]
          },
          "metadata": {}
        },
        {
          "output_type": "display_data",
          "data": {
            "text/plain": [
              "<IPython.core.display.HTML object>"
            ],
            "text/html": [
              "Find logs at: <code>./wandb/run-20250316_025639-c8njcmrb/logs</code>"
            ]
          },
          "metadata": {}
        },
        {
          "output_type": "stream",
          "name": "stderr",
          "text": [
            "\u001b[34m\u001b[1mwandb\u001b[0m: Agent Starting Run: 6j0ber98 with config:\n",
            "\u001b[34m\u001b[1mwandb\u001b[0m: \tclip: 100\n",
            "\u001b[34m\u001b[1mwandb\u001b[0m: \tdecoder_lrn_ratio: 5\n",
            "\u001b[34m\u001b[1mwandb\u001b[0m: \tlr: 0.0001\n",
            "\u001b[34m\u001b[1mwandb\u001b[0m: \toptimizer: sgd\n",
            "\u001b[34m\u001b[1mwandb\u001b[0m: \ttf_ratio: 0\n"
          ]
        },
        {
          "output_type": "display_data",
          "data": {
            "text/plain": [
              "<IPython.core.display.HTML object>"
            ],
            "text/html": [
              "Ignoring project 'LAB3_HPML' when running a sweep."
            ]
          },
          "metadata": {}
        },
        {
          "output_type": "display_data",
          "data": {
            "text/plain": [
              "<IPython.core.display.HTML object>"
            ],
            "text/html": [
              "Ignoring entity 'vk2630-new-york-universtity' when running a sweep."
            ]
          },
          "metadata": {}
        },
        {
          "output_type": "display_data",
          "data": {
            "text/plain": [
              "<IPython.core.display.HTML object>"
            ],
            "text/html": [
              "Tracking run with wandb version 0.19.8"
            ]
          },
          "metadata": {}
        },
        {
          "output_type": "display_data",
          "data": {
            "text/plain": [
              "<IPython.core.display.HTML object>"
            ],
            "text/html": [
              "Run data is saved locally in <code>/content/wandb/run-20250316_030057-6j0ber98</code>"
            ]
          },
          "metadata": {}
        },
        {
          "output_type": "display_data",
          "data": {
            "text/plain": [
              "<IPython.core.display.HTML object>"
            ],
            "text/html": [
              "Syncing run <strong><a href='https://wandb.ai/vk2630-new-york-universtity/LAB3_HPML/runs/6j0ber98' target=\"_blank\">effortless-sweep-4</a></strong> to <a href='https://wandb.ai/vk2630-new-york-universtity/LAB3_HPML' target=\"_blank\">Weights & Biases</a> (<a href='https://wandb.me/developer-guide' target=\"_blank\">docs</a>)<br>Sweep page: <a href='https://wandb.ai/vk2630-new-york-universtity/LAB3_HPML/sweeps/ty76xct2' target=\"_blank\">https://wandb.ai/vk2630-new-york-universtity/LAB3_HPML/sweeps/ty76xct2</a>"
            ]
          },
          "metadata": {}
        },
        {
          "output_type": "display_data",
          "data": {
            "text/plain": [
              "<IPython.core.display.HTML object>"
            ],
            "text/html": [
              " View project at <a href='https://wandb.ai/vk2630-new-york-universtity/LAB3_HPML' target=\"_blank\">https://wandb.ai/vk2630-new-york-universtity/LAB3_HPML</a>"
            ]
          },
          "metadata": {}
        },
        {
          "output_type": "display_data",
          "data": {
            "text/plain": [
              "<IPython.core.display.HTML object>"
            ],
            "text/html": [
              " View sweep at <a href='https://wandb.ai/vk2630-new-york-universtity/LAB3_HPML/sweeps/ty76xct2' target=\"_blank\">https://wandb.ai/vk2630-new-york-universtity/LAB3_HPML/sweeps/ty76xct2</a>"
            ]
          },
          "metadata": {}
        },
        {
          "output_type": "display_data",
          "data": {
            "text/plain": [
              "<IPython.core.display.HTML object>"
            ],
            "text/html": [
              " View run at <a href='https://wandb.ai/vk2630-new-york-universtity/LAB3_HPML/runs/6j0ber98' target=\"_blank\">https://wandb.ai/vk2630-new-york-universtity/LAB3_HPML/runs/6j0ber98</a>"
            ]
          },
          "metadata": {}
        },
        {
          "output_type": "stream",
          "name": "stdout",
          "text": [
            "Building encoder and decoder ...\n",
            "Models being build.\n",
            "Building optimizers ...\n",
            "Starting Training!\n",
            "Initializing ...\n",
            "Training...\n",
            "Iteration: 4000; Percent complete: 100.0%; Average loss: 4.7970"
          ]
        },
        {
          "output_type": "display_data",
          "data": {
            "text/plain": [
              "<IPython.core.display.HTML object>"
            ],
            "text/html": []
          },
          "metadata": {}
        },
        {
          "output_type": "display_data",
          "data": {
            "text/plain": [
              "<IPython.core.display.HTML object>"
            ],
            "text/html": [
              "<br>    <style><br>        .wandb-row {<br>            display: flex;<br>            flex-direction: row;<br>            flex-wrap: wrap;<br>            justify-content: flex-start;<br>            width: 100%;<br>        }<br>        .wandb-col {<br>            display: flex;<br>            flex-direction: column;<br>            flex-basis: 100%;<br>            flex: 1;<br>            padding: 10px;<br>        }<br>    </style><br><div class=\"wandb-row\"><div class=\"wandb-col\"><h3>Run history:</h3><br/><table class=\"wandb\"><tr><td>loss</td><td>█▄▅▅▄▃▃▃▄▃▃▃▂▂▃▂▃▃▃▃▃▂▂▂▂▃▃▂▂▂▁▂▁▁▁▂▂▂▁▁</td></tr></table><br/></div><div class=\"wandb-col\"><h3>Run summary:</h3><br/><table class=\"wandb\"><tr><td>loss</td><td>37.08904</td></tr></table><br/></div></div>"
            ]
          },
          "metadata": {}
        },
        {
          "output_type": "display_data",
          "data": {
            "text/plain": [
              "<IPython.core.display.HTML object>"
            ],
            "text/html": [
              " View run <strong style=\"color:#cdcd00\">effortless-sweep-4</strong> at: <a href='https://wandb.ai/vk2630-new-york-universtity/LAB3_HPML/runs/6j0ber98' target=\"_blank\">https://wandb.ai/vk2630-new-york-universtity/LAB3_HPML/runs/6j0ber98</a><br> View project at: <a href='https://wandb.ai/vk2630-new-york-universtity/LAB3_HPML' target=\"_blank\">https://wandb.ai/vk2630-new-york-universtity/LAB3_HPML</a><br>Synced 5 W&B file(s), 0 media file(s), 0 artifact file(s) and 0 other file(s)"
            ]
          },
          "metadata": {}
        },
        {
          "output_type": "display_data",
          "data": {
            "text/plain": [
              "<IPython.core.display.HTML object>"
            ],
            "text/html": [
              "Find logs at: <code>./wandb/run-20250316_030057-6j0ber98/logs</code>"
            ]
          },
          "metadata": {}
        },
        {
          "output_type": "stream",
          "name": "stderr",
          "text": [
            "\u001b[34m\u001b[1mwandb\u001b[0m: Agent Starting Run: ovdzgwtn with config:\n",
            "\u001b[34m\u001b[1mwandb\u001b[0m: \tclip: 25\n",
            "\u001b[34m\u001b[1mwandb\u001b[0m: \tdecoder_lrn_ratio: 3\n",
            "\u001b[34m\u001b[1mwandb\u001b[0m: \tlr: 0.0001\n",
            "\u001b[34m\u001b[1mwandb\u001b[0m: \toptimizer: sgd\n",
            "\u001b[34m\u001b[1mwandb\u001b[0m: \ttf_ratio: 0\n"
          ]
        },
        {
          "output_type": "display_data",
          "data": {
            "text/plain": [
              "<IPython.core.display.HTML object>"
            ],
            "text/html": [
              "Ignoring project 'LAB3_HPML' when running a sweep."
            ]
          },
          "metadata": {}
        },
        {
          "output_type": "display_data",
          "data": {
            "text/plain": [
              "<IPython.core.display.HTML object>"
            ],
            "text/html": [
              "Ignoring entity 'vk2630-new-york-universtity' when running a sweep."
            ]
          },
          "metadata": {}
        },
        {
          "output_type": "display_data",
          "data": {
            "text/plain": [
              "<IPython.core.display.HTML object>"
            ],
            "text/html": [
              "Tracking run with wandb version 0.19.8"
            ]
          },
          "metadata": {}
        },
        {
          "output_type": "display_data",
          "data": {
            "text/plain": [
              "<IPython.core.display.HTML object>"
            ],
            "text/html": [
              "Run data is saved locally in <code>/content/wandb/run-20250316_030515-ovdzgwtn</code>"
            ]
          },
          "metadata": {}
        },
        {
          "output_type": "display_data",
          "data": {
            "text/plain": [
              "<IPython.core.display.HTML object>"
            ],
            "text/html": [
              "Syncing run <strong><a href='https://wandb.ai/vk2630-new-york-universtity/LAB3_HPML/runs/ovdzgwtn' target=\"_blank\">gallant-sweep-5</a></strong> to <a href='https://wandb.ai/vk2630-new-york-universtity/LAB3_HPML' target=\"_blank\">Weights & Biases</a> (<a href='https://wandb.me/developer-guide' target=\"_blank\">docs</a>)<br>Sweep page: <a href='https://wandb.ai/vk2630-new-york-universtity/LAB3_HPML/sweeps/ty76xct2' target=\"_blank\">https://wandb.ai/vk2630-new-york-universtity/LAB3_HPML/sweeps/ty76xct2</a>"
            ]
          },
          "metadata": {}
        },
        {
          "output_type": "display_data",
          "data": {
            "text/plain": [
              "<IPython.core.display.HTML object>"
            ],
            "text/html": [
              " View project at <a href='https://wandb.ai/vk2630-new-york-universtity/LAB3_HPML' target=\"_blank\">https://wandb.ai/vk2630-new-york-universtity/LAB3_HPML</a>"
            ]
          },
          "metadata": {}
        },
        {
          "output_type": "display_data",
          "data": {
            "text/plain": [
              "<IPython.core.display.HTML object>"
            ],
            "text/html": [
              " View sweep at <a href='https://wandb.ai/vk2630-new-york-universtity/LAB3_HPML/sweeps/ty76xct2' target=\"_blank\">https://wandb.ai/vk2630-new-york-universtity/LAB3_HPML/sweeps/ty76xct2</a>"
            ]
          },
          "metadata": {}
        },
        {
          "output_type": "display_data",
          "data": {
            "text/plain": [
              "<IPython.core.display.HTML object>"
            ],
            "text/html": [
              " View run at <a href='https://wandb.ai/vk2630-new-york-universtity/LAB3_HPML/runs/ovdzgwtn' target=\"_blank\">https://wandb.ai/vk2630-new-york-universtity/LAB3_HPML/runs/ovdzgwtn</a>"
            ]
          },
          "metadata": {}
        },
        {
          "output_type": "stream",
          "name": "stdout",
          "text": [
            "Building encoder and decoder ...\n",
            "Models being build.\n",
            "Building optimizers ...\n",
            "Starting Training!\n",
            "Initializing ...\n",
            "Training...\n",
            "Iteration: 4000; Percent complete: 100.0%; Average loss: 5.1569"
          ]
        },
        {
          "output_type": "display_data",
          "data": {
            "text/plain": [
              "<IPython.core.display.HTML object>"
            ],
            "text/html": []
          },
          "metadata": {}
        },
        {
          "output_type": "display_data",
          "data": {
            "text/plain": [
              "<IPython.core.display.HTML object>"
            ],
            "text/html": [
              "<br>    <style><br>        .wandb-row {<br>            display: flex;<br>            flex-direction: row;<br>            flex-wrap: wrap;<br>            justify-content: flex-start;<br>            width: 100%;<br>        }<br>        .wandb-col {<br>            display: flex;<br>            flex-direction: column;<br>            flex-basis: 100%;<br>            flex: 1;<br>            padding: 10px;<br>        }<br>    </style><br><div class=\"wandb-row\"><div class=\"wandb-col\"><h3>Run history:</h3><br/><table class=\"wandb\"><tr><td>loss</td><td>█▇▅▄▄▃▂▂▂▂▂▂▂▂▂▂▂▂▂▂▂▂▂▂▂▁▂▁▁▁▁▂▁▁▁▂▂▁▁▁</td></tr></table><br/></div><div class=\"wandb-col\"><h3>Run summary:</h3><br/><table class=\"wandb\"><tr><td>loss</td><td>40.94317</td></tr></table><br/></div></div>"
            ]
          },
          "metadata": {}
        },
        {
          "output_type": "display_data",
          "data": {
            "text/plain": [
              "<IPython.core.display.HTML object>"
            ],
            "text/html": [
              " View run <strong style=\"color:#cdcd00\">gallant-sweep-5</strong> at: <a href='https://wandb.ai/vk2630-new-york-universtity/LAB3_HPML/runs/ovdzgwtn' target=\"_blank\">https://wandb.ai/vk2630-new-york-universtity/LAB3_HPML/runs/ovdzgwtn</a><br> View project at: <a href='https://wandb.ai/vk2630-new-york-universtity/LAB3_HPML' target=\"_blank\">https://wandb.ai/vk2630-new-york-universtity/LAB3_HPML</a><br>Synced 5 W&B file(s), 0 media file(s), 0 artifact file(s) and 0 other file(s)"
            ]
          },
          "metadata": {}
        },
        {
          "output_type": "display_data",
          "data": {
            "text/plain": [
              "<IPython.core.display.HTML object>"
            ],
            "text/html": [
              "Find logs at: <code>./wandb/run-20250316_030515-ovdzgwtn/logs</code>"
            ]
          },
          "metadata": {}
        },
        {
          "output_type": "stream",
          "name": "stderr",
          "text": [
            "\u001b[34m\u001b[1mwandb\u001b[0m: Agent Starting Run: 7nc87gjw with config:\n",
            "\u001b[34m\u001b[1mwandb\u001b[0m: \tclip: 100\n",
            "\u001b[34m\u001b[1mwandb\u001b[0m: \tdecoder_lrn_ratio: 5\n",
            "\u001b[34m\u001b[1mwandb\u001b[0m: \tlr: 0.0001\n",
            "\u001b[34m\u001b[1mwandb\u001b[0m: \toptimizer: sgd\n",
            "\u001b[34m\u001b[1mwandb\u001b[0m: \ttf_ratio: 0.5\n"
          ]
        },
        {
          "output_type": "display_data",
          "data": {
            "text/plain": [
              "<IPython.core.display.HTML object>"
            ],
            "text/html": [
              "Ignoring project 'LAB3_HPML' when running a sweep."
            ]
          },
          "metadata": {}
        },
        {
          "output_type": "display_data",
          "data": {
            "text/plain": [
              "<IPython.core.display.HTML object>"
            ],
            "text/html": [
              "Ignoring entity 'vk2630-new-york-universtity' when running a sweep."
            ]
          },
          "metadata": {}
        },
        {
          "output_type": "display_data",
          "data": {
            "text/plain": [
              "<IPython.core.display.HTML object>"
            ],
            "text/html": [
              "Tracking run with wandb version 0.19.8"
            ]
          },
          "metadata": {}
        },
        {
          "output_type": "display_data",
          "data": {
            "text/plain": [
              "<IPython.core.display.HTML object>"
            ],
            "text/html": [
              "Run data is saved locally in <code>/content/wandb/run-20250316_030933-7nc87gjw</code>"
            ]
          },
          "metadata": {}
        },
        {
          "output_type": "display_data",
          "data": {
            "text/plain": [
              "<IPython.core.display.HTML object>"
            ],
            "text/html": [
              "Syncing run <strong><a href='https://wandb.ai/vk2630-new-york-universtity/LAB3_HPML/runs/7nc87gjw' target=\"_blank\">glad-sweep-6</a></strong> to <a href='https://wandb.ai/vk2630-new-york-universtity/LAB3_HPML' target=\"_blank\">Weights & Biases</a> (<a href='https://wandb.me/developer-guide' target=\"_blank\">docs</a>)<br>Sweep page: <a href='https://wandb.ai/vk2630-new-york-universtity/LAB3_HPML/sweeps/ty76xct2' target=\"_blank\">https://wandb.ai/vk2630-new-york-universtity/LAB3_HPML/sweeps/ty76xct2</a>"
            ]
          },
          "metadata": {}
        },
        {
          "output_type": "display_data",
          "data": {
            "text/plain": [
              "<IPython.core.display.HTML object>"
            ],
            "text/html": [
              " View project at <a href='https://wandb.ai/vk2630-new-york-universtity/LAB3_HPML' target=\"_blank\">https://wandb.ai/vk2630-new-york-universtity/LAB3_HPML</a>"
            ]
          },
          "metadata": {}
        },
        {
          "output_type": "display_data",
          "data": {
            "text/plain": [
              "<IPython.core.display.HTML object>"
            ],
            "text/html": [
              " View sweep at <a href='https://wandb.ai/vk2630-new-york-universtity/LAB3_HPML/sweeps/ty76xct2' target=\"_blank\">https://wandb.ai/vk2630-new-york-universtity/LAB3_HPML/sweeps/ty76xct2</a>"
            ]
          },
          "metadata": {}
        },
        {
          "output_type": "display_data",
          "data": {
            "text/plain": [
              "<IPython.core.display.HTML object>"
            ],
            "text/html": [
              " View run at <a href='https://wandb.ai/vk2630-new-york-universtity/LAB3_HPML/runs/7nc87gjw' target=\"_blank\">https://wandb.ai/vk2630-new-york-universtity/LAB3_HPML/runs/7nc87gjw</a>"
            ]
          },
          "metadata": {}
        },
        {
          "output_type": "stream",
          "name": "stdout",
          "text": [
            "Building encoder and decoder ...\n",
            "Models being build.\n",
            "Building optimizers ...\n",
            "Starting Training!\n",
            "Initializing ...\n",
            "Training...\n",
            "Iteration: 4000; Percent complete: 100.0%; Average loss: 4.8881"
          ]
        },
        {
          "output_type": "display_data",
          "data": {
            "text/plain": [
              "<IPython.core.display.HTML object>"
            ],
            "text/html": []
          },
          "metadata": {}
        },
        {
          "output_type": "display_data",
          "data": {
            "text/plain": [
              "<IPython.core.display.HTML object>"
            ],
            "text/html": [
              "<br>    <style><br>        .wandb-row {<br>            display: flex;<br>            flex-direction: row;<br>            flex-wrap: wrap;<br>            justify-content: flex-start;<br>            width: 100%;<br>        }<br>        .wandb-col {<br>            display: flex;<br>            flex-direction: column;<br>            flex-basis: 100%;<br>            flex: 1;<br>            padding: 10px;<br>        }<br>    </style><br><div class=\"wandb-row\"><div class=\"wandb-col\"><h3>Run history:</h3><br/><table class=\"wandb\"><tr><td>loss</td><td>█▄▄▄▂▃▂▂▃▂▂▂▂▂▂▂▂▁▁▁▁▂▂▁▁▁▂▁▂▁▁▂▁▁▁▂▁▁▁▁</td></tr></table><br/></div><div class=\"wandb-col\"><h3>Run summary:</h3><br/><table class=\"wandb\"><tr><td>loss</td><td>41.64295</td></tr></table><br/></div></div>"
            ]
          },
          "metadata": {}
        },
        {
          "output_type": "display_data",
          "data": {
            "text/plain": [
              "<IPython.core.display.HTML object>"
            ],
            "text/html": [
              " View run <strong style=\"color:#cdcd00\">glad-sweep-6</strong> at: <a href='https://wandb.ai/vk2630-new-york-universtity/LAB3_HPML/runs/7nc87gjw' target=\"_blank\">https://wandb.ai/vk2630-new-york-universtity/LAB3_HPML/runs/7nc87gjw</a><br> View project at: <a href='https://wandb.ai/vk2630-new-york-universtity/LAB3_HPML' target=\"_blank\">https://wandb.ai/vk2630-new-york-universtity/LAB3_HPML</a><br>Synced 5 W&B file(s), 0 media file(s), 0 artifact file(s) and 0 other file(s)"
            ]
          },
          "metadata": {}
        },
        {
          "output_type": "display_data",
          "data": {
            "text/plain": [
              "<IPython.core.display.HTML object>"
            ],
            "text/html": [
              "Find logs at: <code>./wandb/run-20250316_030933-7nc87gjw/logs</code>"
            ]
          },
          "metadata": {}
        },
        {
          "output_type": "stream",
          "name": "stderr",
          "text": [
            "\u001b[34m\u001b[1mwandb\u001b[0m: Agent Starting Run: bgxyol6d with config:\n",
            "\u001b[34m\u001b[1mwandb\u001b[0m: \tclip: 0\n",
            "\u001b[34m\u001b[1mwandb\u001b[0m: \tdecoder_lrn_ratio: 1\n",
            "\u001b[34m\u001b[1mwandb\u001b[0m: \tlr: 0.0001\n",
            "\u001b[34m\u001b[1mwandb\u001b[0m: \toptimizer: sgd\n",
            "\u001b[34m\u001b[1mwandb\u001b[0m: \ttf_ratio: 0\n"
          ]
        },
        {
          "output_type": "display_data",
          "data": {
            "text/plain": [
              "<IPython.core.display.HTML object>"
            ],
            "text/html": [
              "Ignoring project 'LAB3_HPML' when running a sweep."
            ]
          },
          "metadata": {}
        },
        {
          "output_type": "display_data",
          "data": {
            "text/plain": [
              "<IPython.core.display.HTML object>"
            ],
            "text/html": [
              "Ignoring entity 'vk2630-new-york-universtity' when running a sweep."
            ]
          },
          "metadata": {}
        },
        {
          "output_type": "display_data",
          "data": {
            "text/plain": [
              "<IPython.core.display.HTML object>"
            ],
            "text/html": [
              "Tracking run with wandb version 0.19.8"
            ]
          },
          "metadata": {}
        },
        {
          "output_type": "display_data",
          "data": {
            "text/plain": [
              "<IPython.core.display.HTML object>"
            ],
            "text/html": [
              "Run data is saved locally in <code>/content/wandb/run-20250316_031321-bgxyol6d</code>"
            ]
          },
          "metadata": {}
        },
        {
          "output_type": "display_data",
          "data": {
            "text/plain": [
              "<IPython.core.display.HTML object>"
            ],
            "text/html": [
              "Syncing run <strong><a href='https://wandb.ai/vk2630-new-york-universtity/LAB3_HPML/runs/bgxyol6d' target=\"_blank\">logical-sweep-7</a></strong> to <a href='https://wandb.ai/vk2630-new-york-universtity/LAB3_HPML' target=\"_blank\">Weights & Biases</a> (<a href='https://wandb.me/developer-guide' target=\"_blank\">docs</a>)<br>Sweep page: <a href='https://wandb.ai/vk2630-new-york-universtity/LAB3_HPML/sweeps/ty76xct2' target=\"_blank\">https://wandb.ai/vk2630-new-york-universtity/LAB3_HPML/sweeps/ty76xct2</a>"
            ]
          },
          "metadata": {}
        },
        {
          "output_type": "display_data",
          "data": {
            "text/plain": [
              "<IPython.core.display.HTML object>"
            ],
            "text/html": [
              " View project at <a href='https://wandb.ai/vk2630-new-york-universtity/LAB3_HPML' target=\"_blank\">https://wandb.ai/vk2630-new-york-universtity/LAB3_HPML</a>"
            ]
          },
          "metadata": {}
        },
        {
          "output_type": "display_data",
          "data": {
            "text/plain": [
              "<IPython.core.display.HTML object>"
            ],
            "text/html": [
              " View sweep at <a href='https://wandb.ai/vk2630-new-york-universtity/LAB3_HPML/sweeps/ty76xct2' target=\"_blank\">https://wandb.ai/vk2630-new-york-universtity/LAB3_HPML/sweeps/ty76xct2</a>"
            ]
          },
          "metadata": {}
        },
        {
          "output_type": "display_data",
          "data": {
            "text/plain": [
              "<IPython.core.display.HTML object>"
            ],
            "text/html": [
              " View run at <a href='https://wandb.ai/vk2630-new-york-universtity/LAB3_HPML/runs/bgxyol6d' target=\"_blank\">https://wandb.ai/vk2630-new-york-universtity/LAB3_HPML/runs/bgxyol6d</a>"
            ]
          },
          "metadata": {}
        },
        {
          "output_type": "stream",
          "name": "stdout",
          "text": [
            "Building encoder and decoder ...\n",
            "Models being build.\n",
            "Building optimizers ...\n",
            "Starting Training!\n",
            "Initializing ...\n",
            "Training...\n",
            "Iteration: 4000; Percent complete: 100.0%; Average loss: 8.9619"
          ]
        },
        {
          "output_type": "display_data",
          "data": {
            "text/plain": [
              "<IPython.core.display.HTML object>"
            ],
            "text/html": []
          },
          "metadata": {}
        },
        {
          "output_type": "display_data",
          "data": {
            "text/plain": [
              "<IPython.core.display.HTML object>"
            ],
            "text/html": [
              "<br>    <style><br>        .wandb-row {<br>            display: flex;<br>            flex-direction: row;<br>            flex-wrap: wrap;<br>            justify-content: flex-start;<br>            width: 100%;<br>        }<br>        .wandb-col {<br>            display: flex;<br>            flex-direction: column;<br>            flex-basis: 100%;<br>            flex: 1;<br>            padding: 10px;<br>        }<br>    </style><br><div class=\"wandb-row\"><div class=\"wandb-col\"><h3>Run history:</h3><br/><table class=\"wandb\"><tr><td>loss</td><td>▆▅▄▅▅▄▄▃█▅▅▅▆▆▁▄▇▅▄▆▆▆▄▃█▂▇▄▆▄▅▃▆▄▃▅▆▆▅▆</td></tr></table><br/></div><div class=\"wandb-col\"><h3>Run summary:</h3><br/><table class=\"wandb\"><tr><td>loss</td><td>89.61266</td></tr></table><br/></div></div>"
            ]
          },
          "metadata": {}
        },
        {
          "output_type": "display_data",
          "data": {
            "text/plain": [
              "<IPython.core.display.HTML object>"
            ],
            "text/html": [
              " View run <strong style=\"color:#cdcd00\">logical-sweep-7</strong> at: <a href='https://wandb.ai/vk2630-new-york-universtity/LAB3_HPML/runs/bgxyol6d' target=\"_blank\">https://wandb.ai/vk2630-new-york-universtity/LAB3_HPML/runs/bgxyol6d</a><br> View project at: <a href='https://wandb.ai/vk2630-new-york-universtity/LAB3_HPML' target=\"_blank\">https://wandb.ai/vk2630-new-york-universtity/LAB3_HPML</a><br>Synced 5 W&B file(s), 0 media file(s), 0 artifact file(s) and 0 other file(s)"
            ]
          },
          "metadata": {}
        },
        {
          "output_type": "display_data",
          "data": {
            "text/plain": [
              "<IPython.core.display.HTML object>"
            ],
            "text/html": [
              "Find logs at: <code>./wandb/run-20250316_031321-bgxyol6d/logs</code>"
            ]
          },
          "metadata": {}
        },
        {
          "output_type": "stream",
          "name": "stderr",
          "text": [
            "\u001b[34m\u001b[1mwandb\u001b[0m: Agent Starting Run: ao24leuu with config:\n",
            "\u001b[34m\u001b[1mwandb\u001b[0m: \tclip: 100\n",
            "\u001b[34m\u001b[1mwandb\u001b[0m: \tdecoder_lrn_ratio: 1\n",
            "\u001b[34m\u001b[1mwandb\u001b[0m: \tlr: 0.001\n",
            "\u001b[34m\u001b[1mwandb\u001b[0m: \toptimizer: sgd\n",
            "\u001b[34m\u001b[1mwandb\u001b[0m: \ttf_ratio: 0\n"
          ]
        },
        {
          "output_type": "display_data",
          "data": {
            "text/plain": [
              "<IPython.core.display.HTML object>"
            ],
            "text/html": [
              "Ignoring project 'LAB3_HPML' when running a sweep."
            ]
          },
          "metadata": {}
        },
        {
          "output_type": "display_data",
          "data": {
            "text/plain": [
              "<IPython.core.display.HTML object>"
            ],
            "text/html": [
              "Ignoring entity 'vk2630-new-york-universtity' when running a sweep."
            ]
          },
          "metadata": {}
        },
        {
          "output_type": "display_data",
          "data": {
            "text/plain": [
              "<IPython.core.display.HTML object>"
            ],
            "text/html": [
              "Tracking run with wandb version 0.19.8"
            ]
          },
          "metadata": {}
        },
        {
          "output_type": "display_data",
          "data": {
            "text/plain": [
              "<IPython.core.display.HTML object>"
            ],
            "text/html": [
              "Run data is saved locally in <code>/content/wandb/run-20250316_031740-ao24leuu</code>"
            ]
          },
          "metadata": {}
        },
        {
          "output_type": "display_data",
          "data": {
            "text/plain": [
              "<IPython.core.display.HTML object>"
            ],
            "text/html": [
              "Syncing run <strong><a href='https://wandb.ai/vk2630-new-york-universtity/LAB3_HPML/runs/ao24leuu' target=\"_blank\">silver-sweep-8</a></strong> to <a href='https://wandb.ai/vk2630-new-york-universtity/LAB3_HPML' target=\"_blank\">Weights & Biases</a> (<a href='https://wandb.me/developer-guide' target=\"_blank\">docs</a>)<br>Sweep page: <a href='https://wandb.ai/vk2630-new-york-universtity/LAB3_HPML/sweeps/ty76xct2' target=\"_blank\">https://wandb.ai/vk2630-new-york-universtity/LAB3_HPML/sweeps/ty76xct2</a>"
            ]
          },
          "metadata": {}
        },
        {
          "output_type": "display_data",
          "data": {
            "text/plain": [
              "<IPython.core.display.HTML object>"
            ],
            "text/html": [
              " View project at <a href='https://wandb.ai/vk2630-new-york-universtity/LAB3_HPML' target=\"_blank\">https://wandb.ai/vk2630-new-york-universtity/LAB3_HPML</a>"
            ]
          },
          "metadata": {}
        },
        {
          "output_type": "display_data",
          "data": {
            "text/plain": [
              "<IPython.core.display.HTML object>"
            ],
            "text/html": [
              " View sweep at <a href='https://wandb.ai/vk2630-new-york-universtity/LAB3_HPML/sweeps/ty76xct2' target=\"_blank\">https://wandb.ai/vk2630-new-york-universtity/LAB3_HPML/sweeps/ty76xct2</a>"
            ]
          },
          "metadata": {}
        },
        {
          "output_type": "display_data",
          "data": {
            "text/plain": [
              "<IPython.core.display.HTML object>"
            ],
            "text/html": [
              " View run at <a href='https://wandb.ai/vk2630-new-york-universtity/LAB3_HPML/runs/ao24leuu' target=\"_blank\">https://wandb.ai/vk2630-new-york-universtity/LAB3_HPML/runs/ao24leuu</a>"
            ]
          },
          "metadata": {}
        },
        {
          "output_type": "stream",
          "name": "stdout",
          "text": [
            "Building encoder and decoder ...\n",
            "Models being build.\n",
            "Building optimizers ...\n",
            "Starting Training!\n",
            "Initializing ...\n",
            "Training...\n",
            "Iteration: 4000; Percent complete: 100.0%; Average loss: 4.7474"
          ]
        },
        {
          "output_type": "display_data",
          "data": {
            "text/plain": [
              "<IPython.core.display.HTML object>"
            ],
            "text/html": []
          },
          "metadata": {}
        },
        {
          "output_type": "display_data",
          "data": {
            "text/plain": [
              "<IPython.core.display.HTML object>"
            ],
            "text/html": [
              "<br>    <style><br>        .wandb-row {<br>            display: flex;<br>            flex-direction: row;<br>            flex-wrap: wrap;<br>            justify-content: flex-start;<br>            width: 100%;<br>        }<br>        .wandb-col {<br>            display: flex;<br>            flex-direction: column;<br>            flex-basis: 100%;<br>            flex: 1;<br>            padding: 10px;<br>        }<br>    </style><br><div class=\"wandb-row\"><div class=\"wandb-col\"><h3>Run history:</h3><br/><table class=\"wandb\"><tr><td>loss</td><td>█▆▄▄▅▄▄▄▄▄▄▃▃▂▅▄▄▅▂▄▃▄▄▃▃▃▃▁▃▄▄▃▃▄▂▃▃▂▃▄</td></tr></table><br/></div><div class=\"wandb-col\"><h3>Run summary:</h3><br/><table class=\"wandb\"><tr><td>loss</td><td>36.31556</td></tr></table><br/></div></div>"
            ]
          },
          "metadata": {}
        },
        {
          "output_type": "display_data",
          "data": {
            "text/plain": [
              "<IPython.core.display.HTML object>"
            ],
            "text/html": [
              " View run <strong style=\"color:#cdcd00\">silver-sweep-8</strong> at: <a href='https://wandb.ai/vk2630-new-york-universtity/LAB3_HPML/runs/ao24leuu' target=\"_blank\">https://wandb.ai/vk2630-new-york-universtity/LAB3_HPML/runs/ao24leuu</a><br> View project at: <a href='https://wandb.ai/vk2630-new-york-universtity/LAB3_HPML' target=\"_blank\">https://wandb.ai/vk2630-new-york-universtity/LAB3_HPML</a><br>Synced 5 W&B file(s), 0 media file(s), 0 artifact file(s) and 0 other file(s)"
            ]
          },
          "metadata": {}
        },
        {
          "output_type": "display_data",
          "data": {
            "text/plain": [
              "<IPython.core.display.HTML object>"
            ],
            "text/html": [
              "Find logs at: <code>./wandb/run-20250316_031740-ao24leuu/logs</code>"
            ]
          },
          "metadata": {}
        },
        {
          "output_type": "stream",
          "name": "stderr",
          "text": [
            "\u001b[34m\u001b[1mwandb\u001b[0m: Agent Starting Run: iikod0w3 with config:\n",
            "\u001b[34m\u001b[1mwandb\u001b[0m: \tclip: 50\n",
            "\u001b[34m\u001b[1mwandb\u001b[0m: \tdecoder_lrn_ratio: 3\n",
            "\u001b[34m\u001b[1mwandb\u001b[0m: \tlr: 0.0005\n",
            "\u001b[34m\u001b[1mwandb\u001b[0m: \toptimizer: sgd\n",
            "\u001b[34m\u001b[1mwandb\u001b[0m: \ttf_ratio: 0.5\n"
          ]
        },
        {
          "output_type": "display_data",
          "data": {
            "text/plain": [
              "<IPython.core.display.HTML object>"
            ],
            "text/html": [
              "Ignoring project 'LAB3_HPML' when running a sweep."
            ]
          },
          "metadata": {}
        },
        {
          "output_type": "display_data",
          "data": {
            "text/plain": [
              "<IPython.core.display.HTML object>"
            ],
            "text/html": [
              "Ignoring entity 'vk2630-new-york-universtity' when running a sweep."
            ]
          },
          "metadata": {}
        },
        {
          "output_type": "display_data",
          "data": {
            "text/plain": [
              "<IPython.core.display.HTML object>"
            ],
            "text/html": [
              "Tracking run with wandb version 0.19.8"
            ]
          },
          "metadata": {}
        },
        {
          "output_type": "display_data",
          "data": {
            "text/plain": [
              "<IPython.core.display.HTML object>"
            ],
            "text/html": [
              "Run data is saved locally in <code>/content/wandb/run-20250316_032158-iikod0w3</code>"
            ]
          },
          "metadata": {}
        },
        {
          "output_type": "display_data",
          "data": {
            "text/plain": [
              "<IPython.core.display.HTML object>"
            ],
            "text/html": [
              "Syncing run <strong><a href='https://wandb.ai/vk2630-new-york-universtity/LAB3_HPML/runs/iikod0w3' target=\"_blank\">divine-sweep-9</a></strong> to <a href='https://wandb.ai/vk2630-new-york-universtity/LAB3_HPML' target=\"_blank\">Weights & Biases</a> (<a href='https://wandb.me/developer-guide' target=\"_blank\">docs</a>)<br>Sweep page: <a href='https://wandb.ai/vk2630-new-york-universtity/LAB3_HPML/sweeps/ty76xct2' target=\"_blank\">https://wandb.ai/vk2630-new-york-universtity/LAB3_HPML/sweeps/ty76xct2</a>"
            ]
          },
          "metadata": {}
        },
        {
          "output_type": "display_data",
          "data": {
            "text/plain": [
              "<IPython.core.display.HTML object>"
            ],
            "text/html": [
              " View project at <a href='https://wandb.ai/vk2630-new-york-universtity/LAB3_HPML' target=\"_blank\">https://wandb.ai/vk2630-new-york-universtity/LAB3_HPML</a>"
            ]
          },
          "metadata": {}
        },
        {
          "output_type": "display_data",
          "data": {
            "text/plain": [
              "<IPython.core.display.HTML object>"
            ],
            "text/html": [
              " View sweep at <a href='https://wandb.ai/vk2630-new-york-universtity/LAB3_HPML/sweeps/ty76xct2' target=\"_blank\">https://wandb.ai/vk2630-new-york-universtity/LAB3_HPML/sweeps/ty76xct2</a>"
            ]
          },
          "metadata": {}
        },
        {
          "output_type": "display_data",
          "data": {
            "text/plain": [
              "<IPython.core.display.HTML object>"
            ],
            "text/html": [
              " View run at <a href='https://wandb.ai/vk2630-new-york-universtity/LAB3_HPML/runs/iikod0w3' target=\"_blank\">https://wandb.ai/vk2630-new-york-universtity/LAB3_HPML/runs/iikod0w3</a>"
            ]
          },
          "metadata": {}
        },
        {
          "output_type": "stream",
          "name": "stdout",
          "text": [
            "Building encoder and decoder ...\n",
            "Models being build.\n",
            "Building optimizers ...\n",
            "Starting Training!\n",
            "Initializing ...\n",
            "Training...\n",
            "Iteration: 4000; Percent complete: 100.0%; Average loss: 4.6944"
          ]
        },
        {
          "output_type": "display_data",
          "data": {
            "text/plain": [
              "<IPython.core.display.HTML object>"
            ],
            "text/html": []
          },
          "metadata": {}
        },
        {
          "output_type": "display_data",
          "data": {
            "text/plain": [
              "<IPython.core.display.HTML object>"
            ],
            "text/html": [
              "<br>    <style><br>        .wandb-row {<br>            display: flex;<br>            flex-direction: row;<br>            flex-wrap: wrap;<br>            justify-content: flex-start;<br>            width: 100%;<br>        }<br>        .wandb-col {<br>            display: flex;<br>            flex-direction: column;<br>            flex-basis: 100%;<br>            flex: 1;<br>            padding: 10px;<br>        }<br>    </style><br><div class=\"wandb-row\"><div class=\"wandb-col\"><h3>Run history:</h3><br/><table class=\"wandb\"><tr><td>loss</td><td>█▄▃▃▄▃▂▂▃▂▂▂▂▂▂▂▂▁▂▂▂▂▂▂▂▂▁▂▂▂▂▂▁▁▂▂▁▂▁▁</td></tr></table><br/></div><div class=\"wandb-col\"><h3>Run summary:</h3><br/><table class=\"wandb\"><tr><td>loss</td><td>39.1446</td></tr></table><br/></div></div>"
            ]
          },
          "metadata": {}
        },
        {
          "output_type": "display_data",
          "data": {
            "text/plain": [
              "<IPython.core.display.HTML object>"
            ],
            "text/html": [
              " View run <strong style=\"color:#cdcd00\">divine-sweep-9</strong> at: <a href='https://wandb.ai/vk2630-new-york-universtity/LAB3_HPML/runs/iikod0w3' target=\"_blank\">https://wandb.ai/vk2630-new-york-universtity/LAB3_HPML/runs/iikod0w3</a><br> View project at: <a href='https://wandb.ai/vk2630-new-york-universtity/LAB3_HPML' target=\"_blank\">https://wandb.ai/vk2630-new-york-universtity/LAB3_HPML</a><br>Synced 5 W&B file(s), 0 media file(s), 0 artifact file(s) and 0 other file(s)"
            ]
          },
          "metadata": {}
        },
        {
          "output_type": "display_data",
          "data": {
            "text/plain": [
              "<IPython.core.display.HTML object>"
            ],
            "text/html": [
              "Find logs at: <code>./wandb/run-20250316_032158-iikod0w3/logs</code>"
            ]
          },
          "metadata": {}
        },
        {
          "output_type": "stream",
          "name": "stderr",
          "text": [
            "\u001b[34m\u001b[1mwandb\u001b[0m: Agent Starting Run: 5e1jt8p6 with config:\n",
            "\u001b[34m\u001b[1mwandb\u001b[0m: \tclip: 50\n",
            "\u001b[34m\u001b[1mwandb\u001b[0m: \tdecoder_lrn_ratio: 10\n",
            "\u001b[34m\u001b[1mwandb\u001b[0m: \tlr: 0.0001\n",
            "\u001b[34m\u001b[1mwandb\u001b[0m: \toptimizer: sgd\n",
            "\u001b[34m\u001b[1mwandb\u001b[0m: \ttf_ratio: 1\n"
          ]
        },
        {
          "output_type": "display_data",
          "data": {
            "text/plain": [
              "<IPython.core.display.HTML object>"
            ],
            "text/html": [
              "Ignoring project 'LAB3_HPML' when running a sweep."
            ]
          },
          "metadata": {}
        },
        {
          "output_type": "display_data",
          "data": {
            "text/plain": [
              "<IPython.core.display.HTML object>"
            ],
            "text/html": [
              "Ignoring entity 'vk2630-new-york-universtity' when running a sweep."
            ]
          },
          "metadata": {}
        },
        {
          "output_type": "display_data",
          "data": {
            "text/plain": [
              "<IPython.core.display.HTML object>"
            ],
            "text/html": [
              "Tracking run with wandb version 0.19.8"
            ]
          },
          "metadata": {}
        },
        {
          "output_type": "display_data",
          "data": {
            "text/plain": [
              "<IPython.core.display.HTML object>"
            ],
            "text/html": [
              "Run data is saved locally in <code>/content/wandb/run-20250316_032545-5e1jt8p6</code>"
            ]
          },
          "metadata": {}
        },
        {
          "output_type": "display_data",
          "data": {
            "text/plain": [
              "<IPython.core.display.HTML object>"
            ],
            "text/html": [
              "Syncing run <strong><a href='https://wandb.ai/vk2630-new-york-universtity/LAB3_HPML/runs/5e1jt8p6' target=\"_blank\">fast-sweep-10</a></strong> to <a href='https://wandb.ai/vk2630-new-york-universtity/LAB3_HPML' target=\"_blank\">Weights & Biases</a> (<a href='https://wandb.me/developer-guide' target=\"_blank\">docs</a>)<br>Sweep page: <a href='https://wandb.ai/vk2630-new-york-universtity/LAB3_HPML/sweeps/ty76xct2' target=\"_blank\">https://wandb.ai/vk2630-new-york-universtity/LAB3_HPML/sweeps/ty76xct2</a>"
            ]
          },
          "metadata": {}
        },
        {
          "output_type": "display_data",
          "data": {
            "text/plain": [
              "<IPython.core.display.HTML object>"
            ],
            "text/html": [
              " View project at <a href='https://wandb.ai/vk2630-new-york-universtity/LAB3_HPML' target=\"_blank\">https://wandb.ai/vk2630-new-york-universtity/LAB3_HPML</a>"
            ]
          },
          "metadata": {}
        },
        {
          "output_type": "display_data",
          "data": {
            "text/plain": [
              "<IPython.core.display.HTML object>"
            ],
            "text/html": [
              " View sweep at <a href='https://wandb.ai/vk2630-new-york-universtity/LAB3_HPML/sweeps/ty76xct2' target=\"_blank\">https://wandb.ai/vk2630-new-york-universtity/LAB3_HPML/sweeps/ty76xct2</a>"
            ]
          },
          "metadata": {}
        },
        {
          "output_type": "display_data",
          "data": {
            "text/plain": [
              "<IPython.core.display.HTML object>"
            ],
            "text/html": [
              " View run at <a href='https://wandb.ai/vk2630-new-york-universtity/LAB3_HPML/runs/5e1jt8p6' target=\"_blank\">https://wandb.ai/vk2630-new-york-universtity/LAB3_HPML/runs/5e1jt8p6</a>"
            ]
          },
          "metadata": {}
        },
        {
          "output_type": "stream",
          "name": "stdout",
          "text": [
            "Building encoder and decoder ...\n",
            "Models being build.\n",
            "Building optimizers ...\n",
            "Starting Training!\n",
            "Initializing ...\n",
            "Training...\n",
            "Iteration: 4000; Percent complete: 100.0%; Average loss: 4.6251"
          ]
        },
        {
          "output_type": "display_data",
          "data": {
            "text/plain": [
              "<IPython.core.display.HTML object>"
            ],
            "text/html": []
          },
          "metadata": {}
        },
        {
          "output_type": "display_data",
          "data": {
            "text/plain": [
              "<IPython.core.display.HTML object>"
            ],
            "text/html": [
              "<br>    <style><br>        .wandb-row {<br>            display: flex;<br>            flex-direction: row;<br>            flex-wrap: wrap;<br>            justify-content: flex-start;<br>            width: 100%;<br>        }<br>        .wandb-col {<br>            display: flex;<br>            flex-direction: column;<br>            flex-basis: 100%;<br>            flex: 1;<br>            padding: 10px;<br>        }<br>    </style><br><div class=\"wandb-row\"><div class=\"wandb-col\"><h3>Run history:</h3><br/><table class=\"wandb\"><tr><td>loss</td><td>██▂▂▂▂▂▂▂▂▁▂▂▂▂▂▁▂▂▁▂▁▁▁▁▁▁▁▂▁▂▁▁▁▁▁▁▁▂▁</td></tr></table><br/></div><div class=\"wandb-col\"><h3>Run summary:</h3><br/><table class=\"wandb\"><tr><td>loss</td><td>38.13268</td></tr></table><br/></div></div>"
            ]
          },
          "metadata": {}
        },
        {
          "output_type": "display_data",
          "data": {
            "text/plain": [
              "<IPython.core.display.HTML object>"
            ],
            "text/html": [
              " View run <strong style=\"color:#cdcd00\">fast-sweep-10</strong> at: <a href='https://wandb.ai/vk2630-new-york-universtity/LAB3_HPML/runs/5e1jt8p6' target=\"_blank\">https://wandb.ai/vk2630-new-york-universtity/LAB3_HPML/runs/5e1jt8p6</a><br> View project at: <a href='https://wandb.ai/vk2630-new-york-universtity/LAB3_HPML' target=\"_blank\">https://wandb.ai/vk2630-new-york-universtity/LAB3_HPML</a><br>Synced 5 W&B file(s), 0 media file(s), 0 artifact file(s) and 0 other file(s)"
            ]
          },
          "metadata": {}
        },
        {
          "output_type": "display_data",
          "data": {
            "text/plain": [
              "<IPython.core.display.HTML object>"
            ],
            "text/html": [
              "Find logs at: <code>./wandb/run-20250316_032545-5e1jt8p6/logs</code>"
            ]
          },
          "metadata": {}
        },
        {
          "output_type": "stream",
          "name": "stderr",
          "text": [
            "\u001b[34m\u001b[1mwandb\u001b[0m: Agent Starting Run: mh11ou64 with config:\n",
            "\u001b[34m\u001b[1mwandb\u001b[0m: \tclip: 50\n",
            "\u001b[34m\u001b[1mwandb\u001b[0m: \tdecoder_lrn_ratio: 5\n",
            "\u001b[34m\u001b[1mwandb\u001b[0m: \tlr: 0.001\n",
            "\u001b[34m\u001b[1mwandb\u001b[0m: \toptimizer: adam\n",
            "\u001b[34m\u001b[1mwandb\u001b[0m: \ttf_ratio: 0\n"
          ]
        },
        {
          "output_type": "display_data",
          "data": {
            "text/plain": [
              "<IPython.core.display.HTML object>"
            ],
            "text/html": [
              "Ignoring project 'LAB3_HPML' when running a sweep."
            ]
          },
          "metadata": {}
        },
        {
          "output_type": "display_data",
          "data": {
            "text/plain": [
              "<IPython.core.display.HTML object>"
            ],
            "text/html": [
              "Ignoring entity 'vk2630-new-york-universtity' when running a sweep."
            ]
          },
          "metadata": {}
        },
        {
          "output_type": "display_data",
          "data": {
            "text/plain": [
              "<IPython.core.display.HTML object>"
            ],
            "text/html": [
              "Tracking run with wandb version 0.19.8"
            ]
          },
          "metadata": {}
        },
        {
          "output_type": "display_data",
          "data": {
            "text/plain": [
              "<IPython.core.display.HTML object>"
            ],
            "text/html": [
              "Run data is saved locally in <code>/content/wandb/run-20250316_032903-mh11ou64</code>"
            ]
          },
          "metadata": {}
        },
        {
          "output_type": "display_data",
          "data": {
            "text/plain": [
              "<IPython.core.display.HTML object>"
            ],
            "text/html": [
              "Syncing run <strong><a href='https://wandb.ai/vk2630-new-york-universtity/LAB3_HPML/runs/mh11ou64' target=\"_blank\">helpful-sweep-11</a></strong> to <a href='https://wandb.ai/vk2630-new-york-universtity/LAB3_HPML' target=\"_blank\">Weights & Biases</a> (<a href='https://wandb.me/developer-guide' target=\"_blank\">docs</a>)<br>Sweep page: <a href='https://wandb.ai/vk2630-new-york-universtity/LAB3_HPML/sweeps/ty76xct2' target=\"_blank\">https://wandb.ai/vk2630-new-york-universtity/LAB3_HPML/sweeps/ty76xct2</a>"
            ]
          },
          "metadata": {}
        },
        {
          "output_type": "display_data",
          "data": {
            "text/plain": [
              "<IPython.core.display.HTML object>"
            ],
            "text/html": [
              " View project at <a href='https://wandb.ai/vk2630-new-york-universtity/LAB3_HPML' target=\"_blank\">https://wandb.ai/vk2630-new-york-universtity/LAB3_HPML</a>"
            ]
          },
          "metadata": {}
        },
        {
          "output_type": "display_data",
          "data": {
            "text/plain": [
              "<IPython.core.display.HTML object>"
            ],
            "text/html": [
              " View sweep at <a href='https://wandb.ai/vk2630-new-york-universtity/LAB3_HPML/sweeps/ty76xct2' target=\"_blank\">https://wandb.ai/vk2630-new-york-universtity/LAB3_HPML/sweeps/ty76xct2</a>"
            ]
          },
          "metadata": {}
        },
        {
          "output_type": "display_data",
          "data": {
            "text/plain": [
              "<IPython.core.display.HTML object>"
            ],
            "text/html": [
              " View run at <a href='https://wandb.ai/vk2630-new-york-universtity/LAB3_HPML/runs/mh11ou64' target=\"_blank\">https://wandb.ai/vk2630-new-york-universtity/LAB3_HPML/runs/mh11ou64</a>"
            ]
          },
          "metadata": {}
        },
        {
          "output_type": "stream",
          "name": "stdout",
          "text": [
            "Building encoder and decoder ...\n",
            "Models being build.\n",
            "Building optimizers ...\n",
            "Starting Training!\n",
            "Initializing ...\n",
            "Training...\n",
            "Iteration: 4000; Percent complete: 100.0%; Average loss: 6.0601"
          ]
        },
        {
          "output_type": "display_data",
          "data": {
            "text/plain": [
              "<IPython.core.display.HTML object>"
            ],
            "text/html": []
          },
          "metadata": {}
        },
        {
          "output_type": "display_data",
          "data": {
            "text/plain": [
              "<IPython.core.display.HTML object>"
            ],
            "text/html": [
              "<br>    <style><br>        .wandb-row {<br>            display: flex;<br>            flex-direction: row;<br>            flex-wrap: wrap;<br>            justify-content: flex-start;<br>            width: 100%;<br>        }<br>        .wandb-col {<br>            display: flex;<br>            flex-direction: column;<br>            flex-basis: 100%;<br>            flex: 1;<br>            padding: 10px;<br>        }<br>    </style><br><div class=\"wandb-row\"><div class=\"wandb-col\"><h3>Run history:</h3><br/><table class=\"wandb\"><tr><td>loss</td><td>▃▂▄▂▁▂▁▄▂▂▂▅▃▅▅▂▆▃▁▇█▄▄▇▄█▄▆▅▅▄▂██▂▂▄▅▆▄</td></tr></table><br/></div><div class=\"wandb-col\"><h3>Run summary:</h3><br/><table class=\"wandb\"><tr><td>loss</td><td>49.40334</td></tr></table><br/></div></div>"
            ]
          },
          "metadata": {}
        },
        {
          "output_type": "display_data",
          "data": {
            "text/plain": [
              "<IPython.core.display.HTML object>"
            ],
            "text/html": [
              " View run <strong style=\"color:#cdcd00\">helpful-sweep-11</strong> at: <a href='https://wandb.ai/vk2630-new-york-universtity/LAB3_HPML/runs/mh11ou64' target=\"_blank\">https://wandb.ai/vk2630-new-york-universtity/LAB3_HPML/runs/mh11ou64</a><br> View project at: <a href='https://wandb.ai/vk2630-new-york-universtity/LAB3_HPML' target=\"_blank\">https://wandb.ai/vk2630-new-york-universtity/LAB3_HPML</a><br>Synced 5 W&B file(s), 0 media file(s), 0 artifact file(s) and 0 other file(s)"
            ]
          },
          "metadata": {}
        },
        {
          "output_type": "display_data",
          "data": {
            "text/plain": [
              "<IPython.core.display.HTML object>"
            ],
            "text/html": [
              "Find logs at: <code>./wandb/run-20250316_032903-mh11ou64/logs</code>"
            ]
          },
          "metadata": {}
        },
        {
          "output_type": "stream",
          "name": "stderr",
          "text": [
            "\u001b[34m\u001b[1mwandb\u001b[0m: Agent Starting Run: oel7rq2i with config:\n",
            "\u001b[34m\u001b[1mwandb\u001b[0m: \tclip: 50\n",
            "\u001b[34m\u001b[1mwandb\u001b[0m: \tdecoder_lrn_ratio: 3\n",
            "\u001b[34m\u001b[1mwandb\u001b[0m: \tlr: 0.001\n",
            "\u001b[34m\u001b[1mwandb\u001b[0m: \toptimizer: adam\n",
            "\u001b[34m\u001b[1mwandb\u001b[0m: \ttf_ratio: 0.5\n"
          ]
        },
        {
          "output_type": "display_data",
          "data": {
            "text/plain": [
              "<IPython.core.display.HTML object>"
            ],
            "text/html": [
              "Ignoring project 'LAB3_HPML' when running a sweep."
            ]
          },
          "metadata": {}
        },
        {
          "output_type": "display_data",
          "data": {
            "text/plain": [
              "<IPython.core.display.HTML object>"
            ],
            "text/html": [
              "Ignoring entity 'vk2630-new-york-universtity' when running a sweep."
            ]
          },
          "metadata": {}
        },
        {
          "output_type": "display_data",
          "data": {
            "text/plain": [
              "<IPython.core.display.HTML object>"
            ],
            "text/html": [
              "Tracking run with wandb version 0.19.8"
            ]
          },
          "metadata": {}
        },
        {
          "output_type": "display_data",
          "data": {
            "text/plain": [
              "<IPython.core.display.HTML object>"
            ],
            "text/html": [
              "Run data is saved locally in <code>/content/wandb/run-20250316_033342-oel7rq2i</code>"
            ]
          },
          "metadata": {}
        },
        {
          "output_type": "display_data",
          "data": {
            "text/plain": [
              "<IPython.core.display.HTML object>"
            ],
            "text/html": [
              "Syncing run <strong><a href='https://wandb.ai/vk2630-new-york-universtity/LAB3_HPML/runs/oel7rq2i' target=\"_blank\">hopeful-sweep-12</a></strong> to <a href='https://wandb.ai/vk2630-new-york-universtity/LAB3_HPML' target=\"_blank\">Weights & Biases</a> (<a href='https://wandb.me/developer-guide' target=\"_blank\">docs</a>)<br>Sweep page: <a href='https://wandb.ai/vk2630-new-york-universtity/LAB3_HPML/sweeps/ty76xct2' target=\"_blank\">https://wandb.ai/vk2630-new-york-universtity/LAB3_HPML/sweeps/ty76xct2</a>"
            ]
          },
          "metadata": {}
        },
        {
          "output_type": "display_data",
          "data": {
            "text/plain": [
              "<IPython.core.display.HTML object>"
            ],
            "text/html": [
              " View project at <a href='https://wandb.ai/vk2630-new-york-universtity/LAB3_HPML' target=\"_blank\">https://wandb.ai/vk2630-new-york-universtity/LAB3_HPML</a>"
            ]
          },
          "metadata": {}
        },
        {
          "output_type": "display_data",
          "data": {
            "text/plain": [
              "<IPython.core.display.HTML object>"
            ],
            "text/html": [
              " View sweep at <a href='https://wandb.ai/vk2630-new-york-universtity/LAB3_HPML/sweeps/ty76xct2' target=\"_blank\">https://wandb.ai/vk2630-new-york-universtity/LAB3_HPML/sweeps/ty76xct2</a>"
            ]
          },
          "metadata": {}
        },
        {
          "output_type": "display_data",
          "data": {
            "text/plain": [
              "<IPython.core.display.HTML object>"
            ],
            "text/html": [
              " View run at <a href='https://wandb.ai/vk2630-new-york-universtity/LAB3_HPML/runs/oel7rq2i' target=\"_blank\">https://wandb.ai/vk2630-new-york-universtity/LAB3_HPML/runs/oel7rq2i</a>"
            ]
          },
          "metadata": {}
        },
        {
          "output_type": "stream",
          "name": "stdout",
          "text": [
            "Building encoder and decoder ...\n",
            "Models being build.\n",
            "Building optimizers ...\n",
            "Starting Training!\n",
            "Initializing ...\n",
            "Training...\n",
            "Iteration: 4000; Percent complete: 100.0%; Average loss: 4.4192"
          ]
        },
        {
          "output_type": "display_data",
          "data": {
            "text/plain": [
              "<IPython.core.display.HTML object>"
            ],
            "text/html": []
          },
          "metadata": {}
        },
        {
          "output_type": "display_data",
          "data": {
            "text/plain": [
              "<IPython.core.display.HTML object>"
            ],
            "text/html": [
              "<br>    <style><br>        .wandb-row {<br>            display: flex;<br>            flex-direction: row;<br>            flex-wrap: wrap;<br>            justify-content: flex-start;<br>            width: 100%;<br>        }<br>        .wandb-col {<br>            display: flex;<br>            flex-direction: column;<br>            flex-basis: 100%;<br>            flex: 1;<br>            padding: 10px;<br>        }<br>    </style><br><div class=\"wandb-row\"><div class=\"wandb-col\"><h3>Run history:</h3><br/><table class=\"wandb\"><tr><td>loss</td><td>▇▅▅▇▅▅▆▇▆▇▇█▅▇▇▂▄▃▂▆▄▆█▂▆▁▇▃▁▅▁▂▆▃▁▂▆▅▅▄</td></tr></table><br/></div><div class=\"wandb-col\"><h3>Run summary:</h3><br/><table class=\"wandb\"><tr><td>loss</td><td>36.05736</td></tr></table><br/></div></div>"
            ]
          },
          "metadata": {}
        },
        {
          "output_type": "display_data",
          "data": {
            "text/plain": [
              "<IPython.core.display.HTML object>"
            ],
            "text/html": [
              " View run <strong style=\"color:#cdcd00\">hopeful-sweep-12</strong> at: <a href='https://wandb.ai/vk2630-new-york-universtity/LAB3_HPML/runs/oel7rq2i' target=\"_blank\">https://wandb.ai/vk2630-new-york-universtity/LAB3_HPML/runs/oel7rq2i</a><br> View project at: <a href='https://wandb.ai/vk2630-new-york-universtity/LAB3_HPML' target=\"_blank\">https://wandb.ai/vk2630-new-york-universtity/LAB3_HPML</a><br>Synced 5 W&B file(s), 0 media file(s), 0 artifact file(s) and 0 other file(s)"
            ]
          },
          "metadata": {}
        },
        {
          "output_type": "display_data",
          "data": {
            "text/plain": [
              "<IPython.core.display.HTML object>"
            ],
            "text/html": [
              "Find logs at: <code>./wandb/run-20250316_033342-oel7rq2i/logs</code>"
            ]
          },
          "metadata": {}
        },
        {
          "output_type": "stream",
          "name": "stderr",
          "text": [
            "\u001b[34m\u001b[1mwandb\u001b[0m: Agent Starting Run: trquikkz with config:\n",
            "\u001b[34m\u001b[1mwandb\u001b[0m: \tclip: 0\n",
            "\u001b[34m\u001b[1mwandb\u001b[0m: \tdecoder_lrn_ratio: 5\n",
            "\u001b[34m\u001b[1mwandb\u001b[0m: \tlr: 0.0005\n",
            "\u001b[34m\u001b[1mwandb\u001b[0m: \toptimizer: sgd\n",
            "\u001b[34m\u001b[1mwandb\u001b[0m: \ttf_ratio: 0.5\n"
          ]
        },
        {
          "output_type": "display_data",
          "data": {
            "text/plain": [
              "<IPython.core.display.HTML object>"
            ],
            "text/html": [
              "Ignoring project 'LAB3_HPML' when running a sweep."
            ]
          },
          "metadata": {}
        },
        {
          "output_type": "display_data",
          "data": {
            "text/plain": [
              "<IPython.core.display.HTML object>"
            ],
            "text/html": [
              "Ignoring entity 'vk2630-new-york-universtity' when running a sweep."
            ]
          },
          "metadata": {}
        },
        {
          "output_type": "display_data",
          "data": {
            "text/plain": [
              "<IPython.core.display.HTML object>"
            ],
            "text/html": [
              "Tracking run with wandb version 0.19.8"
            ]
          },
          "metadata": {}
        },
        {
          "output_type": "display_data",
          "data": {
            "text/plain": [
              "<IPython.core.display.HTML object>"
            ],
            "text/html": [
              "Run data is saved locally in <code>/content/wandb/run-20250316_033756-trquikkz</code>"
            ]
          },
          "metadata": {}
        },
        {
          "output_type": "display_data",
          "data": {
            "text/plain": [
              "<IPython.core.display.HTML object>"
            ],
            "text/html": [
              "Syncing run <strong><a href='https://wandb.ai/vk2630-new-york-universtity/LAB3_HPML/runs/trquikkz' target=\"_blank\">divine-sweep-13</a></strong> to <a href='https://wandb.ai/vk2630-new-york-universtity/LAB3_HPML' target=\"_blank\">Weights & Biases</a> (<a href='https://wandb.me/developer-guide' target=\"_blank\">docs</a>)<br>Sweep page: <a href='https://wandb.ai/vk2630-new-york-universtity/LAB3_HPML/sweeps/ty76xct2' target=\"_blank\">https://wandb.ai/vk2630-new-york-universtity/LAB3_HPML/sweeps/ty76xct2</a>"
            ]
          },
          "metadata": {}
        },
        {
          "output_type": "display_data",
          "data": {
            "text/plain": [
              "<IPython.core.display.HTML object>"
            ],
            "text/html": [
              " View project at <a href='https://wandb.ai/vk2630-new-york-universtity/LAB3_HPML' target=\"_blank\">https://wandb.ai/vk2630-new-york-universtity/LAB3_HPML</a>"
            ]
          },
          "metadata": {}
        },
        {
          "output_type": "display_data",
          "data": {
            "text/plain": [
              "<IPython.core.display.HTML object>"
            ],
            "text/html": [
              " View sweep at <a href='https://wandb.ai/vk2630-new-york-universtity/LAB3_HPML/sweeps/ty76xct2' target=\"_blank\">https://wandb.ai/vk2630-new-york-universtity/LAB3_HPML/sweeps/ty76xct2</a>"
            ]
          },
          "metadata": {}
        },
        {
          "output_type": "display_data",
          "data": {
            "text/plain": [
              "<IPython.core.display.HTML object>"
            ],
            "text/html": [
              " View run at <a href='https://wandb.ai/vk2630-new-york-universtity/LAB3_HPML/runs/trquikkz' target=\"_blank\">https://wandb.ai/vk2630-new-york-universtity/LAB3_HPML/runs/trquikkz</a>"
            ]
          },
          "metadata": {}
        },
        {
          "output_type": "stream",
          "name": "stdout",
          "text": [
            "Building encoder and decoder ...\n",
            "Models being build.\n",
            "Building optimizers ...\n",
            "Starting Training!\n",
            "Initializing ...\n",
            "Training...\n",
            "Iteration: 4000; Percent complete: 100.0%; Average loss: 8.9646"
          ]
        },
        {
          "output_type": "display_data",
          "data": {
            "text/plain": [
              "<IPython.core.display.HTML object>"
            ],
            "text/html": []
          },
          "metadata": {}
        },
        {
          "output_type": "display_data",
          "data": {
            "text/plain": [
              "<IPython.core.display.HTML object>"
            ],
            "text/html": [
              "<br>    <style><br>        .wandb-row {<br>            display: flex;<br>            flex-direction: row;<br>            flex-wrap: wrap;<br>            justify-content: flex-start;<br>            width: 100%;<br>        }<br>        .wandb-col {<br>            display: flex;<br>            flex-direction: column;<br>            flex-basis: 100%;<br>            flex: 1;<br>            padding: 10px;<br>        }<br>    </style><br><div class=\"wandb-row\"><div class=\"wandb-col\"><h3>Run history:</h3><br/><table class=\"wandb\"><tr><td>loss</td><td>▅▆▇▆▆▆▃▅▅▆▃▇▅▃▃█▅▆▂▆█▅▇▄▄▃▃▅▆█▆▆▁▆███▅▁▄</td></tr></table><br/></div><div class=\"wandb-col\"><h3>Run summary:</h3><br/><table class=\"wandb\"><tr><td>loss</td><td>89.68105</td></tr></table><br/></div></div>"
            ]
          },
          "metadata": {}
        },
        {
          "output_type": "display_data",
          "data": {
            "text/plain": [
              "<IPython.core.display.HTML object>"
            ],
            "text/html": [
              " View run <strong style=\"color:#cdcd00\">divine-sweep-13</strong> at: <a href='https://wandb.ai/vk2630-new-york-universtity/LAB3_HPML/runs/trquikkz' target=\"_blank\">https://wandb.ai/vk2630-new-york-universtity/LAB3_HPML/runs/trquikkz</a><br> View project at: <a href='https://wandb.ai/vk2630-new-york-universtity/LAB3_HPML' target=\"_blank\">https://wandb.ai/vk2630-new-york-universtity/LAB3_HPML</a><br>Synced 5 W&B file(s), 0 media file(s), 0 artifact file(s) and 0 other file(s)"
            ]
          },
          "metadata": {}
        },
        {
          "output_type": "display_data",
          "data": {
            "text/plain": [
              "<IPython.core.display.HTML object>"
            ],
            "text/html": [
              "Find logs at: <code>./wandb/run-20250316_033756-trquikkz/logs</code>"
            ]
          },
          "metadata": {}
        },
        {
          "output_type": "stream",
          "name": "stderr",
          "text": [
            "\u001b[34m\u001b[1mwandb\u001b[0m: Agent Starting Run: fg145zj3 with config:\n",
            "\u001b[34m\u001b[1mwandb\u001b[0m: \tclip: 100\n",
            "\u001b[34m\u001b[1mwandb\u001b[0m: \tdecoder_lrn_ratio: 5\n",
            "\u001b[34m\u001b[1mwandb\u001b[0m: \tlr: 0.00025\n",
            "\u001b[34m\u001b[1mwandb\u001b[0m: \toptimizer: sgd\n",
            "\u001b[34m\u001b[1mwandb\u001b[0m: \ttf_ratio: 0\n"
          ]
        },
        {
          "output_type": "display_data",
          "data": {
            "text/plain": [
              "<IPython.core.display.HTML object>"
            ],
            "text/html": [
              "Ignoring project 'LAB3_HPML' when running a sweep."
            ]
          },
          "metadata": {}
        },
        {
          "output_type": "display_data",
          "data": {
            "text/plain": [
              "<IPython.core.display.HTML object>"
            ],
            "text/html": [
              "Ignoring entity 'vk2630-new-york-universtity' when running a sweep."
            ]
          },
          "metadata": {}
        },
        {
          "output_type": "display_data",
          "data": {
            "text/plain": [
              "<IPython.core.display.HTML object>"
            ],
            "text/html": [
              "Tracking run with wandb version 0.19.8"
            ]
          },
          "metadata": {}
        },
        {
          "output_type": "display_data",
          "data": {
            "text/plain": [
              "<IPython.core.display.HTML object>"
            ],
            "text/html": [
              "Run data is saved locally in <code>/content/wandb/run-20250316_034144-fg145zj3</code>"
            ]
          },
          "metadata": {}
        },
        {
          "output_type": "display_data",
          "data": {
            "text/plain": [
              "<IPython.core.display.HTML object>"
            ],
            "text/html": [
              "Syncing run <strong><a href='https://wandb.ai/vk2630-new-york-universtity/LAB3_HPML/runs/fg145zj3' target=\"_blank\">cool-sweep-14</a></strong> to <a href='https://wandb.ai/vk2630-new-york-universtity/LAB3_HPML' target=\"_blank\">Weights & Biases</a> (<a href='https://wandb.me/developer-guide' target=\"_blank\">docs</a>)<br>Sweep page: <a href='https://wandb.ai/vk2630-new-york-universtity/LAB3_HPML/sweeps/ty76xct2' target=\"_blank\">https://wandb.ai/vk2630-new-york-universtity/LAB3_HPML/sweeps/ty76xct2</a>"
            ]
          },
          "metadata": {}
        },
        {
          "output_type": "display_data",
          "data": {
            "text/plain": [
              "<IPython.core.display.HTML object>"
            ],
            "text/html": [
              " View project at <a href='https://wandb.ai/vk2630-new-york-universtity/LAB3_HPML' target=\"_blank\">https://wandb.ai/vk2630-new-york-universtity/LAB3_HPML</a>"
            ]
          },
          "metadata": {}
        },
        {
          "output_type": "display_data",
          "data": {
            "text/plain": [
              "<IPython.core.display.HTML object>"
            ],
            "text/html": [
              " View sweep at <a href='https://wandb.ai/vk2630-new-york-universtity/LAB3_HPML/sweeps/ty76xct2' target=\"_blank\">https://wandb.ai/vk2630-new-york-universtity/LAB3_HPML/sweeps/ty76xct2</a>"
            ]
          },
          "metadata": {}
        },
        {
          "output_type": "display_data",
          "data": {
            "text/plain": [
              "<IPython.core.display.HTML object>"
            ],
            "text/html": [
              " View run at <a href='https://wandb.ai/vk2630-new-york-universtity/LAB3_HPML/runs/fg145zj3' target=\"_blank\">https://wandb.ai/vk2630-new-york-universtity/LAB3_HPML/runs/fg145zj3</a>"
            ]
          },
          "metadata": {}
        },
        {
          "output_type": "stream",
          "name": "stdout",
          "text": [
            "Building encoder and decoder ...\n",
            "Models being build.\n",
            "Building optimizers ...\n",
            "Starting Training!\n",
            "Initializing ...\n",
            "Training...\n",
            "Iteration: 4000; Percent complete: 100.0%; Average loss: 4.8043"
          ]
        },
        {
          "output_type": "display_data",
          "data": {
            "text/plain": [
              "<IPython.core.display.HTML object>"
            ],
            "text/html": []
          },
          "metadata": {}
        },
        {
          "output_type": "display_data",
          "data": {
            "text/plain": [
              "<IPython.core.display.HTML object>"
            ],
            "text/html": [
              "<br>    <style><br>        .wandb-row {<br>            display: flex;<br>            flex-direction: row;<br>            flex-wrap: wrap;<br>            justify-content: flex-start;<br>            width: 100%;<br>        }<br>        .wandb-col {<br>            display: flex;<br>            flex-direction: column;<br>            flex-basis: 100%;<br>            flex: 1;<br>            padding: 10px;<br>        }<br>    </style><br><div class=\"wandb-row\"><div class=\"wandb-col\"><h3>Run history:</h3><br/><table class=\"wandb\"><tr><td>loss</td><td>█▅▃▄▄▂▂▃▃▂▂▂▃▃▂▄▂▂▂▃▃▂▂▁▃▂▁▂▂▂▃▂▂▂▂▂▂▂▃▃</td></tr></table><br/></div><div class=\"wandb-col\"><h3>Run summary:</h3><br/><table class=\"wandb\"><tr><td>loss</td><td>39.26886</td></tr></table><br/></div></div>"
            ]
          },
          "metadata": {}
        },
        {
          "output_type": "display_data",
          "data": {
            "text/plain": [
              "<IPython.core.display.HTML object>"
            ],
            "text/html": [
              " View run <strong style=\"color:#cdcd00\">cool-sweep-14</strong> at: <a href='https://wandb.ai/vk2630-new-york-universtity/LAB3_HPML/runs/fg145zj3' target=\"_blank\">https://wandb.ai/vk2630-new-york-universtity/LAB3_HPML/runs/fg145zj3</a><br> View project at: <a href='https://wandb.ai/vk2630-new-york-universtity/LAB3_HPML' target=\"_blank\">https://wandb.ai/vk2630-new-york-universtity/LAB3_HPML</a><br>Synced 5 W&B file(s), 0 media file(s), 0 artifact file(s) and 0 other file(s)"
            ]
          },
          "metadata": {}
        },
        {
          "output_type": "display_data",
          "data": {
            "text/plain": [
              "<IPython.core.display.HTML object>"
            ],
            "text/html": [
              "Find logs at: <code>./wandb/run-20250316_034144-fg145zj3/logs</code>"
            ]
          },
          "metadata": {}
        },
        {
          "output_type": "stream",
          "name": "stderr",
          "text": [
            "\u001b[34m\u001b[1mwandb\u001b[0m: Agent Starting Run: 72o2fu89 with config:\n",
            "\u001b[34m\u001b[1mwandb\u001b[0m: \tclip: 50\n",
            "\u001b[34m\u001b[1mwandb\u001b[0m: \tdecoder_lrn_ratio: 3\n",
            "\u001b[34m\u001b[1mwandb\u001b[0m: \tlr: 0.0001\n",
            "\u001b[34m\u001b[1mwandb\u001b[0m: \toptimizer: adam\n",
            "\u001b[34m\u001b[1mwandb\u001b[0m: \ttf_ratio: 0\n"
          ]
        },
        {
          "output_type": "display_data",
          "data": {
            "text/plain": [
              "<IPython.core.display.HTML object>"
            ],
            "text/html": [
              "Ignoring project 'LAB3_HPML' when running a sweep."
            ]
          },
          "metadata": {}
        },
        {
          "output_type": "display_data",
          "data": {
            "text/plain": [
              "<IPython.core.display.HTML object>"
            ],
            "text/html": [
              "Ignoring entity 'vk2630-new-york-universtity' when running a sweep."
            ]
          },
          "metadata": {}
        },
        {
          "output_type": "display_data",
          "data": {
            "text/plain": [
              "<IPython.core.display.HTML object>"
            ],
            "text/html": [
              "Tracking run with wandb version 0.19.8"
            ]
          },
          "metadata": {}
        },
        {
          "output_type": "display_data",
          "data": {
            "text/plain": [
              "<IPython.core.display.HTML object>"
            ],
            "text/html": [
              "Run data is saved locally in <code>/content/wandb/run-20250316_034602-72o2fu89</code>"
            ]
          },
          "metadata": {}
        },
        {
          "output_type": "display_data",
          "data": {
            "text/plain": [
              "<IPython.core.display.HTML object>"
            ],
            "text/html": [
              "Syncing run <strong><a href='https://wandb.ai/vk2630-new-york-universtity/LAB3_HPML/runs/72o2fu89' target=\"_blank\">crisp-sweep-15</a></strong> to <a href='https://wandb.ai/vk2630-new-york-universtity/LAB3_HPML' target=\"_blank\">Weights & Biases</a> (<a href='https://wandb.me/developer-guide' target=\"_blank\">docs</a>)<br>Sweep page: <a href='https://wandb.ai/vk2630-new-york-universtity/LAB3_HPML/sweeps/ty76xct2' target=\"_blank\">https://wandb.ai/vk2630-new-york-universtity/LAB3_HPML/sweeps/ty76xct2</a>"
            ]
          },
          "metadata": {}
        },
        {
          "output_type": "display_data",
          "data": {
            "text/plain": [
              "<IPython.core.display.HTML object>"
            ],
            "text/html": [
              " View project at <a href='https://wandb.ai/vk2630-new-york-universtity/LAB3_HPML' target=\"_blank\">https://wandb.ai/vk2630-new-york-universtity/LAB3_HPML</a>"
            ]
          },
          "metadata": {}
        },
        {
          "output_type": "display_data",
          "data": {
            "text/plain": [
              "<IPython.core.display.HTML object>"
            ],
            "text/html": [
              " View sweep at <a href='https://wandb.ai/vk2630-new-york-universtity/LAB3_HPML/sweeps/ty76xct2' target=\"_blank\">https://wandb.ai/vk2630-new-york-universtity/LAB3_HPML/sweeps/ty76xct2</a>"
            ]
          },
          "metadata": {}
        },
        {
          "output_type": "display_data",
          "data": {
            "text/plain": [
              "<IPython.core.display.HTML object>"
            ],
            "text/html": [
              " View run at <a href='https://wandb.ai/vk2630-new-york-universtity/LAB3_HPML/runs/72o2fu89' target=\"_blank\">https://wandb.ai/vk2630-new-york-universtity/LAB3_HPML/runs/72o2fu89</a>"
            ]
          },
          "metadata": {}
        },
        {
          "output_type": "stream",
          "name": "stdout",
          "text": [
            "Building encoder and decoder ...\n",
            "Models being build.\n",
            "Building optimizers ...\n",
            "Starting Training!\n",
            "Initializing ...\n",
            "Training...\n",
            "Iteration: 4000; Percent complete: 100.0%; Average loss: 4.1461"
          ]
        },
        {
          "output_type": "display_data",
          "data": {
            "text/plain": [
              "<IPython.core.display.HTML object>"
            ],
            "text/html": []
          },
          "metadata": {}
        },
        {
          "output_type": "display_data",
          "data": {
            "text/plain": [
              "<IPython.core.display.HTML object>"
            ],
            "text/html": [
              "<br>    <style><br>        .wandb-row {<br>            display: flex;<br>            flex-direction: row;<br>            flex-wrap: wrap;<br>            justify-content: flex-start;<br>            width: 100%;<br>        }<br>        .wandb-col {<br>            display: flex;<br>            flex-direction: column;<br>            flex-basis: 100%;<br>            flex: 1;<br>            padding: 10px;<br>        }<br>    </style><br><div class=\"wandb-row\"><div class=\"wandb-col\"><h3>Run history:</h3><br/><table class=\"wandb\"><tr><td>loss</td><td>▅▅▅▁▆▅█▇▅▃▄▄▃▃▅▃▅▅▃▅▃▅▃▃▄▄▅▂▄▄▅▃▃▃▄▃▄▃▃▂</td></tr></table><br/></div><div class=\"wandb-col\"><h3>Run summary:</h3><br/><table class=\"wandb\"><tr><td>loss</td><td>34.0154</td></tr></table><br/></div></div>"
            ]
          },
          "metadata": {}
        },
        {
          "output_type": "display_data",
          "data": {
            "text/plain": [
              "<IPython.core.display.HTML object>"
            ],
            "text/html": [
              " View run <strong style=\"color:#cdcd00\">crisp-sweep-15</strong> at: <a href='https://wandb.ai/vk2630-new-york-universtity/LAB3_HPML/runs/72o2fu89' target=\"_blank\">https://wandb.ai/vk2630-new-york-universtity/LAB3_HPML/runs/72o2fu89</a><br> View project at: <a href='https://wandb.ai/vk2630-new-york-universtity/LAB3_HPML' target=\"_blank\">https://wandb.ai/vk2630-new-york-universtity/LAB3_HPML</a><br>Synced 5 W&B file(s), 0 media file(s), 0 artifact file(s) and 0 other file(s)"
            ]
          },
          "metadata": {}
        },
        {
          "output_type": "display_data",
          "data": {
            "text/plain": [
              "<IPython.core.display.HTML object>"
            ],
            "text/html": [
              "Find logs at: <code>./wandb/run-20250316_034602-72o2fu89/logs</code>"
            ]
          },
          "metadata": {}
        },
        {
          "output_type": "stream",
          "name": "stderr",
          "text": [
            "\u001b[34m\u001b[1mwandb\u001b[0m: Agent Starting Run: mcen6w9w with config:\n",
            "\u001b[34m\u001b[1mwandb\u001b[0m: \tclip: 0\n",
            "\u001b[34m\u001b[1mwandb\u001b[0m: \tdecoder_lrn_ratio: 3\n",
            "\u001b[34m\u001b[1mwandb\u001b[0m: \tlr: 0.00025\n",
            "\u001b[34m\u001b[1mwandb\u001b[0m: \toptimizer: sgd\n",
            "\u001b[34m\u001b[1mwandb\u001b[0m: \ttf_ratio: 0\n"
          ]
        },
        {
          "output_type": "display_data",
          "data": {
            "text/plain": [
              "<IPython.core.display.HTML object>"
            ],
            "text/html": [
              "Ignoring project 'LAB3_HPML' when running a sweep."
            ]
          },
          "metadata": {}
        },
        {
          "output_type": "display_data",
          "data": {
            "text/plain": [
              "<IPython.core.display.HTML object>"
            ],
            "text/html": [
              "Ignoring entity 'vk2630-new-york-universtity' when running a sweep."
            ]
          },
          "metadata": {}
        },
        {
          "output_type": "display_data",
          "data": {
            "text/plain": [
              "<IPython.core.display.HTML object>"
            ],
            "text/html": [
              "Tracking run with wandb version 0.19.8"
            ]
          },
          "metadata": {}
        },
        {
          "output_type": "display_data",
          "data": {
            "text/plain": [
              "<IPython.core.display.HTML object>"
            ],
            "text/html": [
              "Run data is saved locally in <code>/content/wandb/run-20250316_035041-mcen6w9w</code>"
            ]
          },
          "metadata": {}
        },
        {
          "output_type": "display_data",
          "data": {
            "text/plain": [
              "<IPython.core.display.HTML object>"
            ],
            "text/html": [
              "Syncing run <strong><a href='https://wandb.ai/vk2630-new-york-universtity/LAB3_HPML/runs/mcen6w9w' target=\"_blank\">young-sweep-16</a></strong> to <a href='https://wandb.ai/vk2630-new-york-universtity/LAB3_HPML' target=\"_blank\">Weights & Biases</a> (<a href='https://wandb.me/developer-guide' target=\"_blank\">docs</a>)<br>Sweep page: <a href='https://wandb.ai/vk2630-new-york-universtity/LAB3_HPML/sweeps/ty76xct2' target=\"_blank\">https://wandb.ai/vk2630-new-york-universtity/LAB3_HPML/sweeps/ty76xct2</a>"
            ]
          },
          "metadata": {}
        },
        {
          "output_type": "display_data",
          "data": {
            "text/plain": [
              "<IPython.core.display.HTML object>"
            ],
            "text/html": [
              " View project at <a href='https://wandb.ai/vk2630-new-york-universtity/LAB3_HPML' target=\"_blank\">https://wandb.ai/vk2630-new-york-universtity/LAB3_HPML</a>"
            ]
          },
          "metadata": {}
        },
        {
          "output_type": "display_data",
          "data": {
            "text/plain": [
              "<IPython.core.display.HTML object>"
            ],
            "text/html": [
              " View sweep at <a href='https://wandb.ai/vk2630-new-york-universtity/LAB3_HPML/sweeps/ty76xct2' target=\"_blank\">https://wandb.ai/vk2630-new-york-universtity/LAB3_HPML/sweeps/ty76xct2</a>"
            ]
          },
          "metadata": {}
        },
        {
          "output_type": "display_data",
          "data": {
            "text/plain": [
              "<IPython.core.display.HTML object>"
            ],
            "text/html": [
              " View run at <a href='https://wandb.ai/vk2630-new-york-universtity/LAB3_HPML/runs/mcen6w9w' target=\"_blank\">https://wandb.ai/vk2630-new-york-universtity/LAB3_HPML/runs/mcen6w9w</a>"
            ]
          },
          "metadata": {}
        },
        {
          "output_type": "stream",
          "name": "stdout",
          "text": [
            "Building encoder and decoder ...\n",
            "Models being build.\n",
            "Building optimizers ...\n",
            "Starting Training!\n",
            "Initializing ...\n",
            "Training...\n",
            "Iteration: 4000; Percent complete: 100.0%; Average loss: 8.9738"
          ]
        },
        {
          "output_type": "display_data",
          "data": {
            "text/plain": [
              "<IPython.core.display.HTML object>"
            ],
            "text/html": []
          },
          "metadata": {}
        },
        {
          "output_type": "display_data",
          "data": {
            "text/plain": [
              "<IPython.core.display.HTML object>"
            ],
            "text/html": [
              "<br>    <style><br>        .wandb-row {<br>            display: flex;<br>            flex-direction: row;<br>            flex-wrap: wrap;<br>            justify-content: flex-start;<br>            width: 100%;<br>        }<br>        .wandb-col {<br>            display: flex;<br>            flex-direction: column;<br>            flex-basis: 100%;<br>            flex: 1;<br>            padding: 10px;<br>        }<br>    </style><br><div class=\"wandb-row\"><div class=\"wandb-col\"><h3>Run history:</h3><br/><table class=\"wandb\"><tr><td>loss</td><td>▆▄▃█▃▆▅▃▇▆▅▃▇▅▆▃▄▄▄▁▇▃▆▅▃▄▂▇▆▄▃▄▅▃▆▅▅▄▄▇</td></tr></table><br/></div><div class=\"wandb-col\"><h3>Run summary:</h3><br/><table class=\"wandb\"><tr><td>loss</td><td>89.7225</td></tr></table><br/></div></div>"
            ]
          },
          "metadata": {}
        },
        {
          "output_type": "display_data",
          "data": {
            "text/plain": [
              "<IPython.core.display.HTML object>"
            ],
            "text/html": [
              " View run <strong style=\"color:#cdcd00\">young-sweep-16</strong> at: <a href='https://wandb.ai/vk2630-new-york-universtity/LAB3_HPML/runs/mcen6w9w' target=\"_blank\">https://wandb.ai/vk2630-new-york-universtity/LAB3_HPML/runs/mcen6w9w</a><br> View project at: <a href='https://wandb.ai/vk2630-new-york-universtity/LAB3_HPML' target=\"_blank\">https://wandb.ai/vk2630-new-york-universtity/LAB3_HPML</a><br>Synced 5 W&B file(s), 0 media file(s), 0 artifact file(s) and 0 other file(s)"
            ]
          },
          "metadata": {}
        },
        {
          "output_type": "display_data",
          "data": {
            "text/plain": [
              "<IPython.core.display.HTML object>"
            ],
            "text/html": [
              "Find logs at: <code>./wandb/run-20250316_035041-mcen6w9w/logs</code>"
            ]
          },
          "metadata": {}
        },
        {
          "output_type": "stream",
          "name": "stderr",
          "text": [
            "\u001b[34m\u001b[1mwandb\u001b[0m: Agent Starting Run: dojmci9m with config:\n",
            "\u001b[34m\u001b[1mwandb\u001b[0m: \tclip: 50\n",
            "\u001b[34m\u001b[1mwandb\u001b[0m: \tdecoder_lrn_ratio: 10\n",
            "\u001b[34m\u001b[1mwandb\u001b[0m: \tlr: 0.0005\n",
            "\u001b[34m\u001b[1mwandb\u001b[0m: \toptimizer: sgd\n",
            "\u001b[34m\u001b[1mwandb\u001b[0m: \ttf_ratio: 0\n"
          ]
        },
        {
          "output_type": "display_data",
          "data": {
            "text/plain": [
              "<IPython.core.display.HTML object>"
            ],
            "text/html": [
              "Ignoring project 'LAB3_HPML' when running a sweep."
            ]
          },
          "metadata": {}
        },
        {
          "output_type": "display_data",
          "data": {
            "text/plain": [
              "<IPython.core.display.HTML object>"
            ],
            "text/html": [
              "Ignoring entity 'vk2630-new-york-universtity' when running a sweep."
            ]
          },
          "metadata": {}
        },
        {
          "output_type": "display_data",
          "data": {
            "text/plain": [
              "<IPython.core.display.HTML object>"
            ],
            "text/html": [
              "Tracking run with wandb version 0.19.8"
            ]
          },
          "metadata": {}
        },
        {
          "output_type": "display_data",
          "data": {
            "text/plain": [
              "<IPython.core.display.HTML object>"
            ],
            "text/html": [
              "Run data is saved locally in <code>/content/wandb/run-20250316_035459-dojmci9m</code>"
            ]
          },
          "metadata": {}
        },
        {
          "output_type": "display_data",
          "data": {
            "text/plain": [
              "<IPython.core.display.HTML object>"
            ],
            "text/html": [
              "Syncing run <strong><a href='https://wandb.ai/vk2630-new-york-universtity/LAB3_HPML/runs/dojmci9m' target=\"_blank\">fanciful-sweep-17</a></strong> to <a href='https://wandb.ai/vk2630-new-york-universtity/LAB3_HPML' target=\"_blank\">Weights & Biases</a> (<a href='https://wandb.me/developer-guide' target=\"_blank\">docs</a>)<br>Sweep page: <a href='https://wandb.ai/vk2630-new-york-universtity/LAB3_HPML/sweeps/ty76xct2' target=\"_blank\">https://wandb.ai/vk2630-new-york-universtity/LAB3_HPML/sweeps/ty76xct2</a>"
            ]
          },
          "metadata": {}
        },
        {
          "output_type": "display_data",
          "data": {
            "text/plain": [
              "<IPython.core.display.HTML object>"
            ],
            "text/html": [
              " View project at <a href='https://wandb.ai/vk2630-new-york-universtity/LAB3_HPML' target=\"_blank\">https://wandb.ai/vk2630-new-york-universtity/LAB3_HPML</a>"
            ]
          },
          "metadata": {}
        },
        {
          "output_type": "display_data",
          "data": {
            "text/plain": [
              "<IPython.core.display.HTML object>"
            ],
            "text/html": [
              " View sweep at <a href='https://wandb.ai/vk2630-new-york-universtity/LAB3_HPML/sweeps/ty76xct2' target=\"_blank\">https://wandb.ai/vk2630-new-york-universtity/LAB3_HPML/sweeps/ty76xct2</a>"
            ]
          },
          "metadata": {}
        },
        {
          "output_type": "display_data",
          "data": {
            "text/plain": [
              "<IPython.core.display.HTML object>"
            ],
            "text/html": [
              " View run at <a href='https://wandb.ai/vk2630-new-york-universtity/LAB3_HPML/runs/dojmci9m' target=\"_blank\">https://wandb.ai/vk2630-new-york-universtity/LAB3_HPML/runs/dojmci9m</a>"
            ]
          },
          "metadata": {}
        },
        {
          "output_type": "stream",
          "name": "stdout",
          "text": [
            "Building encoder and decoder ...\n",
            "Models being build.\n",
            "Building optimizers ...\n",
            "Starting Training!\n",
            "Initializing ...\n",
            "Training...\n",
            "Iteration: 4000; Percent complete: 100.0%; Average loss: 4.7453"
          ]
        },
        {
          "output_type": "display_data",
          "data": {
            "text/plain": [
              "<IPython.core.display.HTML object>"
            ],
            "text/html": []
          },
          "metadata": {}
        },
        {
          "output_type": "display_data",
          "data": {
            "text/plain": [
              "<IPython.core.display.HTML object>"
            ],
            "text/html": [
              "<br>    <style><br>        .wandb-row {<br>            display: flex;<br>            flex-direction: row;<br>            flex-wrap: wrap;<br>            justify-content: flex-start;<br>            width: 100%;<br>        }<br>        .wandb-col {<br>            display: flex;<br>            flex-direction: column;<br>            flex-basis: 100%;<br>            flex: 1;<br>            padding: 10px;<br>        }<br>    </style><br><div class=\"wandb-row\"><div class=\"wandb-col\"><h3>Run history:</h3><br/><table class=\"wandb\"><tr><td>loss</td><td>█▇▄▄▃▃▂▂▂▂▃▂▂▂▁▂▂▂▁▂▁▂▂▂▂▁▃▃▁▂▂▂▁▂▁▂▂▂▁▂</td></tr></table><br/></div><div class=\"wandb-col\"><h3>Run summary:</h3><br/><table class=\"wandb\"><tr><td>loss</td><td>39.15896</td></tr></table><br/></div></div>"
            ]
          },
          "metadata": {}
        },
        {
          "output_type": "display_data",
          "data": {
            "text/plain": [
              "<IPython.core.display.HTML object>"
            ],
            "text/html": [
              " View run <strong style=\"color:#cdcd00\">fanciful-sweep-17</strong> at: <a href='https://wandb.ai/vk2630-new-york-universtity/LAB3_HPML/runs/dojmci9m' target=\"_blank\">https://wandb.ai/vk2630-new-york-universtity/LAB3_HPML/runs/dojmci9m</a><br> View project at: <a href='https://wandb.ai/vk2630-new-york-universtity/LAB3_HPML' target=\"_blank\">https://wandb.ai/vk2630-new-york-universtity/LAB3_HPML</a><br>Synced 5 W&B file(s), 0 media file(s), 0 artifact file(s) and 0 other file(s)"
            ]
          },
          "metadata": {}
        },
        {
          "output_type": "display_data",
          "data": {
            "text/plain": [
              "<IPython.core.display.HTML object>"
            ],
            "text/html": [
              "Find logs at: <code>./wandb/run-20250316_035459-dojmci9m/logs</code>"
            ]
          },
          "metadata": {}
        },
        {
          "output_type": "stream",
          "name": "stderr",
          "text": [
            "\u001b[34m\u001b[1mwandb\u001b[0m: Agent Starting Run: wkodogpk with config:\n",
            "\u001b[34m\u001b[1mwandb\u001b[0m: \tclip: 50\n",
            "\u001b[34m\u001b[1mwandb\u001b[0m: \tdecoder_lrn_ratio: 10\n",
            "\u001b[34m\u001b[1mwandb\u001b[0m: \tlr: 0.0005\n",
            "\u001b[34m\u001b[1mwandb\u001b[0m: \toptimizer: sgd\n",
            "\u001b[34m\u001b[1mwandb\u001b[0m: \ttf_ratio: 1\n"
          ]
        },
        {
          "output_type": "display_data",
          "data": {
            "text/plain": [
              "<IPython.core.display.HTML object>"
            ],
            "text/html": [
              "Ignoring project 'LAB3_HPML' when running a sweep."
            ]
          },
          "metadata": {}
        },
        {
          "output_type": "display_data",
          "data": {
            "text/plain": [
              "<IPython.core.display.HTML object>"
            ],
            "text/html": [
              "Ignoring entity 'vk2630-new-york-universtity' when running a sweep."
            ]
          },
          "metadata": {}
        },
        {
          "output_type": "display_data",
          "data": {
            "text/plain": [
              "<IPython.core.display.HTML object>"
            ],
            "text/html": [
              "Tracking run with wandb version 0.19.8"
            ]
          },
          "metadata": {}
        },
        {
          "output_type": "display_data",
          "data": {
            "text/plain": [
              "<IPython.core.display.HTML object>"
            ],
            "text/html": [
              "Run data is saved locally in <code>/content/wandb/run-20250316_035917-wkodogpk</code>"
            ]
          },
          "metadata": {}
        },
        {
          "output_type": "display_data",
          "data": {
            "text/plain": [
              "<IPython.core.display.HTML object>"
            ],
            "text/html": [
              "Syncing run <strong><a href='https://wandb.ai/vk2630-new-york-universtity/LAB3_HPML/runs/wkodogpk' target=\"_blank\">wild-sweep-18</a></strong> to <a href='https://wandb.ai/vk2630-new-york-universtity/LAB3_HPML' target=\"_blank\">Weights & Biases</a> (<a href='https://wandb.me/developer-guide' target=\"_blank\">docs</a>)<br>Sweep page: <a href='https://wandb.ai/vk2630-new-york-universtity/LAB3_HPML/sweeps/ty76xct2' target=\"_blank\">https://wandb.ai/vk2630-new-york-universtity/LAB3_HPML/sweeps/ty76xct2</a>"
            ]
          },
          "metadata": {}
        },
        {
          "output_type": "display_data",
          "data": {
            "text/plain": [
              "<IPython.core.display.HTML object>"
            ],
            "text/html": [
              " View project at <a href='https://wandb.ai/vk2630-new-york-universtity/LAB3_HPML' target=\"_blank\">https://wandb.ai/vk2630-new-york-universtity/LAB3_HPML</a>"
            ]
          },
          "metadata": {}
        },
        {
          "output_type": "display_data",
          "data": {
            "text/plain": [
              "<IPython.core.display.HTML object>"
            ],
            "text/html": [
              " View sweep at <a href='https://wandb.ai/vk2630-new-york-universtity/LAB3_HPML/sweeps/ty76xct2' target=\"_blank\">https://wandb.ai/vk2630-new-york-universtity/LAB3_HPML/sweeps/ty76xct2</a>"
            ]
          },
          "metadata": {}
        },
        {
          "output_type": "display_data",
          "data": {
            "text/plain": [
              "<IPython.core.display.HTML object>"
            ],
            "text/html": [
              " View run at <a href='https://wandb.ai/vk2630-new-york-universtity/LAB3_HPML/runs/wkodogpk' target=\"_blank\">https://wandb.ai/vk2630-new-york-universtity/LAB3_HPML/runs/wkodogpk</a>"
            ]
          },
          "metadata": {}
        },
        {
          "output_type": "stream",
          "name": "stdout",
          "text": [
            "Building encoder and decoder ...\n",
            "Models being build.\n",
            "Building optimizers ...\n",
            "Starting Training!\n",
            "Initializing ...\n",
            "Training...\n",
            "Iteration: 4000; Percent complete: 100.0%; Average loss: 4.2260"
          ]
        },
        {
          "output_type": "display_data",
          "data": {
            "text/plain": [
              "<IPython.core.display.HTML object>"
            ],
            "text/html": []
          },
          "metadata": {}
        },
        {
          "output_type": "display_data",
          "data": {
            "text/plain": [
              "<IPython.core.display.HTML object>"
            ],
            "text/html": [
              "<br>    <style><br>        .wandb-row {<br>            display: flex;<br>            flex-direction: row;<br>            flex-wrap: wrap;<br>            justify-content: flex-start;<br>            width: 100%;<br>        }<br>        .wandb-col {<br>            display: flex;<br>            flex-direction: column;<br>            flex-basis: 100%;<br>            flex: 1;<br>            padding: 10px;<br>        }<br>    </style><br><div class=\"wandb-row\"><div class=\"wandb-col\"><h3>Run history:</h3><br/><table class=\"wandb\"><tr><td>loss</td><td>█▅▅▄▄▃▄▃▃▃▃▂▂▂▂▃▂▂▂▃▂▂▂▂▁▁▁▂▂▁▂▂▁▁▂▂▂▂▁▁</td></tr></table><br/></div><div class=\"wandb-col\"><h3>Run summary:</h3><br/><table class=\"wandb\"><tr><td>loss</td><td>35.7006</td></tr></table><br/></div></div>"
            ]
          },
          "metadata": {}
        },
        {
          "output_type": "display_data",
          "data": {
            "text/plain": [
              "<IPython.core.display.HTML object>"
            ],
            "text/html": [
              " View run <strong style=\"color:#cdcd00\">wild-sweep-18</strong> at: <a href='https://wandb.ai/vk2630-new-york-universtity/LAB3_HPML/runs/wkodogpk' target=\"_blank\">https://wandb.ai/vk2630-new-york-universtity/LAB3_HPML/runs/wkodogpk</a><br> View project at: <a href='https://wandb.ai/vk2630-new-york-universtity/LAB3_HPML' target=\"_blank\">https://wandb.ai/vk2630-new-york-universtity/LAB3_HPML</a><br>Synced 5 W&B file(s), 0 media file(s), 0 artifact file(s) and 0 other file(s)"
            ]
          },
          "metadata": {}
        },
        {
          "output_type": "display_data",
          "data": {
            "text/plain": [
              "<IPython.core.display.HTML object>"
            ],
            "text/html": [
              "Find logs at: <code>./wandb/run-20250316_035917-wkodogpk/logs</code>"
            ]
          },
          "metadata": {}
        },
        {
          "output_type": "stream",
          "name": "stderr",
          "text": [
            "\u001b[34m\u001b[1mwandb\u001b[0m: Agent Starting Run: 1dp8hcqz with config:\n",
            "\u001b[34m\u001b[1mwandb\u001b[0m: \tclip: 50\n",
            "\u001b[34m\u001b[1mwandb\u001b[0m: \tdecoder_lrn_ratio: 5\n",
            "\u001b[34m\u001b[1mwandb\u001b[0m: \tlr: 0.0001\n",
            "\u001b[34m\u001b[1mwandb\u001b[0m: \toptimizer: sgd\n",
            "\u001b[34m\u001b[1mwandb\u001b[0m: \ttf_ratio: 0\n"
          ]
        },
        {
          "output_type": "display_data",
          "data": {
            "text/plain": [
              "<IPython.core.display.HTML object>"
            ],
            "text/html": [
              "Ignoring project 'LAB3_HPML' when running a sweep."
            ]
          },
          "metadata": {}
        },
        {
          "output_type": "display_data",
          "data": {
            "text/plain": [
              "<IPython.core.display.HTML object>"
            ],
            "text/html": [
              "Ignoring entity 'vk2630-new-york-universtity' when running a sweep."
            ]
          },
          "metadata": {}
        },
        {
          "output_type": "display_data",
          "data": {
            "text/plain": [
              "<IPython.core.display.HTML object>"
            ],
            "text/html": [
              "Tracking run with wandb version 0.19.8"
            ]
          },
          "metadata": {}
        },
        {
          "output_type": "display_data",
          "data": {
            "text/plain": [
              "<IPython.core.display.HTML object>"
            ],
            "text/html": [
              "Run data is saved locally in <code>/content/wandb/run-20250316_040239-1dp8hcqz</code>"
            ]
          },
          "metadata": {}
        },
        {
          "output_type": "display_data",
          "data": {
            "text/plain": [
              "<IPython.core.display.HTML object>"
            ],
            "text/html": [
              "Syncing run <strong><a href='https://wandb.ai/vk2630-new-york-universtity/LAB3_HPML/runs/1dp8hcqz' target=\"_blank\">summer-sweep-19</a></strong> to <a href='https://wandb.ai/vk2630-new-york-universtity/LAB3_HPML' target=\"_blank\">Weights & Biases</a> (<a href='https://wandb.me/developer-guide' target=\"_blank\">docs</a>)<br>Sweep page: <a href='https://wandb.ai/vk2630-new-york-universtity/LAB3_HPML/sweeps/ty76xct2' target=\"_blank\">https://wandb.ai/vk2630-new-york-universtity/LAB3_HPML/sweeps/ty76xct2</a>"
            ]
          },
          "metadata": {}
        },
        {
          "output_type": "display_data",
          "data": {
            "text/plain": [
              "<IPython.core.display.HTML object>"
            ],
            "text/html": [
              " View project at <a href='https://wandb.ai/vk2630-new-york-universtity/LAB3_HPML' target=\"_blank\">https://wandb.ai/vk2630-new-york-universtity/LAB3_HPML</a>"
            ]
          },
          "metadata": {}
        },
        {
          "output_type": "display_data",
          "data": {
            "text/plain": [
              "<IPython.core.display.HTML object>"
            ],
            "text/html": [
              " View sweep at <a href='https://wandb.ai/vk2630-new-york-universtity/LAB3_HPML/sweeps/ty76xct2' target=\"_blank\">https://wandb.ai/vk2630-new-york-universtity/LAB3_HPML/sweeps/ty76xct2</a>"
            ]
          },
          "metadata": {}
        },
        {
          "output_type": "display_data",
          "data": {
            "text/plain": [
              "<IPython.core.display.HTML object>"
            ],
            "text/html": [
              " View run at <a href='https://wandb.ai/vk2630-new-york-universtity/LAB3_HPML/runs/1dp8hcqz' target=\"_blank\">https://wandb.ai/vk2630-new-york-universtity/LAB3_HPML/runs/1dp8hcqz</a>"
            ]
          },
          "metadata": {}
        },
        {
          "output_type": "stream",
          "name": "stdout",
          "text": [
            "Building encoder and decoder ...\n",
            "Models being build.\n",
            "Building optimizers ...\n",
            "Starting Training!\n",
            "Initializing ...\n",
            "Training...\n",
            "Iteration: 4000; Percent complete: 100.0%; Average loss: 4.8886"
          ]
        },
        {
          "output_type": "display_data",
          "data": {
            "text/plain": [
              "<IPython.core.display.HTML object>"
            ],
            "text/html": []
          },
          "metadata": {}
        },
        {
          "output_type": "display_data",
          "data": {
            "text/plain": [
              "<IPython.core.display.HTML object>"
            ],
            "text/html": [
              "<br>    <style><br>        .wandb-row {<br>            display: flex;<br>            flex-direction: row;<br>            flex-wrap: wrap;<br>            justify-content: flex-start;<br>            width: 100%;<br>        }<br>        .wandb-col {<br>            display: flex;<br>            flex-direction: column;<br>            flex-basis: 100%;<br>            flex: 1;<br>            padding: 10px;<br>        }<br>    </style><br><div class=\"wandb-row\"><div class=\"wandb-col\"><h3>Run history:</h3><br/><table class=\"wandb\"><tr><td>loss</td><td>█▄▃▃▃▃▂▃▂▂▂▂▂▂▂▂▁▂▂▂▂▁▂▁▂▂▂▂▂▂▁▂▂▁▁▂▁▁▁▂</td></tr></table><br/></div><div class=\"wandb-col\"><h3>Run summary:</h3><br/><table class=\"wandb\"><tr><td>loss</td><td>40.17228</td></tr></table><br/></div></div>"
            ]
          },
          "metadata": {}
        },
        {
          "output_type": "display_data",
          "data": {
            "text/plain": [
              "<IPython.core.display.HTML object>"
            ],
            "text/html": [
              " View run <strong style=\"color:#cdcd00\">summer-sweep-19</strong> at: <a href='https://wandb.ai/vk2630-new-york-universtity/LAB3_HPML/runs/1dp8hcqz' target=\"_blank\">https://wandb.ai/vk2630-new-york-universtity/LAB3_HPML/runs/1dp8hcqz</a><br> View project at: <a href='https://wandb.ai/vk2630-new-york-universtity/LAB3_HPML' target=\"_blank\">https://wandb.ai/vk2630-new-york-universtity/LAB3_HPML</a><br>Synced 5 W&B file(s), 0 media file(s), 0 artifact file(s) and 0 other file(s)"
            ]
          },
          "metadata": {}
        },
        {
          "output_type": "display_data",
          "data": {
            "text/plain": [
              "<IPython.core.display.HTML object>"
            ],
            "text/html": [
              "Find logs at: <code>./wandb/run-20250316_040239-1dp8hcqz/logs</code>"
            ]
          },
          "metadata": {}
        },
        {
          "output_type": "stream",
          "name": "stderr",
          "text": [
            "\u001b[34m\u001b[1mwandb\u001b[0m: Agent Starting Run: iuqm6tuy with config:\n",
            "\u001b[34m\u001b[1mwandb\u001b[0m: \tclip: 0\n",
            "\u001b[34m\u001b[1mwandb\u001b[0m: \tdecoder_lrn_ratio: 1\n",
            "\u001b[34m\u001b[1mwandb\u001b[0m: \tlr: 0.00025\n",
            "\u001b[34m\u001b[1mwandb\u001b[0m: \toptimizer: adam\n",
            "\u001b[34m\u001b[1mwandb\u001b[0m: \ttf_ratio: 1\n"
          ]
        },
        {
          "output_type": "display_data",
          "data": {
            "text/plain": [
              "<IPython.core.display.HTML object>"
            ],
            "text/html": [
              "Ignoring project 'LAB3_HPML' when running a sweep."
            ]
          },
          "metadata": {}
        },
        {
          "output_type": "display_data",
          "data": {
            "text/plain": [
              "<IPython.core.display.HTML object>"
            ],
            "text/html": [
              "Ignoring entity 'vk2630-new-york-universtity' when running a sweep."
            ]
          },
          "metadata": {}
        },
        {
          "output_type": "display_data",
          "data": {
            "text/plain": [
              "<IPython.core.display.HTML object>"
            ],
            "text/html": [
              "Tracking run with wandb version 0.19.8"
            ]
          },
          "metadata": {}
        },
        {
          "output_type": "display_data",
          "data": {
            "text/plain": [
              "<IPython.core.display.HTML object>"
            ],
            "text/html": [
              "Run data is saved locally in <code>/content/wandb/run-20250316_040657-iuqm6tuy</code>"
            ]
          },
          "metadata": {}
        },
        {
          "output_type": "display_data",
          "data": {
            "text/plain": [
              "<IPython.core.display.HTML object>"
            ],
            "text/html": [
              "Syncing run <strong><a href='https://wandb.ai/vk2630-new-york-universtity/LAB3_HPML/runs/iuqm6tuy' target=\"_blank\">crimson-sweep-20</a></strong> to <a href='https://wandb.ai/vk2630-new-york-universtity/LAB3_HPML' target=\"_blank\">Weights & Biases</a> (<a href='https://wandb.me/developer-guide' target=\"_blank\">docs</a>)<br>Sweep page: <a href='https://wandb.ai/vk2630-new-york-universtity/LAB3_HPML/sweeps/ty76xct2' target=\"_blank\">https://wandb.ai/vk2630-new-york-universtity/LAB3_HPML/sweeps/ty76xct2</a>"
            ]
          },
          "metadata": {}
        },
        {
          "output_type": "display_data",
          "data": {
            "text/plain": [
              "<IPython.core.display.HTML object>"
            ],
            "text/html": [
              " View project at <a href='https://wandb.ai/vk2630-new-york-universtity/LAB3_HPML' target=\"_blank\">https://wandb.ai/vk2630-new-york-universtity/LAB3_HPML</a>"
            ]
          },
          "metadata": {}
        },
        {
          "output_type": "display_data",
          "data": {
            "text/plain": [
              "<IPython.core.display.HTML object>"
            ],
            "text/html": [
              " View sweep at <a href='https://wandb.ai/vk2630-new-york-universtity/LAB3_HPML/sweeps/ty76xct2' target=\"_blank\">https://wandb.ai/vk2630-new-york-universtity/LAB3_HPML/sweeps/ty76xct2</a>"
            ]
          },
          "metadata": {}
        },
        {
          "output_type": "display_data",
          "data": {
            "text/plain": [
              "<IPython.core.display.HTML object>"
            ],
            "text/html": [
              " View run at <a href='https://wandb.ai/vk2630-new-york-universtity/LAB3_HPML/runs/iuqm6tuy' target=\"_blank\">https://wandb.ai/vk2630-new-york-universtity/LAB3_HPML/runs/iuqm6tuy</a>"
            ]
          },
          "metadata": {}
        },
        {
          "output_type": "stream",
          "name": "stdout",
          "text": [
            "Building encoder and decoder ...\n",
            "Models being build.\n",
            "Building optimizers ...\n",
            "Starting Training!\n",
            "Initializing ...\n",
            "Training...\n",
            "Iteration: 4000; Percent complete: 100.0%; Average loss: 8.9711"
          ]
        },
        {
          "output_type": "display_data",
          "data": {
            "text/plain": [
              "<IPython.core.display.HTML object>"
            ],
            "text/html": []
          },
          "metadata": {}
        },
        {
          "output_type": "display_data",
          "data": {
            "text/plain": [
              "<IPython.core.display.HTML object>"
            ],
            "text/html": [
              "<br>    <style><br>        .wandb-row {<br>            display: flex;<br>            flex-direction: row;<br>            flex-wrap: wrap;<br>            justify-content: flex-start;<br>            width: 100%;<br>        }<br>        .wandb-col {<br>            display: flex;<br>            flex-direction: column;<br>            flex-basis: 100%;<br>            flex: 1;<br>            padding: 10px;<br>        }<br>    </style><br><div class=\"wandb-row\"><div class=\"wandb-col\"><h3>Run history:</h3><br/><table class=\"wandb\"><tr><td>loss</td><td>█████████████████████▁██████████████████</td></tr></table><br/></div><div class=\"wandb-col\"><h3>Run summary:</h3><br/><table class=\"wandb\"><tr><td>loss</td><td>89.78162</td></tr></table><br/></div></div>"
            ]
          },
          "metadata": {}
        },
        {
          "output_type": "display_data",
          "data": {
            "text/plain": [
              "<IPython.core.display.HTML object>"
            ],
            "text/html": [
              " View run <strong style=\"color:#cdcd00\">crimson-sweep-20</strong> at: <a href='https://wandb.ai/vk2630-new-york-universtity/LAB3_HPML/runs/iuqm6tuy' target=\"_blank\">https://wandb.ai/vk2630-new-york-universtity/LAB3_HPML/runs/iuqm6tuy</a><br> View project at: <a href='https://wandb.ai/vk2630-new-york-universtity/LAB3_HPML' target=\"_blank\">https://wandb.ai/vk2630-new-york-universtity/LAB3_HPML</a><br>Synced 5 W&B file(s), 0 media file(s), 0 artifact file(s) and 0 other file(s)"
            ]
          },
          "metadata": {}
        },
        {
          "output_type": "display_data",
          "data": {
            "text/plain": [
              "<IPython.core.display.HTML object>"
            ],
            "text/html": [
              "Find logs at: <code>./wandb/run-20250316_040657-iuqm6tuy/logs</code>"
            ]
          },
          "metadata": {}
        },
        {
          "output_type": "stream",
          "name": "stderr",
          "text": [
            "\u001b[34m\u001b[1mwandb\u001b[0m: Agent Starting Run: x4qmuq13 with config:\n",
            "\u001b[34m\u001b[1mwandb\u001b[0m: \tclip: 25\n",
            "\u001b[34m\u001b[1mwandb\u001b[0m: \tdecoder_lrn_ratio: 1\n",
            "\u001b[34m\u001b[1mwandb\u001b[0m: \tlr: 0.001\n",
            "\u001b[34m\u001b[1mwandb\u001b[0m: \toptimizer: adam\n",
            "\u001b[34m\u001b[1mwandb\u001b[0m: \ttf_ratio: 0\n"
          ]
        },
        {
          "output_type": "display_data",
          "data": {
            "text/plain": [
              "<IPython.core.display.HTML object>"
            ],
            "text/html": [
              "Ignoring project 'LAB3_HPML' when running a sweep."
            ]
          },
          "metadata": {}
        },
        {
          "output_type": "display_data",
          "data": {
            "text/plain": [
              "<IPython.core.display.HTML object>"
            ],
            "text/html": [
              "Ignoring entity 'vk2630-new-york-universtity' when running a sweep."
            ]
          },
          "metadata": {}
        },
        {
          "output_type": "display_data",
          "data": {
            "text/plain": [
              "<IPython.core.display.HTML object>"
            ],
            "text/html": [
              "Tracking run with wandb version 0.19.8"
            ]
          },
          "metadata": {}
        },
        {
          "output_type": "display_data",
          "data": {
            "text/plain": [
              "<IPython.core.display.HTML object>"
            ],
            "text/html": [
              "Run data is saved locally in <code>/content/wandb/run-20250316_041041-x4qmuq13</code>"
            ]
          },
          "metadata": {}
        },
        {
          "output_type": "display_data",
          "data": {
            "text/plain": [
              "<IPython.core.display.HTML object>"
            ],
            "text/html": [
              "Syncing run <strong><a href='https://wandb.ai/vk2630-new-york-universtity/LAB3_HPML/runs/x4qmuq13' target=\"_blank\">polar-sweep-21</a></strong> to <a href='https://wandb.ai/vk2630-new-york-universtity/LAB3_HPML' target=\"_blank\">Weights & Biases</a> (<a href='https://wandb.me/developer-guide' target=\"_blank\">docs</a>)<br>Sweep page: <a href='https://wandb.ai/vk2630-new-york-universtity/LAB3_HPML/sweeps/ty76xct2' target=\"_blank\">https://wandb.ai/vk2630-new-york-universtity/LAB3_HPML/sweeps/ty76xct2</a>"
            ]
          },
          "metadata": {}
        },
        {
          "output_type": "display_data",
          "data": {
            "text/plain": [
              "<IPython.core.display.HTML object>"
            ],
            "text/html": [
              " View project at <a href='https://wandb.ai/vk2630-new-york-universtity/LAB3_HPML' target=\"_blank\">https://wandb.ai/vk2630-new-york-universtity/LAB3_HPML</a>"
            ]
          },
          "metadata": {}
        },
        {
          "output_type": "display_data",
          "data": {
            "text/plain": [
              "<IPython.core.display.HTML object>"
            ],
            "text/html": [
              " View sweep at <a href='https://wandb.ai/vk2630-new-york-universtity/LAB3_HPML/sweeps/ty76xct2' target=\"_blank\">https://wandb.ai/vk2630-new-york-universtity/LAB3_HPML/sweeps/ty76xct2</a>"
            ]
          },
          "metadata": {}
        },
        {
          "output_type": "display_data",
          "data": {
            "text/plain": [
              "<IPython.core.display.HTML object>"
            ],
            "text/html": [
              " View run at <a href='https://wandb.ai/vk2630-new-york-universtity/LAB3_HPML/runs/x4qmuq13' target=\"_blank\">https://wandb.ai/vk2630-new-york-universtity/LAB3_HPML/runs/x4qmuq13</a>"
            ]
          },
          "metadata": {}
        },
        {
          "output_type": "stream",
          "name": "stdout",
          "text": [
            "Building encoder and decoder ...\n",
            "Models being build.\n",
            "Building optimizers ...\n",
            "Starting Training!\n",
            "Initializing ...\n",
            "Training...\n",
            "Iteration: 4000; Percent complete: 100.0%; Average loss: 4.5249"
          ]
        },
        {
          "output_type": "display_data",
          "data": {
            "text/plain": [
              "<IPython.core.display.HTML object>"
            ],
            "text/html": []
          },
          "metadata": {}
        },
        {
          "output_type": "display_data",
          "data": {
            "text/plain": [
              "<IPython.core.display.HTML object>"
            ],
            "text/html": [
              "<br>    <style><br>        .wandb-row {<br>            display: flex;<br>            flex-direction: row;<br>            flex-wrap: wrap;<br>            justify-content: flex-start;<br>            width: 100%;<br>        }<br>        .wandb-col {<br>            display: flex;<br>            flex-direction: column;<br>            flex-basis: 100%;<br>            flex: 1;<br>            padding: 10px;<br>        }<br>    </style><br><div class=\"wandb-row\"><div class=\"wandb-col\"><h3>Run history:</h3><br/><table class=\"wandb\"><tr><td>loss</td><td>▅▅▅▅▅▅▇▆▅▃█▄▅▄▅▄▂▄▅▂▄▄▂▃▃▃▃▁▂▄▃▂▃▄▁▁▃▂▁▂</td></tr></table><br/></div><div class=\"wandb-col\"><h3>Run summary:</h3><br/><table class=\"wandb\"><tr><td>loss</td><td>37.6786</td></tr></table><br/></div></div>"
            ]
          },
          "metadata": {}
        },
        {
          "output_type": "display_data",
          "data": {
            "text/plain": [
              "<IPython.core.display.HTML object>"
            ],
            "text/html": [
              " View run <strong style=\"color:#cdcd00\">polar-sweep-21</strong> at: <a href='https://wandb.ai/vk2630-new-york-universtity/LAB3_HPML/runs/x4qmuq13' target=\"_blank\">https://wandb.ai/vk2630-new-york-universtity/LAB3_HPML/runs/x4qmuq13</a><br> View project at: <a href='https://wandb.ai/vk2630-new-york-universtity/LAB3_HPML' target=\"_blank\">https://wandb.ai/vk2630-new-york-universtity/LAB3_HPML</a><br>Synced 5 W&B file(s), 0 media file(s), 0 artifact file(s) and 0 other file(s)"
            ]
          },
          "metadata": {}
        },
        {
          "output_type": "display_data",
          "data": {
            "text/plain": [
              "<IPython.core.display.HTML object>"
            ],
            "text/html": [
              "Find logs at: <code>./wandb/run-20250316_041041-x4qmuq13/logs</code>"
            ]
          },
          "metadata": {}
        },
        {
          "output_type": "stream",
          "name": "stderr",
          "text": [
            "\u001b[34m\u001b[1mwandb\u001b[0m: Agent Starting Run: dpmtn7gp with config:\n",
            "\u001b[34m\u001b[1mwandb\u001b[0m: \tclip: 50\n",
            "\u001b[34m\u001b[1mwandb\u001b[0m: \tdecoder_lrn_ratio: 5\n",
            "\u001b[34m\u001b[1mwandb\u001b[0m: \tlr: 0.0005\n",
            "\u001b[34m\u001b[1mwandb\u001b[0m: \toptimizer: adam\n",
            "\u001b[34m\u001b[1mwandb\u001b[0m: \ttf_ratio: 1\n"
          ]
        },
        {
          "output_type": "display_data",
          "data": {
            "text/plain": [
              "<IPython.core.display.HTML object>"
            ],
            "text/html": [
              "Ignoring project 'LAB3_HPML' when running a sweep."
            ]
          },
          "metadata": {}
        },
        {
          "output_type": "display_data",
          "data": {
            "text/plain": [
              "<IPython.core.display.HTML object>"
            ],
            "text/html": [
              "Ignoring entity 'vk2630-new-york-universtity' when running a sweep."
            ]
          },
          "metadata": {}
        },
        {
          "output_type": "display_data",
          "data": {
            "text/plain": [
              "<IPython.core.display.HTML object>"
            ],
            "text/html": [
              "Tracking run with wandb version 0.19.8"
            ]
          },
          "metadata": {}
        },
        {
          "output_type": "display_data",
          "data": {
            "text/plain": [
              "<IPython.core.display.HTML object>"
            ],
            "text/html": [
              "Run data is saved locally in <code>/content/wandb/run-20250316_041519-dpmtn7gp</code>"
            ]
          },
          "metadata": {}
        },
        {
          "output_type": "display_data",
          "data": {
            "text/plain": [
              "<IPython.core.display.HTML object>"
            ],
            "text/html": [
              "Syncing run <strong><a href='https://wandb.ai/vk2630-new-york-universtity/LAB3_HPML/runs/dpmtn7gp' target=\"_blank\">lyric-sweep-22</a></strong> to <a href='https://wandb.ai/vk2630-new-york-universtity/LAB3_HPML' target=\"_blank\">Weights & Biases</a> (<a href='https://wandb.me/developer-guide' target=\"_blank\">docs</a>)<br>Sweep page: <a href='https://wandb.ai/vk2630-new-york-universtity/LAB3_HPML/sweeps/ty76xct2' target=\"_blank\">https://wandb.ai/vk2630-new-york-universtity/LAB3_HPML/sweeps/ty76xct2</a>"
            ]
          },
          "metadata": {}
        },
        {
          "output_type": "display_data",
          "data": {
            "text/plain": [
              "<IPython.core.display.HTML object>"
            ],
            "text/html": [
              " View project at <a href='https://wandb.ai/vk2630-new-york-universtity/LAB3_HPML' target=\"_blank\">https://wandb.ai/vk2630-new-york-universtity/LAB3_HPML</a>"
            ]
          },
          "metadata": {}
        },
        {
          "output_type": "display_data",
          "data": {
            "text/plain": [
              "<IPython.core.display.HTML object>"
            ],
            "text/html": [
              " View sweep at <a href='https://wandb.ai/vk2630-new-york-universtity/LAB3_HPML/sweeps/ty76xct2' target=\"_blank\">https://wandb.ai/vk2630-new-york-universtity/LAB3_HPML/sweeps/ty76xct2</a>"
            ]
          },
          "metadata": {}
        },
        {
          "output_type": "display_data",
          "data": {
            "text/plain": [
              "<IPython.core.display.HTML object>"
            ],
            "text/html": [
              " View run at <a href='https://wandb.ai/vk2630-new-york-universtity/LAB3_HPML/runs/dpmtn7gp' target=\"_blank\">https://wandb.ai/vk2630-new-york-universtity/LAB3_HPML/runs/dpmtn7gp</a>"
            ]
          },
          "metadata": {}
        },
        {
          "output_type": "stream",
          "name": "stdout",
          "text": [
            "Building encoder and decoder ...\n",
            "Models being build.\n",
            "Building optimizers ...\n",
            "Starting Training!\n",
            "Initializing ...\n",
            "Training...\n",
            "Iteration: 4000; Percent complete: 100.0%; Average loss: 2.3397"
          ]
        },
        {
          "output_type": "display_data",
          "data": {
            "text/plain": [
              "<IPython.core.display.HTML object>"
            ],
            "text/html": []
          },
          "metadata": {}
        },
        {
          "output_type": "display_data",
          "data": {
            "text/plain": [
              "<IPython.core.display.HTML object>"
            ],
            "text/html": [
              "<br>    <style><br>        .wandb-row {<br>            display: flex;<br>            flex-direction: row;<br>            flex-wrap: wrap;<br>            justify-content: flex-start;<br>            width: 100%;<br>        }<br>        .wandb-col {<br>            display: flex;<br>            flex-direction: column;<br>            flex-basis: 100%;<br>            flex: 1;<br>            padding: 10px;<br>        }<br>    </style><br><div class=\"wandb-row\"><div class=\"wandb-col\"><h3>Run history:</h3><br/><table class=\"wandb\"><tr><td>loss</td><td>██▄▅▅▄▄▅▃▄▃▄▂▄▂▃▃▂▂▃▂▂▂▃▂▂▂▁▃▁▂▂▂▂▂▁▂▂▃▂</td></tr></table><br/></div><div class=\"wandb-col\"><h3>Run summary:</h3><br/><table class=\"wandb\"><tr><td>loss</td><td>18.33083</td></tr></table><br/></div></div>"
            ]
          },
          "metadata": {}
        },
        {
          "output_type": "display_data",
          "data": {
            "text/plain": [
              "<IPython.core.display.HTML object>"
            ],
            "text/html": [
              " View run <strong style=\"color:#cdcd00\">lyric-sweep-22</strong> at: <a href='https://wandb.ai/vk2630-new-york-universtity/LAB3_HPML/runs/dpmtn7gp' target=\"_blank\">https://wandb.ai/vk2630-new-york-universtity/LAB3_HPML/runs/dpmtn7gp</a><br> View project at: <a href='https://wandb.ai/vk2630-new-york-universtity/LAB3_HPML' target=\"_blank\">https://wandb.ai/vk2630-new-york-universtity/LAB3_HPML</a><br>Synced 5 W&B file(s), 0 media file(s), 0 artifact file(s) and 0 other file(s)"
            ]
          },
          "metadata": {}
        },
        {
          "output_type": "display_data",
          "data": {
            "text/plain": [
              "<IPython.core.display.HTML object>"
            ],
            "text/html": [
              "Find logs at: <code>./wandb/run-20250316_041519-dpmtn7gp/logs</code>"
            ]
          },
          "metadata": {}
        },
        {
          "output_type": "stream",
          "name": "stderr",
          "text": [
            "\u001b[34m\u001b[1mwandb\u001b[0m: Agent Starting Run: 92tv52h0 with config:\n",
            "\u001b[34m\u001b[1mwandb\u001b[0m: \tclip: 100\n",
            "\u001b[34m\u001b[1mwandb\u001b[0m: \tdecoder_lrn_ratio: 10\n",
            "\u001b[34m\u001b[1mwandb\u001b[0m: \tlr: 0.00025\n",
            "\u001b[34m\u001b[1mwandb\u001b[0m: \toptimizer: adam\n",
            "\u001b[34m\u001b[1mwandb\u001b[0m: \ttf_ratio: 1\n"
          ]
        },
        {
          "output_type": "display_data",
          "data": {
            "text/plain": [
              "<IPython.core.display.HTML object>"
            ],
            "text/html": [
              "Ignoring project 'LAB3_HPML' when running a sweep."
            ]
          },
          "metadata": {}
        },
        {
          "output_type": "display_data",
          "data": {
            "text/plain": [
              "<IPython.core.display.HTML object>"
            ],
            "text/html": [
              "Ignoring entity 'vk2630-new-york-universtity' when running a sweep."
            ]
          },
          "metadata": {}
        },
        {
          "output_type": "display_data",
          "data": {
            "text/plain": [
              "<IPython.core.display.HTML object>"
            ],
            "text/html": [
              "Tracking run with wandb version 0.19.8"
            ]
          },
          "metadata": {}
        },
        {
          "output_type": "display_data",
          "data": {
            "text/plain": [
              "<IPython.core.display.HTML object>"
            ],
            "text/html": [
              "Run data is saved locally in <code>/content/wandb/run-20250316_041902-92tv52h0</code>"
            ]
          },
          "metadata": {}
        },
        {
          "output_type": "display_data",
          "data": {
            "text/plain": [
              "<IPython.core.display.HTML object>"
            ],
            "text/html": [
              "Syncing run <strong><a href='https://wandb.ai/vk2630-new-york-universtity/LAB3_HPML/runs/92tv52h0' target=\"_blank\">decent-sweep-23</a></strong> to <a href='https://wandb.ai/vk2630-new-york-universtity/LAB3_HPML' target=\"_blank\">Weights & Biases</a> (<a href='https://wandb.me/developer-guide' target=\"_blank\">docs</a>)<br>Sweep page: <a href='https://wandb.ai/vk2630-new-york-universtity/LAB3_HPML/sweeps/ty76xct2' target=\"_blank\">https://wandb.ai/vk2630-new-york-universtity/LAB3_HPML/sweeps/ty76xct2</a>"
            ]
          },
          "metadata": {}
        },
        {
          "output_type": "display_data",
          "data": {
            "text/plain": [
              "<IPython.core.display.HTML object>"
            ],
            "text/html": [
              " View project at <a href='https://wandb.ai/vk2630-new-york-universtity/LAB3_HPML' target=\"_blank\">https://wandb.ai/vk2630-new-york-universtity/LAB3_HPML</a>"
            ]
          },
          "metadata": {}
        },
        {
          "output_type": "display_data",
          "data": {
            "text/plain": [
              "<IPython.core.display.HTML object>"
            ],
            "text/html": [
              " View sweep at <a href='https://wandb.ai/vk2630-new-york-universtity/LAB3_HPML/sweeps/ty76xct2' target=\"_blank\">https://wandb.ai/vk2630-new-york-universtity/LAB3_HPML/sweeps/ty76xct2</a>"
            ]
          },
          "metadata": {}
        },
        {
          "output_type": "display_data",
          "data": {
            "text/plain": [
              "<IPython.core.display.HTML object>"
            ],
            "text/html": [
              " View run at <a href='https://wandb.ai/vk2630-new-york-universtity/LAB3_HPML/runs/92tv52h0' target=\"_blank\">https://wandb.ai/vk2630-new-york-universtity/LAB3_HPML/runs/92tv52h0</a>"
            ]
          },
          "metadata": {}
        },
        {
          "output_type": "stream",
          "name": "stdout",
          "text": [
            "Building encoder and decoder ...\n",
            "Models being build.\n",
            "Building optimizers ...\n",
            "Starting Training!\n",
            "Initializing ...\n",
            "Training...\n",
            "Iteration: 4000; Percent complete: 100.0%; Average loss: 2.4161"
          ]
        },
        {
          "output_type": "display_data",
          "data": {
            "text/plain": [
              "<IPython.core.display.HTML object>"
            ],
            "text/html": []
          },
          "metadata": {}
        },
        {
          "output_type": "display_data",
          "data": {
            "text/plain": [
              "<IPython.core.display.HTML object>"
            ],
            "text/html": [
              "<br>    <style><br>        .wandb-row {<br>            display: flex;<br>            flex-direction: row;<br>            flex-wrap: wrap;<br>            justify-content: flex-start;<br>            width: 100%;<br>        }<br>        .wandb-col {<br>            display: flex;<br>            flex-direction: column;<br>            flex-basis: 100%;<br>            flex: 1;<br>            padding: 10px;<br>        }<br>    </style><br><div class=\"wandb-row\"><div class=\"wandb-col\"><h3>Run history:</h3><br/><table class=\"wandb\"><tr><td>loss</td><td>█▄▅▅▃▄▃▄▄▃▄▃▄▄▃▂▂▃▃▃▂▂▂▂▃▂▂▂▂▂▂▂▂▂▂▁▂▁▁▁</td></tr></table><br/></div><div class=\"wandb-col\"><h3>Run summary:</h3><br/><table class=\"wandb\"><tr><td>loss</td><td>19.06946</td></tr></table><br/></div></div>"
            ]
          },
          "metadata": {}
        },
        {
          "output_type": "display_data",
          "data": {
            "text/plain": [
              "<IPython.core.display.HTML object>"
            ],
            "text/html": [
              " View run <strong style=\"color:#cdcd00\">decent-sweep-23</strong> at: <a href='https://wandb.ai/vk2630-new-york-universtity/LAB3_HPML/runs/92tv52h0' target=\"_blank\">https://wandb.ai/vk2630-new-york-universtity/LAB3_HPML/runs/92tv52h0</a><br> View project at: <a href='https://wandb.ai/vk2630-new-york-universtity/LAB3_HPML' target=\"_blank\">https://wandb.ai/vk2630-new-york-universtity/LAB3_HPML</a><br>Synced 5 W&B file(s), 0 media file(s), 0 artifact file(s) and 0 other file(s)"
            ]
          },
          "metadata": {}
        },
        {
          "output_type": "display_data",
          "data": {
            "text/plain": [
              "<IPython.core.display.HTML object>"
            ],
            "text/html": [
              "Find logs at: <code>./wandb/run-20250316_041902-92tv52h0/logs</code>"
            ]
          },
          "metadata": {}
        },
        {
          "output_type": "stream",
          "name": "stderr",
          "text": [
            "\u001b[34m\u001b[1mwandb\u001b[0m: Agent Starting Run: b53kwa9t with config:\n",
            "\u001b[34m\u001b[1mwandb\u001b[0m: \tclip: 50\n",
            "\u001b[34m\u001b[1mwandb\u001b[0m: \tdecoder_lrn_ratio: 1\n",
            "\u001b[34m\u001b[1mwandb\u001b[0m: \tlr: 0.001\n",
            "\u001b[34m\u001b[1mwandb\u001b[0m: \toptimizer: sgd\n",
            "\u001b[34m\u001b[1mwandb\u001b[0m: \ttf_ratio: 0\n"
          ]
        },
        {
          "output_type": "display_data",
          "data": {
            "text/plain": [
              "<IPython.core.display.HTML object>"
            ],
            "text/html": [
              "Ignoring project 'LAB3_HPML' when running a sweep."
            ]
          },
          "metadata": {}
        },
        {
          "output_type": "display_data",
          "data": {
            "text/plain": [
              "<IPython.core.display.HTML object>"
            ],
            "text/html": [
              "Ignoring entity 'vk2630-new-york-universtity' when running a sweep."
            ]
          },
          "metadata": {}
        },
        {
          "output_type": "display_data",
          "data": {
            "text/plain": [
              "<IPython.core.display.HTML object>"
            ],
            "text/html": [
              "Tracking run with wandb version 0.19.8"
            ]
          },
          "metadata": {}
        },
        {
          "output_type": "display_data",
          "data": {
            "text/plain": [
              "<IPython.core.display.HTML object>"
            ],
            "text/html": [
              "Run data is saved locally in <code>/content/wandb/run-20250316_042245-b53kwa9t</code>"
            ]
          },
          "metadata": {}
        },
        {
          "output_type": "display_data",
          "data": {
            "text/plain": [
              "<IPython.core.display.HTML object>"
            ],
            "text/html": [
              "Syncing run <strong><a href='https://wandb.ai/vk2630-new-york-universtity/LAB3_HPML/runs/b53kwa9t' target=\"_blank\">cosmic-sweep-24</a></strong> to <a href='https://wandb.ai/vk2630-new-york-universtity/LAB3_HPML' target=\"_blank\">Weights & Biases</a> (<a href='https://wandb.me/developer-guide' target=\"_blank\">docs</a>)<br>Sweep page: <a href='https://wandb.ai/vk2630-new-york-universtity/LAB3_HPML/sweeps/ty76xct2' target=\"_blank\">https://wandb.ai/vk2630-new-york-universtity/LAB3_HPML/sweeps/ty76xct2</a>"
            ]
          },
          "metadata": {}
        },
        {
          "output_type": "display_data",
          "data": {
            "text/plain": [
              "<IPython.core.display.HTML object>"
            ],
            "text/html": [
              " View project at <a href='https://wandb.ai/vk2630-new-york-universtity/LAB3_HPML' target=\"_blank\">https://wandb.ai/vk2630-new-york-universtity/LAB3_HPML</a>"
            ]
          },
          "metadata": {}
        },
        {
          "output_type": "display_data",
          "data": {
            "text/plain": [
              "<IPython.core.display.HTML object>"
            ],
            "text/html": [
              " View sweep at <a href='https://wandb.ai/vk2630-new-york-universtity/LAB3_HPML/sweeps/ty76xct2' target=\"_blank\">https://wandb.ai/vk2630-new-york-universtity/LAB3_HPML/sweeps/ty76xct2</a>"
            ]
          },
          "metadata": {}
        },
        {
          "output_type": "display_data",
          "data": {
            "text/plain": [
              "<IPython.core.display.HTML object>"
            ],
            "text/html": [
              " View run at <a href='https://wandb.ai/vk2630-new-york-universtity/LAB3_HPML/runs/b53kwa9t' target=\"_blank\">https://wandb.ai/vk2630-new-york-universtity/LAB3_HPML/runs/b53kwa9t</a>"
            ]
          },
          "metadata": {}
        },
        {
          "output_type": "stream",
          "name": "stdout",
          "text": [
            "Building encoder and decoder ...\n",
            "Models being build.\n",
            "Building optimizers ...\n",
            "Starting Training!\n",
            "Initializing ...\n",
            "Training...\n",
            "Iteration: 4000; Percent complete: 100.0%; Average loss: 4.8279"
          ]
        },
        {
          "output_type": "display_data",
          "data": {
            "text/plain": [
              "<IPython.core.display.HTML object>"
            ],
            "text/html": []
          },
          "metadata": {}
        },
        {
          "output_type": "display_data",
          "data": {
            "text/plain": [
              "<IPython.core.display.HTML object>"
            ],
            "text/html": [
              "<br>    <style><br>        .wandb-row {<br>            display: flex;<br>            flex-direction: row;<br>            flex-wrap: wrap;<br>            justify-content: flex-start;<br>            width: 100%;<br>        }<br>        .wandb-col {<br>            display: flex;<br>            flex-direction: column;<br>            flex-basis: 100%;<br>            flex: 1;<br>            padding: 10px;<br>        }<br>    </style><br><div class=\"wandb-row\"><div class=\"wandb-col\"><h3>Run history:</h3><br/><table class=\"wandb\"><tr><td>loss</td><td>█▇▇▇▆▇▅▅▂▃▄▄▃▄▃▃▃▂▃▃▃▂▁▃▂▃▂▂▄▂▄▁▂▂▂▃▃▁▃▃</td></tr></table><br/></div><div class=\"wandb-col\"><h3>Run summary:</h3><br/><table class=\"wandb\"><tr><td>loss</td><td>40.08834</td></tr></table><br/></div></div>"
            ]
          },
          "metadata": {}
        },
        {
          "output_type": "display_data",
          "data": {
            "text/plain": [
              "<IPython.core.display.HTML object>"
            ],
            "text/html": [
              " View run <strong style=\"color:#cdcd00\">cosmic-sweep-24</strong> at: <a href='https://wandb.ai/vk2630-new-york-universtity/LAB3_HPML/runs/b53kwa9t' target=\"_blank\">https://wandb.ai/vk2630-new-york-universtity/LAB3_HPML/runs/b53kwa9t</a><br> View project at: <a href='https://wandb.ai/vk2630-new-york-universtity/LAB3_HPML' target=\"_blank\">https://wandb.ai/vk2630-new-york-universtity/LAB3_HPML</a><br>Synced 5 W&B file(s), 0 media file(s), 0 artifact file(s) and 0 other file(s)"
            ]
          },
          "metadata": {}
        },
        {
          "output_type": "display_data",
          "data": {
            "text/plain": [
              "<IPython.core.display.HTML object>"
            ],
            "text/html": [
              "Find logs at: <code>./wandb/run-20250316_042245-b53kwa9t/logs</code>"
            ]
          },
          "metadata": {}
        },
        {
          "output_type": "stream",
          "name": "stderr",
          "text": [
            "\u001b[34m\u001b[1mwandb\u001b[0m: Agent Starting Run: waaab4tj with config:\n",
            "\u001b[34m\u001b[1mwandb\u001b[0m: \tclip: 25\n",
            "\u001b[34m\u001b[1mwandb\u001b[0m: \tdecoder_lrn_ratio: 3\n",
            "\u001b[34m\u001b[1mwandb\u001b[0m: \tlr: 0.0005\n",
            "\u001b[34m\u001b[1mwandb\u001b[0m: \toptimizer: adam\n",
            "\u001b[34m\u001b[1mwandb\u001b[0m: \ttf_ratio: 0.5\n"
          ]
        },
        {
          "output_type": "display_data",
          "data": {
            "text/plain": [
              "<IPython.core.display.HTML object>"
            ],
            "text/html": [
              "Ignoring project 'LAB3_HPML' when running a sweep."
            ]
          },
          "metadata": {}
        },
        {
          "output_type": "display_data",
          "data": {
            "text/plain": [
              "<IPython.core.display.HTML object>"
            ],
            "text/html": [
              "Ignoring entity 'vk2630-new-york-universtity' when running a sweep."
            ]
          },
          "metadata": {}
        },
        {
          "output_type": "display_data",
          "data": {
            "text/plain": [
              "<IPython.core.display.HTML object>"
            ],
            "text/html": [
              "Tracking run with wandb version 0.19.8"
            ]
          },
          "metadata": {}
        },
        {
          "output_type": "display_data",
          "data": {
            "text/plain": [
              "<IPython.core.display.HTML object>"
            ],
            "text/html": [
              "Run data is saved locally in <code>/content/wandb/run-20250316_042703-waaab4tj</code>"
            ]
          },
          "metadata": {}
        },
        {
          "output_type": "display_data",
          "data": {
            "text/plain": [
              "<IPython.core.display.HTML object>"
            ],
            "text/html": [
              "Syncing run <strong><a href='https://wandb.ai/vk2630-new-york-universtity/LAB3_HPML/runs/waaab4tj' target=\"_blank\">good-sweep-25</a></strong> to <a href='https://wandb.ai/vk2630-new-york-universtity/LAB3_HPML' target=\"_blank\">Weights & Biases</a> (<a href='https://wandb.me/developer-guide' target=\"_blank\">docs</a>)<br>Sweep page: <a href='https://wandb.ai/vk2630-new-york-universtity/LAB3_HPML/sweeps/ty76xct2' target=\"_blank\">https://wandb.ai/vk2630-new-york-universtity/LAB3_HPML/sweeps/ty76xct2</a>"
            ]
          },
          "metadata": {}
        },
        {
          "output_type": "display_data",
          "data": {
            "text/plain": [
              "<IPython.core.display.HTML object>"
            ],
            "text/html": [
              " View project at <a href='https://wandb.ai/vk2630-new-york-universtity/LAB3_HPML' target=\"_blank\">https://wandb.ai/vk2630-new-york-universtity/LAB3_HPML</a>"
            ]
          },
          "metadata": {}
        },
        {
          "output_type": "display_data",
          "data": {
            "text/plain": [
              "<IPython.core.display.HTML object>"
            ],
            "text/html": [
              " View sweep at <a href='https://wandb.ai/vk2630-new-york-universtity/LAB3_HPML/sweeps/ty76xct2' target=\"_blank\">https://wandb.ai/vk2630-new-york-universtity/LAB3_HPML/sweeps/ty76xct2</a>"
            ]
          },
          "metadata": {}
        },
        {
          "output_type": "display_data",
          "data": {
            "text/plain": [
              "<IPython.core.display.HTML object>"
            ],
            "text/html": [
              " View run at <a href='https://wandb.ai/vk2630-new-york-universtity/LAB3_HPML/runs/waaab4tj' target=\"_blank\">https://wandb.ai/vk2630-new-york-universtity/LAB3_HPML/runs/waaab4tj</a>"
            ]
          },
          "metadata": {}
        },
        {
          "output_type": "stream",
          "name": "stdout",
          "text": [
            "Building encoder and decoder ...\n",
            "Models being build.\n",
            "Building optimizers ...\n",
            "Starting Training!\n",
            "Initializing ...\n",
            "Training...\n",
            "Iteration: 4000; Percent complete: 100.0%; Average loss: 2.8349"
          ]
        },
        {
          "output_type": "display_data",
          "data": {
            "text/plain": [
              "<IPython.core.display.HTML object>"
            ],
            "text/html": []
          },
          "metadata": {}
        },
        {
          "output_type": "display_data",
          "data": {
            "text/plain": [
              "<IPython.core.display.HTML object>"
            ],
            "text/html": [
              "<br>    <style><br>        .wandb-row {<br>            display: flex;<br>            flex-direction: row;<br>            flex-wrap: wrap;<br>            justify-content: flex-start;<br>            width: 100%;<br>        }<br>        .wandb-col {<br>            display: flex;<br>            flex-direction: column;<br>            flex-basis: 100%;<br>            flex: 1;<br>            padding: 10px;<br>        }<br>    </style><br><div class=\"wandb-row\"><div class=\"wandb-col\"><h3>Run history:</h3><br/><table class=\"wandb\"><tr><td>loss</td><td>█▆▆▅▅█▆▇▆▇▄▇▃▄█▆▆▂▆▆▇▆▃▃▂▆▂▄▆▁▂▂▂▄▅▂▂▄▄▅</td></tr></table><br/></div><div class=\"wandb-col\"><h3>Run summary:</h3><br/><table class=\"wandb\"><tr><td>loss</td><td>21.3309</td></tr></table><br/></div></div>"
            ]
          },
          "metadata": {}
        },
        {
          "output_type": "display_data",
          "data": {
            "text/plain": [
              "<IPython.core.display.HTML object>"
            ],
            "text/html": [
              " View run <strong style=\"color:#cdcd00\">good-sweep-25</strong> at: <a href='https://wandb.ai/vk2630-new-york-universtity/LAB3_HPML/runs/waaab4tj' target=\"_blank\">https://wandb.ai/vk2630-new-york-universtity/LAB3_HPML/runs/waaab4tj</a><br> View project at: <a href='https://wandb.ai/vk2630-new-york-universtity/LAB3_HPML' target=\"_blank\">https://wandb.ai/vk2630-new-york-universtity/LAB3_HPML</a><br>Synced 5 W&B file(s), 0 media file(s), 0 artifact file(s) and 0 other file(s)"
            ]
          },
          "metadata": {}
        },
        {
          "output_type": "display_data",
          "data": {
            "text/plain": [
              "<IPython.core.display.HTML object>"
            ],
            "text/html": [
              "Find logs at: <code>./wandb/run-20250316_042703-waaab4tj/logs</code>"
            ]
          },
          "metadata": {}
        }
      ]
    },
    {
      "cell_type": "markdown",
      "source": [
        "# Best result - hyperparameter\n",
        "\n",
        "As per the analysis, values of the hyperparameters that give the best result (Minimum loss of the trained model) is below:\n",
        "\n",
        "- clip=100.0,\n",
        "- tf_ratio=1.0,\n",
        "- lr=0.00025,\n",
        "- optimizer = \"adam\",\n",
        "- decoder_lrn_ratio=10\n",
        "\n"
      ],
      "metadata": {
        "id": "5q16UxvDqbQb"
      }
    },
    {
      "cell_type": "code",
      "source": [
        "best_result = Config(\n",
        "    clip=100.0,\n",
        "    tf_ratio=1.0,\n",
        "    lr=0.00025,\n",
        "    optimizer = \"adam\",\n",
        "    decoder_lrn_ratio=10\n",
        ")\n",
        "_, _ = train_wandb(best_result, profile=True, save_model=True)"
      ],
      "metadata": {
        "id": "CjV_gltXpu5z",
        "colab": {
          "base_uri": "https://localhost:8080/",
          "height": 636
        },
        "outputId": "be84daf4-5dd4-4fa8-978f-e7ce0d356815"
      },
      "execution_count": 40,
      "outputs": [
        {
          "output_type": "display_data",
          "data": {
            "text/plain": [
              "<IPython.core.display.HTML object>"
            ],
            "text/html": [
              "Changes to your `wandb` environment variables will be ignored because your `wandb` session has already started. For more information on how to modify your settings with `wandb.init()` arguments, please refer to <a href='https://wandb.me/wandb-init' target=\"_blank\">the W&B docs</a>."
            ]
          },
          "metadata": {}
        },
        {
          "output_type": "display_data",
          "data": {
            "text/plain": [
              "<IPython.core.display.HTML object>"
            ],
            "text/html": [
              "Ignoring project 'LAB3_HPML' when running a sweep."
            ]
          },
          "metadata": {}
        },
        {
          "output_type": "display_data",
          "data": {
            "text/plain": [
              "<IPython.core.display.HTML object>"
            ],
            "text/html": [
              "Ignoring entity 'vk2630-new-york-universtity' when running a sweep."
            ]
          },
          "metadata": {}
        },
        {
          "output_type": "display_data",
          "data": {
            "text/plain": [
              "<IPython.core.display.HTML object>"
            ],
            "text/html": [
              "Tracking run with wandb version 0.19.8"
            ]
          },
          "metadata": {}
        },
        {
          "output_type": "display_data",
          "data": {
            "text/plain": [
              "<IPython.core.display.HTML object>"
            ],
            "text/html": [
              "Run data is saved locally in <code>/content/wandb/run-20250316_043219-waaab4tj</code>"
            ]
          },
          "metadata": {}
        },
        {
          "output_type": "display_data",
          "data": {
            "text/plain": [
              "<IPython.core.display.HTML object>"
            ],
            "text/html": [
              "Syncing run <strong><a href='https://wandb.ai/vk2630-new-york-universtity/LAB3_HPML/runs/waaab4tj' target=\"_blank\">good-sweep-25</a></strong> to <a href='https://wandb.ai/vk2630-new-york-universtity/LAB3_HPML' target=\"_blank\">Weights & Biases</a> (<a href='https://wandb.me/developer-guide' target=\"_blank\">docs</a>)<br>Sweep page: <a href='https://wandb.ai/vk2630-new-york-universtity/LAB3_HPML/sweeps/ty76xct2' target=\"_blank\">https://wandb.ai/vk2630-new-york-universtity/LAB3_HPML/sweeps/ty76xct2</a>"
            ]
          },
          "metadata": {}
        },
        {
          "output_type": "display_data",
          "data": {
            "text/plain": [
              "<IPython.core.display.HTML object>"
            ],
            "text/html": [
              " View project at <a href='https://wandb.ai/vk2630-new-york-universtity/LAB3_HPML' target=\"_blank\">https://wandb.ai/vk2630-new-york-universtity/LAB3_HPML</a>"
            ]
          },
          "metadata": {}
        },
        {
          "output_type": "display_data",
          "data": {
            "text/plain": [
              "<IPython.core.display.HTML object>"
            ],
            "text/html": [
              " View sweep at <a href='https://wandb.ai/vk2630-new-york-universtity/LAB3_HPML/sweeps/ty76xct2' target=\"_blank\">https://wandb.ai/vk2630-new-york-universtity/LAB3_HPML/sweeps/ty76xct2</a>"
            ]
          },
          "metadata": {}
        },
        {
          "output_type": "display_data",
          "data": {
            "text/plain": [
              "<IPython.core.display.HTML object>"
            ],
            "text/html": [
              " View run at <a href='https://wandb.ai/vk2630-new-york-universtity/LAB3_HPML/runs/waaab4tj' target=\"_blank\">https://wandb.ai/vk2630-new-york-universtity/LAB3_HPML/runs/waaab4tj</a>"
            ]
          },
          "metadata": {}
        },
        {
          "output_type": "stream",
          "name": "stdout",
          "text": [
            "Building encoder and decoder ...\n",
            "Models being build.\n",
            "Building optimizers ...\n",
            "Starting Training!\n",
            "Initializing ...\n",
            "Training...\n",
            "Iteration: 4000; Percent complete: 100.0%; Average loss: 2.3700"
          ]
        },
        {
          "output_type": "display_data",
          "data": {
            "text/plain": [
              "<IPython.core.display.HTML object>"
            ],
            "text/html": []
          },
          "metadata": {}
        },
        {
          "output_type": "display_data",
          "data": {
            "text/plain": [
              "<IPython.core.display.HTML object>"
            ],
            "text/html": [
              "<br>    <style><br>        .wandb-row {<br>            display: flex;<br>            flex-direction: row;<br>            flex-wrap: wrap;<br>            justify-content: flex-start;<br>            width: 100%;<br>        }<br>        .wandb-col {<br>            display: flex;<br>            flex-direction: column;<br>            flex-basis: 100%;<br>            flex: 1;<br>            padding: 10px;<br>        }<br>    </style><br><div class=\"wandb-row\"><div class=\"wandb-col\"><h3>Run history:</h3><br/><table class=\"wandb\"><tr><td>loss</td><td>█▅▆▆▅▄▃▄▄▃▃▃▅▃▃▄▃▂▂▃▃▂▂▃▄▂▃▃▂▂▂▃▂▃▁▂▂▂▂▂</td></tr></table><br/></div><div class=\"wandb-col\"><h3>Run summary:</h3><br/><table class=\"wandb\"><tr><td>loss</td><td>17.47288</td></tr></table><br/></div></div>"
            ]
          },
          "metadata": {}
        },
        {
          "output_type": "display_data",
          "data": {
            "text/plain": [
              "<IPython.core.display.HTML object>"
            ],
            "text/html": [
              " View run <strong style=\"color:#cdcd00\">good-sweep-25</strong> at: <a href='https://wandb.ai/vk2630-new-york-universtity/LAB3_HPML/runs/waaab4tj' target=\"_blank\">https://wandb.ai/vk2630-new-york-universtity/LAB3_HPML/runs/waaab4tj</a><br> View project at: <a href='https://wandb.ai/vk2630-new-york-universtity/LAB3_HPML' target=\"_blank\">https://wandb.ai/vk2630-new-york-universtity/LAB3_HPML</a><br>Synced 5 W&B file(s), 0 media file(s), 0 artifact file(s) and 0 other file(s)"
            ]
          },
          "metadata": {}
        },
        {
          "output_type": "display_data",
          "data": {
            "text/plain": [
              "<IPython.core.display.HTML object>"
            ],
            "text/html": [
              "Find logs at: <code>./wandb/run-20250316_043219-waaab4tj/logs</code>"
            ]
          },
          "metadata": {}
        }
      ]
    },
    {
      "cell_type": "markdown",
      "source": [
        "# Problem 2\n",
        "\n",
        "# Utilizing TorchScript"
      ],
      "metadata": {
        "id": "wEJa69T5qr3E"
      }
    },
    {
      "cell_type": "code",
      "source": [
        "# Modified GreedySearchDecoder for scripting the module\n",
        "\n",
        "class GreedySearchDecoderScript(torch.jit.ScriptModule):\n",
        "    def __init__(self, encoder, decoder, decoder_n_layers):\n",
        "        super(GreedySearchDecoderScript, self).__init__()\n",
        "        self.encoder = encoder\n",
        "        self.decoder = decoder\n",
        "        self._device = device\n",
        "        self._SOS_token = SOS_token\n",
        "        self._decoder_n_layers = decoder_n_layers\n",
        "\n",
        "    __constants__ = ['_device', '_SOS_token', '_decoder_n_layers']\n",
        "\n",
        "    @torch.jit.script_method\n",
        "    def forward(self, input_seq : torch.Tensor, input_length : torch.Tensor, max_length : int):\n",
        "        # Forward input through encoder model\n",
        "        encoder_outputs, encoder_hidden = self.encoder(input_seq, input_length)\n",
        "        # Prepare encoder's final hidden layer to be first hidden input to the decoder\n",
        "        decoder_hidden = encoder_hidden[:self._decoder_n_layers]\n",
        "        # Initialize decoder input with SOS_token\n",
        "        decoder_input = torch.ones(1, 1, device=self._device, dtype=torch.long) * self._SOS_token\n",
        "        # Initialize tensors to append decoded words to\n",
        "        all_tokens = torch.zeros([0], device=self._device, dtype=torch.long)\n",
        "        all_scores = torch.zeros([0], device=self._device)\n",
        "        # Iteratively decode one word token at a time\n",
        "        for _ in range(max_length):\n",
        "            # Forward pass through decoder\n",
        "            decoder_output, decoder_hidden = self.decoder(decoder_input, decoder_hidden, encoder_outputs)\n",
        "            # Obtain most likely word token and its softmax score\n",
        "            decoder_scores, decoder_input = torch.max(decoder_output, dim=1)\n",
        "            # Record token and score\n",
        "            all_tokens = torch.cat((all_tokens, decoder_input), dim=0)\n",
        "            all_scores = torch.cat((all_scores, decoder_scores), dim=0)\n",
        "            # Prepare current token to be next decoder input (add a dimension)\n",
        "            decoder_input = torch.unsqueeze(decoder_input, 0)\n",
        "        # Return collections of word tokens and scores\n",
        "        return all_tokens, all_scores"
      ],
      "metadata": {
        "id": "7Vzs0X5er7Ki"
      },
      "execution_count": 41,
      "outputs": []
    },
    {
      "cell_type": "code",
      "source": [
        "# Converting the previosuly model to TorchScript\n",
        "torchscript_search = torch.jit.script(search)\n",
        "\n",
        "# Printing the graph of the converted model\n",
        "torchscript_search.graph"
      ],
      "metadata": {
        "id": "r4JRtLMrpuZm",
        "colab": {
          "base_uri": "https://localhost:8080/"
        },
        "outputId": "c4d7f271-2429-466a-9268-48000e3b5410"
      },
      "execution_count": 42,
      "outputs": [
        {
          "output_type": "execute_result",
          "data": {
            "text/plain": [
              "graph(%self : __torch__.GreedySearchDecoder,\n",
              "      %input_seq.1 : Tensor,\n",
              "      %input_length.1 : Tensor,\n",
              "      %max_length.1 : int):\n",
              "  %60 : bool = prim::Constant[value=0]()\n",
              "  %49 : bool = prim::Constant[value=1]() # <ipython-input-17-d0c786c2d337>:20:8\n",
              "  %25 : int = prim::Constant[value=4]() # <ipython-input-17-d0c786c2d337>:15:71\n",
              "  %15 : NoneType = prim::Constant()\n",
              "  %SOS_token.1 : int = prim::Constant[value=1]() # <ipython-input-17-d0c786c2d337>:12:37\n",
              "  %33 : int = prim::Constant[value=0]() # <ipython-input-17-d0c786c2d337>:17:34\n",
              "  %encoder : __torch__.EncoderRNN = prim::GetAttr[name=\"encoder\"](%self)\n",
              "  %7 : (Tensor, Tensor) = prim::CallMethod[name=\"forward\"](%encoder, %input_seq.1, %input_length.1) # <ipython-input-17-d0c786c2d337>:8:42\n",
              "  %encoder_outputs.1 : Tensor, %encoder_hidden.1 : Tensor = prim::TupleUnpack(%7)\n",
              "  %decoder.1 : __torch__.LuongAttnDecoderRNN = prim::GetAttr[name=\"decoder\"](%self)\n",
              "  %n_layers : int = prim::GetAttr[name=\"n_layers\"](%decoder.1)\n",
              "  %decoder_hidden.1 : Tensor = aten::slice(%encoder_hidden.1, %33, %15, %n_layers, %SOS_token.1) # <ipython-input-17-d0c786c2d337>:10:25\n",
              "  %18 : int[] = aten::size(%input_seq.1) # <string>:13:9\n",
              "  %batch_size.1 : int = aten::__getitem__(%18, %SOS_token.1) # <ipython-input-17-d0c786c2d337>:12:21\n",
              "  %device.1 : Device = prim::device(%input_seq.1)\n",
              "  %27 : int[] = prim::ListConstruct(%SOS_token.1, %batch_size.1)\n",
              "  %30 : Tensor = aten::ones(%27, %25, %15, %device.1, %15) # <ipython-input-17-d0c786c2d337>:15:24\n",
              "  %decoder_input.1 : Tensor = aten::mul(%30, %SOS_token.1) # <ipython-input-17-d0c786c2d337>:15:24\n",
              "  %34 : int[] = prim::ListConstruct(%33)\n",
              "  %all_tokens.1 : Tensor = aten::zeros(%34, %25, %15, %device.1, %15) # <ipython-input-17-d0c786c2d337>:17:21\n",
              "  %40 : int[] = prim::ListConstruct(%33)\n",
              "  %all_scores.1 : Tensor = aten::zeros(%40, %15, %15, %device.1, %15) # <ipython-input-17-d0c786c2d337>:18:21\n",
              "  %all_tokens : Tensor, %all_scores : Tensor, %decoder_hidden : Tensor, %decoder_input : Tensor = prim::Loop(%max_length.1, %49, %all_tokens.1, %all_scores.1, %decoder_hidden.1, %decoder_input.1) # <ipython-input-17-d0c786c2d337>:20:8\n",
              "    block0(%50 : int, %all_tokens.11 : Tensor, %all_scores.11 : Tensor, %decoder_hidden.9 : Tensor, %decoder_input.17 : Tensor):\n",
              "      %decoder : __torch__.LuongAttnDecoderRNN = prim::GetAttr[name=\"decoder\"](%self)\n",
              "      %55 : (Tensor, Tensor) = prim::CallMethod[name=\"forward\"](%decoder, %decoder_input.17, %decoder_hidden.9, %encoder_outputs.1) # <ipython-input-17-d0c786c2d337>:22:45\n",
              "      %decoder_output.1 : Tensor, %decoder_hidden.5 : Tensor = prim::TupleUnpack(%55)\n",
              "      %decoder_scores.1 : Tensor, %decoder_input.5 : Tensor = aten::max(%decoder_output.1, %SOS_token.1, %60) # <ipython-input-17-d0c786c2d337>:24:44\n",
              "      %68 : Tensor[] = prim::ListConstruct(%all_tokens.11, %decoder_input.5)\n",
              "      %all_tokens.5 : Tensor = aten::cat(%68, %33) # <ipython-input-17-d0c786c2d337>:26:25\n",
              "      %74 : Tensor[] = prim::ListConstruct(%all_scores.11, %decoder_scores.1)\n",
              "      %all_scores.5 : Tensor = aten::cat(%74, %33) # <ipython-input-17-d0c786c2d337>:27:25\n",
              "      %decoder_input.13 : Tensor = aten::unsqueeze(%decoder_input.5, %33) # <ipython-input-17-d0c786c2d337>:29:28\n",
              "      -> (%49, %all_tokens.5, %all_scores.5, %decoder_hidden.5, %decoder_input.13)\n",
              "  %82 : (Tensor, Tensor) = prim::TupleConstruct(%all_tokens, %all_scores)\n",
              "  return (%82)"
            ]
          },
          "metadata": {},
          "execution_count": 42
        }
      ]
    },
    {
      "cell_type": "markdown",
      "source": [
        " # Evaluating the Torchscript model"
      ],
      "metadata": {
        "id": "aBSAdVL3rrlA"
      }
    },
    {
      "cell_type": "code",
      "source": [
        "# Evaluating the Torchscript model with GPU\n",
        "torchscript_gpu = evaluateTrainData(torchscript_search, eval_batches, n_iteration, \"cuda\")"
      ],
      "metadata": {
        "id": "4x17cOSOpuW5",
        "colab": {
          "base_uri": "https://localhost:8080/"
        },
        "outputId": "5df2148c-8c1b-41e1-a3d2-c0ee8c7cab5d"
      },
      "execution_count": 43,
      "outputs": [
        {
          "output_type": "stream",
          "name": "stderr",
          "text": [
            "/usr/local/lib/python3.11/dist-packages/torch/nn/modules/module.py:1750: UserWarning: RNN module weights are not part of single contiguous chunk of memory. This means they need to be compacted at every call, possibly greatly increasing memory usage. To compact weights again call flatten_parameters(). (Triggered internally at /pytorch/aten/src/ATen/native/cudnn/RNN.cpp:1412.)\n",
            "  return forward_call(*args, **kwargs)\n"
          ]
        }
      ]
    },
    {
      "cell_type": "code",
      "source": [
        "# Evaluating the Torchscript model with CPU\n",
        "torchscript_cpu = evaluateTrainData(torchscript_search, eval_batches, n_iteration, \"cuda\")"
      ],
      "metadata": {
        "id": "oVWUTieSpuTo"
      },
      "execution_count": 44,
      "outputs": []
    },
    {
      "cell_type": "markdown",
      "source": [
        "# Comparing the latency"
      ],
      "metadata": {
        "id": "FbsQCY8ysCFK"
      }
    },
    {
      "cell_type": "code",
      "source": [
        "df = pd.DataFrame({'Latency on CPU (ms)': [0, 0],\n",
        "                   'Latency on GPU (ms)': [0, 0]},\n",
        "                  index=['Pytorch', 'Torchscript'])\n",
        "\n",
        "\n",
        "df.loc['Torchscript', 'Latency on CPU (ms)'] = torchscript_cpu.mean()\n",
        "df.loc['Torchscript', 'Latency on GPU (ms)'] = torchscript_gpu.mean()\n",
        "\n",
        "df.loc['Pytorch', 'Latency on CPU (ms)'] = cpu.mean()\n",
        "df.loc['Pytorch', 'Latency on GPU (ms)'] = gpu.mean()\n",
        "\n",
        "df.loc['SpeedUp'] = df.iloc[0] / df.iloc[1]\n",
        "\n",
        "df.to_csv('latency.csv', index=True)\n",
        "\n",
        "df"
      ],
      "metadata": {
        "id": "dHM85OoRpuL2",
        "colab": {
          "base_uri": "https://localhost:8080/",
          "height": 236
        },
        "outputId": "34964e41-5b87-44ab-cb46-e7eb3d68259b"
      },
      "execution_count": 45,
      "outputs": [
        {
          "output_type": "stream",
          "name": "stderr",
          "text": [
            "<ipython-input-45-8ed0f786c653>:6: FutureWarning: Setting an item of incompatible dtype is deprecated and will raise an error in a future version of pandas. Value '13.652193819148932' has dtype incompatible with int64, please explicitly cast to a compatible dtype first.\n",
            "  df.loc['Torchscript', 'Latency on CPU (ms)'] = torchscript_cpu.mean()\n",
            "<ipython-input-45-8ed0f786c653>:7: FutureWarning: Setting an item of incompatible dtype is deprecated and will raise an error in a future version of pandas. Value '19.02361009574468' has dtype incompatible with int64, please explicitly cast to a compatible dtype first.\n",
            "  df.loc['Torchscript', 'Latency on GPU (ms)'] = torchscript_gpu.mean()\n"
          ]
        },
        {
          "output_type": "execute_result",
          "data": {
            "text/plain": [
              "             Latency on CPU (ms)  Latency on GPU (ms)\n",
              "Pytorch               345.456431            10.838052\n",
              "Torchscript            13.652194            19.023610\n",
              "SpeedUp                25.304097             0.569716"
            ],
            "text/html": [
              "\n",
              "  <div id=\"df-50c0f6d0-9840-4865-b5b8-fbfc158e15d9\" class=\"colab-df-container\">\n",
              "    <div>\n",
              "<style scoped>\n",
              "    .dataframe tbody tr th:only-of-type {\n",
              "        vertical-align: middle;\n",
              "    }\n",
              "\n",
              "    .dataframe tbody tr th {\n",
              "        vertical-align: top;\n",
              "    }\n",
              "\n",
              "    .dataframe thead th {\n",
              "        text-align: right;\n",
              "    }\n",
              "</style>\n",
              "<table border=\"1\" class=\"dataframe\">\n",
              "  <thead>\n",
              "    <tr style=\"text-align: right;\">\n",
              "      <th></th>\n",
              "      <th>Latency on CPU (ms)</th>\n",
              "      <th>Latency on GPU (ms)</th>\n",
              "    </tr>\n",
              "  </thead>\n",
              "  <tbody>\n",
              "    <tr>\n",
              "      <th>Pytorch</th>\n",
              "      <td>345.456431</td>\n",
              "      <td>10.838052</td>\n",
              "    </tr>\n",
              "    <tr>\n",
              "      <th>Torchscript</th>\n",
              "      <td>13.652194</td>\n",
              "      <td>19.023610</td>\n",
              "    </tr>\n",
              "    <tr>\n",
              "      <th>SpeedUp</th>\n",
              "      <td>25.304097</td>\n",
              "      <td>0.569716</td>\n",
              "    </tr>\n",
              "  </tbody>\n",
              "</table>\n",
              "</div>\n",
              "    <div class=\"colab-df-buttons\">\n",
              "\n",
              "  <div class=\"colab-df-container\">\n",
              "    <button class=\"colab-df-convert\" onclick=\"convertToInteractive('df-50c0f6d0-9840-4865-b5b8-fbfc158e15d9')\"\n",
              "            title=\"Convert this dataframe to an interactive table.\"\n",
              "            style=\"display:none;\">\n",
              "\n",
              "  <svg xmlns=\"http://www.w3.org/2000/svg\" height=\"24px\" viewBox=\"0 -960 960 960\">\n",
              "    <path d=\"M120-120v-720h720v720H120Zm60-500h600v-160H180v160Zm220 220h160v-160H400v160Zm0 220h160v-160H400v160ZM180-400h160v-160H180v160Zm440 0h160v-160H620v160ZM180-180h160v-160H180v160Zm440 0h160v-160H620v160Z\"/>\n",
              "  </svg>\n",
              "    </button>\n",
              "\n",
              "  <style>\n",
              "    .colab-df-container {\n",
              "      display:flex;\n",
              "      gap: 12px;\n",
              "    }\n",
              "\n",
              "    .colab-df-convert {\n",
              "      background-color: #E8F0FE;\n",
              "      border: none;\n",
              "      border-radius: 50%;\n",
              "      cursor: pointer;\n",
              "      display: none;\n",
              "      fill: #1967D2;\n",
              "      height: 32px;\n",
              "      padding: 0 0 0 0;\n",
              "      width: 32px;\n",
              "    }\n",
              "\n",
              "    .colab-df-convert:hover {\n",
              "      background-color: #E2EBFA;\n",
              "      box-shadow: 0px 1px 2px rgba(60, 64, 67, 0.3), 0px 1px 3px 1px rgba(60, 64, 67, 0.15);\n",
              "      fill: #174EA6;\n",
              "    }\n",
              "\n",
              "    .colab-df-buttons div {\n",
              "      margin-bottom: 4px;\n",
              "    }\n",
              "\n",
              "    [theme=dark] .colab-df-convert {\n",
              "      background-color: #3B4455;\n",
              "      fill: #D2E3FC;\n",
              "    }\n",
              "\n",
              "    [theme=dark] .colab-df-convert:hover {\n",
              "      background-color: #434B5C;\n",
              "      box-shadow: 0px 1px 3px 1px rgba(0, 0, 0, 0.15);\n",
              "      filter: drop-shadow(0px 1px 2px rgba(0, 0, 0, 0.3));\n",
              "      fill: #FFFFFF;\n",
              "    }\n",
              "  </style>\n",
              "\n",
              "    <script>\n",
              "      const buttonEl =\n",
              "        document.querySelector('#df-50c0f6d0-9840-4865-b5b8-fbfc158e15d9 button.colab-df-convert');\n",
              "      buttonEl.style.display =\n",
              "        google.colab.kernel.accessAllowed ? 'block' : 'none';\n",
              "\n",
              "      async function convertToInteractive(key) {\n",
              "        const element = document.querySelector('#df-50c0f6d0-9840-4865-b5b8-fbfc158e15d9');\n",
              "        const dataTable =\n",
              "          await google.colab.kernel.invokeFunction('convertToInteractive',\n",
              "                                                    [key], {});\n",
              "        if (!dataTable) return;\n",
              "\n",
              "        const docLinkHtml = 'Like what you see? Visit the ' +\n",
              "          '<a target=\"_blank\" href=https://colab.research.google.com/notebooks/data_table.ipynb>data table notebook</a>'\n",
              "          + ' to learn more about interactive tables.';\n",
              "        element.innerHTML = '';\n",
              "        dataTable['output_type'] = 'display_data';\n",
              "        await google.colab.output.renderOutput(dataTable, element);\n",
              "        const docLink = document.createElement('div');\n",
              "        docLink.innerHTML = docLinkHtml;\n",
              "        element.appendChild(docLink);\n",
              "      }\n",
              "    </script>\n",
              "  </div>\n",
              "\n",
              "\n",
              "<div id=\"df-4b6f0d97-8afc-4253-877c-f75c0345f535\">\n",
              "  <button class=\"colab-df-quickchart\" onclick=\"quickchart('df-4b6f0d97-8afc-4253-877c-f75c0345f535')\"\n",
              "            title=\"Suggest charts\"\n",
              "            style=\"display:none;\">\n",
              "\n",
              "<svg xmlns=\"http://www.w3.org/2000/svg\" height=\"24px\"viewBox=\"0 0 24 24\"\n",
              "     width=\"24px\">\n",
              "    <g>\n",
              "        <path d=\"M19 3H5c-1.1 0-2 .9-2 2v14c0 1.1.9 2 2 2h14c1.1 0 2-.9 2-2V5c0-1.1-.9-2-2-2zM9 17H7v-7h2v7zm4 0h-2V7h2v10zm4 0h-2v-4h2v4z\"/>\n",
              "    </g>\n",
              "</svg>\n",
              "  </button>\n",
              "\n",
              "<style>\n",
              "  .colab-df-quickchart {\n",
              "      --bg-color: #E8F0FE;\n",
              "      --fill-color: #1967D2;\n",
              "      --hover-bg-color: #E2EBFA;\n",
              "      --hover-fill-color: #174EA6;\n",
              "      --disabled-fill-color: #AAA;\n",
              "      --disabled-bg-color: #DDD;\n",
              "  }\n",
              "\n",
              "  [theme=dark] .colab-df-quickchart {\n",
              "      --bg-color: #3B4455;\n",
              "      --fill-color: #D2E3FC;\n",
              "      --hover-bg-color: #434B5C;\n",
              "      --hover-fill-color: #FFFFFF;\n",
              "      --disabled-bg-color: #3B4455;\n",
              "      --disabled-fill-color: #666;\n",
              "  }\n",
              "\n",
              "  .colab-df-quickchart {\n",
              "    background-color: var(--bg-color);\n",
              "    border: none;\n",
              "    border-radius: 50%;\n",
              "    cursor: pointer;\n",
              "    display: none;\n",
              "    fill: var(--fill-color);\n",
              "    height: 32px;\n",
              "    padding: 0;\n",
              "    width: 32px;\n",
              "  }\n",
              "\n",
              "  .colab-df-quickchart:hover {\n",
              "    background-color: var(--hover-bg-color);\n",
              "    box-shadow: 0 1px 2px rgba(60, 64, 67, 0.3), 0 1px 3px 1px rgba(60, 64, 67, 0.15);\n",
              "    fill: var(--button-hover-fill-color);\n",
              "  }\n",
              "\n",
              "  .colab-df-quickchart-complete:disabled,\n",
              "  .colab-df-quickchart-complete:disabled:hover {\n",
              "    background-color: var(--disabled-bg-color);\n",
              "    fill: var(--disabled-fill-color);\n",
              "    box-shadow: none;\n",
              "  }\n",
              "\n",
              "  .colab-df-spinner {\n",
              "    border: 2px solid var(--fill-color);\n",
              "    border-color: transparent;\n",
              "    border-bottom-color: var(--fill-color);\n",
              "    animation:\n",
              "      spin 1s steps(1) infinite;\n",
              "  }\n",
              "\n",
              "  @keyframes spin {\n",
              "    0% {\n",
              "      border-color: transparent;\n",
              "      border-bottom-color: var(--fill-color);\n",
              "      border-left-color: var(--fill-color);\n",
              "    }\n",
              "    20% {\n",
              "      border-color: transparent;\n",
              "      border-left-color: var(--fill-color);\n",
              "      border-top-color: var(--fill-color);\n",
              "    }\n",
              "    30% {\n",
              "      border-color: transparent;\n",
              "      border-left-color: var(--fill-color);\n",
              "      border-top-color: var(--fill-color);\n",
              "      border-right-color: var(--fill-color);\n",
              "    }\n",
              "    40% {\n",
              "      border-color: transparent;\n",
              "      border-right-color: var(--fill-color);\n",
              "      border-top-color: var(--fill-color);\n",
              "    }\n",
              "    60% {\n",
              "      border-color: transparent;\n",
              "      border-right-color: var(--fill-color);\n",
              "    }\n",
              "    80% {\n",
              "      border-color: transparent;\n",
              "      border-right-color: var(--fill-color);\n",
              "      border-bottom-color: var(--fill-color);\n",
              "    }\n",
              "    90% {\n",
              "      border-color: transparent;\n",
              "      border-bottom-color: var(--fill-color);\n",
              "    }\n",
              "  }\n",
              "</style>\n",
              "\n",
              "  <script>\n",
              "    async function quickchart(key) {\n",
              "      const quickchartButtonEl =\n",
              "        document.querySelector('#' + key + ' button');\n",
              "      quickchartButtonEl.disabled = true;  // To prevent multiple clicks.\n",
              "      quickchartButtonEl.classList.add('colab-df-spinner');\n",
              "      try {\n",
              "        const charts = await google.colab.kernel.invokeFunction(\n",
              "            'suggestCharts', [key], {});\n",
              "      } catch (error) {\n",
              "        console.error('Error during call to suggestCharts:', error);\n",
              "      }\n",
              "      quickchartButtonEl.classList.remove('colab-df-spinner');\n",
              "      quickchartButtonEl.classList.add('colab-df-quickchart-complete');\n",
              "    }\n",
              "    (() => {\n",
              "      let quickchartButtonEl =\n",
              "        document.querySelector('#df-4b6f0d97-8afc-4253-877c-f75c0345f535 button');\n",
              "      quickchartButtonEl.style.display =\n",
              "        google.colab.kernel.accessAllowed ? 'block' : 'none';\n",
              "    })();\n",
              "  </script>\n",
              "</div>\n",
              "\n",
              "  <div id=\"id_13b5fe87-98d4-4889-a776-1f3dd5bd7732\">\n",
              "    <style>\n",
              "      .colab-df-generate {\n",
              "        background-color: #E8F0FE;\n",
              "        border: none;\n",
              "        border-radius: 50%;\n",
              "        cursor: pointer;\n",
              "        display: none;\n",
              "        fill: #1967D2;\n",
              "        height: 32px;\n",
              "        padding: 0 0 0 0;\n",
              "        width: 32px;\n",
              "      }\n",
              "\n",
              "      .colab-df-generate:hover {\n",
              "        background-color: #E2EBFA;\n",
              "        box-shadow: 0px 1px 2px rgba(60, 64, 67, 0.3), 0px 1px 3px 1px rgba(60, 64, 67, 0.15);\n",
              "        fill: #174EA6;\n",
              "      }\n",
              "\n",
              "      [theme=dark] .colab-df-generate {\n",
              "        background-color: #3B4455;\n",
              "        fill: #D2E3FC;\n",
              "      }\n",
              "\n",
              "      [theme=dark] .colab-df-generate:hover {\n",
              "        background-color: #434B5C;\n",
              "        box-shadow: 0px 1px 3px 1px rgba(0, 0, 0, 0.15);\n",
              "        filter: drop-shadow(0px 1px 2px rgba(0, 0, 0, 0.3));\n",
              "        fill: #FFFFFF;\n",
              "      }\n",
              "    </style>\n",
              "    <button class=\"colab-df-generate\" onclick=\"generateWithVariable('df')\"\n",
              "            title=\"Generate code using this dataframe.\"\n",
              "            style=\"display:none;\">\n",
              "\n",
              "  <svg xmlns=\"http://www.w3.org/2000/svg\" height=\"24px\"viewBox=\"0 0 24 24\"\n",
              "       width=\"24px\">\n",
              "    <path d=\"M7,19H8.4L18.45,9,17,7.55,7,17.6ZM5,21V16.75L18.45,3.32a2,2,0,0,1,2.83,0l1.4,1.43a1.91,1.91,0,0,1,.58,1.4,1.91,1.91,0,0,1-.58,1.4L9.25,21ZM18.45,9,17,7.55Zm-12,3A5.31,5.31,0,0,0,4.9,8.1,5.31,5.31,0,0,0,1,6.5,5.31,5.31,0,0,0,4.9,4.9,5.31,5.31,0,0,0,6.5,1,5.31,5.31,0,0,0,8.1,4.9,5.31,5.31,0,0,0,12,6.5,5.46,5.46,0,0,0,6.5,12Z\"/>\n",
              "  </svg>\n",
              "    </button>\n",
              "    <script>\n",
              "      (() => {\n",
              "      const buttonEl =\n",
              "        document.querySelector('#id_13b5fe87-98d4-4889-a776-1f3dd5bd7732 button.colab-df-generate');\n",
              "      buttonEl.style.display =\n",
              "        google.colab.kernel.accessAllowed ? 'block' : 'none';\n",
              "\n",
              "      buttonEl.onclick = () => {\n",
              "        google.colab.notebook.generateWithVariable('df');\n",
              "      }\n",
              "      })();\n",
              "    </script>\n",
              "  </div>\n",
              "\n",
              "    </div>\n",
              "  </div>\n"
            ],
            "application/vnd.google.colaboratory.intrinsic+json": {
              "type": "dataframe",
              "variable_name": "df",
              "summary": "{\n  \"name\": \"df\",\n  \"rows\": 3,\n  \"fields\": [\n    {\n      \"column\": \"Latency on CPU (ms)\",\n      \"properties\": {\n        \"dtype\": \"number\",\n        \"std\": 188.29380224652917,\n        \"min\": 13.652193819148932,\n        \"max\": 345.456430925532,\n        \"num_unique_values\": 3,\n        \"samples\": [\n          345.456430925532,\n          13.652193819148932,\n          25.304096579773542\n        ],\n        \"semantic_type\": \"\",\n        \"description\": \"\"\n      }\n    },\n    {\n      \"column\": \"Latency on GPU (ms)\",\n      \"properties\": {\n        \"dtype\": \"number\",\n        \"std\": 9.246515579305209,\n        \"min\": 0.5697158441830505,\n        \"max\": 19.02361009574468,\n        \"num_unique_values\": 3,\n        \"samples\": [\n          10.838052085106384,\n          19.02361009574468,\n          0.5697158441830505\n        ],\n        \"semantic_type\": \"\",\n        \"description\": \"\"\n      }\n    }\n  ]\n}"
            }
          },
          "metadata": {},
          "execution_count": 45
        }
      ]
    },
    {
      "cell_type": "markdown",
      "source": [
        "# Saving the model"
      ],
      "metadata": {
        "id": "d3w7a_W2sOeE"
      }
    },
    {
      "cell_type": "code",
      "source": [
        "# Saving and serializing the model for use\n",
        "torchscript_search.save(\"torchscript_search.pt\")"
      ],
      "metadata": {
        "id": "Ozh7NpwssNvv"
      },
      "execution_count": 46,
      "outputs": []
    }
  ]
}